{
 "cells": [
  {
   "cell_type": "code",
   "execution_count": 140,
   "id": "92ebacf0",
   "metadata": {},
   "outputs": [],
   "source": [
    "import pandas as pd\n",
    "import numpy as np\n",
    "import polars as pl\n",
    "import os\n",
    "from os import listdir\n",
    "from os.path import isfile, join\n",
    "import sketch\n",
    "from pandas_datareader import data as web\n",
    "import yfinance as yf\n",
    "yf.pdr_override()"
   ]
  },
  {
   "cell_type": "markdown",
   "id": "6d5d1675",
   "metadata": {},
   "source": [
    "<font size = 6>CSV REUSABLE METHOD</font>"
   ]
  },
  {
   "cell_type": "code",
   "execution_count": 8,
   "id": "8795ef18",
   "metadata": {},
   "outputs": [],
   "source": [
    "def get_df_info(csv):\n",
    "    try:\n",
    "        df = pd.read_csv(csv)    \n",
    "    except FileNotFoundError:\n",
    "        pass\n",
    "    return df\n",
    "        \n",
    "            "
   ]
  },
  {
   "cell_type": "code",
   "execution_count": 9,
   "id": "17fd3980",
   "metadata": {},
   "outputs": [],
   "source": [
    "bills = get_df_info('it.csv')\n",
    "#billy = get_df_info('yall.csv')"
   ]
  },
  {
   "cell_type": "code",
   "execution_count": 10,
   "id": "e20e8181",
   "metadata": {},
   "outputs": [
    {
     "data": {
      "text/html": [
       "<div>\n",
       "<style scoped>\n",
       "    .dataframe tbody tr th:only-of-type {\n",
       "        vertical-align: middle;\n",
       "    }\n",
       "\n",
       "    .dataframe tbody tr th {\n",
       "        vertical-align: top;\n",
       "    }\n",
       "\n",
       "    .dataframe thead th {\n",
       "        text-align: right;\n",
       "    }\n",
       "</style>\n",
       "<table border=\"1\" class=\"dataframe\">\n",
       "  <thead>\n",
       "    <tr style=\"text-align: right;\">\n",
       "      <th></th>\n",
       "      <th>Amount</th>\n",
       "      <th>Bills</th>\n",
       "    </tr>\n",
       "  </thead>\n",
       "  <tbody>\n",
       "    <tr>\n",
       "      <th>0</th>\n",
       "      <td>2200.0</td>\n",
       "      <td>Mortgage</td>\n",
       "    </tr>\n",
       "    <tr>\n",
       "      <th>1</th>\n",
       "      <td>110.0</td>\n",
       "      <td>Energy</td>\n",
       "    </tr>\n",
       "    <tr>\n",
       "      <th>2</th>\n",
       "      <td>50.0</td>\n",
       "      <td>Gas</td>\n",
       "    </tr>\n",
       "    <tr>\n",
       "      <th>3</th>\n",
       "      <td>100.0</td>\n",
       "      <td>Water</td>\n",
       "    </tr>\n",
       "    <tr>\n",
       "      <th>4</th>\n",
       "      <td>589.0</td>\n",
       "      <td>Car</td>\n",
       "    </tr>\n",
       "    <tr>\n",
       "      <th>5</th>\n",
       "      <td>500.0</td>\n",
       "      <td>Car2</td>\n",
       "    </tr>\n",
       "    <tr>\n",
       "      <th>6</th>\n",
       "      <td>599.0</td>\n",
       "      <td>Car3</td>\n",
       "    </tr>\n",
       "    <tr>\n",
       "      <th>7</th>\n",
       "      <td>1014.0</td>\n",
       "      <td>Childcare</td>\n",
       "    </tr>\n",
       "    <tr>\n",
       "      <th>8</th>\n",
       "      <td>1100.0</td>\n",
       "      <td>Childcare2</td>\n",
       "    </tr>\n",
       "    <tr>\n",
       "      <th>9</th>\n",
       "      <td>275.0</td>\n",
       "      <td>Phone</td>\n",
       "    </tr>\n",
       "    <tr>\n",
       "      <th>10</th>\n",
       "      <td>286.0</td>\n",
       "      <td>Insurance</td>\n",
       "    </tr>\n",
       "    <tr>\n",
       "      <th>11</th>\n",
       "      <td>6823.0</td>\n",
       "      <td>NaN</td>\n",
       "    </tr>\n",
       "    <tr>\n",
       "      <th>12</th>\n",
       "      <td>NaN</td>\n",
       "      <td>NaN</td>\n",
       "    </tr>\n",
       "    <tr>\n",
       "      <th>13</th>\n",
       "      <td>NaN</td>\n",
       "      <td>NaN</td>\n",
       "    </tr>\n",
       "  </tbody>\n",
       "</table>\n",
       "</div>"
      ],
      "text/plain": [
       "    Amount       Bills\n",
       "0   2200.0    Mortgage\n",
       "1    110.0      Energy\n",
       "2     50.0         Gas\n",
       "3    100.0       Water\n",
       "4    589.0         Car\n",
       "5    500.0        Car2\n",
       "6    599.0        Car3\n",
       "7   1014.0   Childcare\n",
       "8   1100.0  Childcare2\n",
       "9    275.0       Phone\n",
       "10   286.0   Insurance\n",
       "11  6823.0         NaN\n",
       "12     NaN         NaN\n",
       "13     NaN         NaN"
      ]
     },
     "execution_count": 10,
     "metadata": {},
     "output_type": "execute_result"
    }
   ],
   "source": [
    "#bills['Amount']\n",
    "bills[['Amount','Bills']]"
   ]
  },
  {
   "cell_type": "markdown",
   "id": "c3e7fc6a",
   "metadata": {},
   "source": [
    "CURRENT GOVERNORS"
   ]
  },
  {
   "cell_type": "code",
   "execution_count": 11,
   "id": "d85ff6eb",
   "metadata": {},
   "outputs": [
    {
     "data": {
      "text/plain": [
       "0                   Kay Ivey\n",
       "1              Mike Dunleavy\n",
       "2                Katie Hobbs\n",
       "3     Sarah Huckabee Sanders\n",
       "4               Gavin Newsom\n",
       "5                Jared Polis\n",
       "6                 Ned Lamont\n",
       "7                John Carney\n",
       "8               Ron DeSantis\n",
       "9                 Brian Kemp\n",
       "10                Josh Green\n",
       "11               Brad Little\n",
       "12            J. B. Pritzker\n",
       "13              Eric Holcomb\n",
       "14              Kim Reynolds\n",
       "15               Laura Kelly\n",
       "16              Andy Beshear\n",
       "17          John Bel Edwards\n",
       "18               Janet Mills\n",
       "19                 Wes Moore\n",
       "20              Maura Healey\n",
       "21          Gretchen Whitmer\n",
       "22                  Tim Walz\n",
       "23               Tate Reeves\n",
       "24               Mike Parson\n",
       "25            Greg Gianforte\n",
       "26                Jim Pillen\n",
       "27              Joe Lombardo\n",
       "28              Chris Sununu\n",
       "29               Phil Murphy\n",
       "30    Michelle Lujan Grisham\n",
       "31              Kathy Hochul\n",
       "32                Roy Cooper\n",
       "33               Doug Burgum\n",
       "34               Mike DeWine\n",
       "35               Kevin Stitt\n",
       "36                Tina Kotek\n",
       "37              Josh Shapiro\n",
       "38                 Dan McKee\n",
       "39            Henry McMaster\n",
       "40               Kristi Noem\n",
       "41                  Bill Lee\n",
       "42               Greg Abbott\n",
       "43               Spencer Cox\n",
       "44                Phil Scott\n",
       "45            Glenn Youngkin\n",
       "46                Jay Inslee\n",
       "47               Jim Justice\n",
       "48                Tony Evers\n",
       "49               Mark Gordon\n",
       "Name: Governor, dtype: object"
      ]
     },
     "execution_count": 11,
     "metadata": {},
     "output_type": "execute_result"
    }
   ],
   "source": [
    "#current_governors = pd.read_html(\"https://en.wikipedia.org/wiki/List_of_current_United_States_governors\", header=1)[1]\n",
    "current_governors = pd.read_html(\"https://en.wikipedia.org/wiki/List_of_current_United_States_governors\")[1]\n",
    "current_governors.columns = current_governors.columns.droplevel()\n",
    "current_governors['Governor']"
   ]
  },
  {
   "cell_type": "code",
   "execution_count": 12,
   "id": "96221a43",
   "metadata": {},
   "outputs": [
    {
     "data": {
      "text/plain": [
       "State\n",
       "Alabama (list)           (age 78)\n",
       "Alaska (list)            (age 62)\n",
       "Arizona (list)           (age 53)\n",
       "Arkansas (list)          (age 40)\n",
       "California (list)        (age 55)\n",
       "Colorado (list)          (age 48)\n",
       "Connecticut (list)       (age 69)\n",
       "Delaware (list)          (age 67)\n",
       "Florida (list)           (age 44)\n",
       "Georgia (list)           (age 59)\n",
       "Hawaii (list)            (age 53)\n",
       "Idaho (list)             (age 69)\n",
       "Illinois (list)          (age 58)\n",
       "Indiana (list)           (age 55)\n",
       "Iowa (list)              (age 63)\n",
       "Kansas (list)            (age 73)\n",
       "Kentucky (list)          (age 45)\n",
       "Louisiana (list)         (age 56)\n",
       "Maine (list)             (age 75)\n",
       "Maryland (list)          (age 44)\n",
       "Massachusetts (list)     (age 52)\n",
       "Michigan (list)          (age 51)\n",
       "Minnesota (list)         (age 59)\n",
       "Mississippi (list)       (age 49)\n",
       "Missouri (list)          (age 67)\n",
       "Montana (list)           (age 62)\n",
       "Nebraska (list)          (age 67)\n",
       "Nevada (list)            (age 60)\n",
       "New Hampshire (list)     (age 48)\n",
       "New Jersey (list)        (age 65)\n",
       "New Mexico (list)        (age 63)\n",
       "New York (list)          (age 64)\n",
       "North Carolina (list)    (age 66)\n",
       "North Dakota (list)      (age 66)\n",
       "Ohio (list)              (age 76)\n",
       "Oklahoma (list)          (age 50)\n",
       "Oregon (list)            (age 56)\n",
       "Pennsylvania (list)      (age 50)\n",
       "Rhode Island (list)      (age 72)\n",
       "South Carolina (list)    (age 76)\n",
       "South Dakota (list)      (age 51)\n",
       "Tennessee (list)         (age 63)\n",
       "Texas (list)             (age 65)\n",
       "Utah (list)              (age 47)\n",
       "Vermont (list)           (age 64)\n",
       "Virginia (list)          (age 56)\n",
       "Washington (list)        (age 72)\n",
       "West Virginia (list)     (age 72)\n",
       "Wisconsin (list)         (age 71)\n",
       "Wyoming (list)           (age 66)\n",
       "Name: Born, dtype: object"
      ]
     },
     "execution_count": 12,
     "metadata": {},
     "output_type": "execute_result"
    }
   ],
   "source": [
    "current_governors = pd.read_html(\"https://en.wikipedia.org/wiki/List_of_current_United_States_governors\", header=1, index_col=0)[1]\n",
    "current_governors.Born\n"
   ]
  },
  {
   "cell_type": "code",
   "execution_count": 13,
   "id": "3ecea5ab",
   "metadata": {},
   "outputs": [
    {
     "data": {
      "text/html": [
       "<div>\n",
       "<style scoped>\n",
       "    .dataframe tbody tr th:only-of-type {\n",
       "        vertical-align: middle;\n",
       "    }\n",
       "\n",
       "    .dataframe tbody tr th {\n",
       "        vertical-align: top;\n",
       "    }\n",
       "\n",
       "    .dataframe thead th {\n",
       "        text-align: right;\n",
       "    }\n",
       "</style>\n",
       "<table border=\"1\" class=\"dataframe\">\n",
       "  <thead>\n",
       "    <tr style=\"text-align: right;\">\n",
       "      <th></th>\n",
       "      <th>Version</th>\n",
       "      <th>Codename</th>\n",
       "      <th>Edition</th>\n",
       "      <th>Codebase</th>\n",
       "      <th>Compatible repository</th>\n",
       "      <th>Default desktop environment</th>\n",
       "      <th>Release date</th>\n",
       "      <th>LTS</th>\n",
       "      <th>Support end</th>\n",
       "    </tr>\n",
       "  </thead>\n",
       "  <tbody>\n",
       "    <tr>\n",
       "      <th>0</th>\n",
       "      <td>NaN</td>\n",
       "      <td>Ada</td>\n",
       "      <td>Main</td>\n",
       "      <td>Kubuntu 6.06</td>\n",
       "      <td>Kubuntu 6.06</td>\n",
       "      <td>KDE</td>\n",
       "      <td>27 August 2006</td>\n",
       "      <td>—</td>\n",
       "      <td>Un­known</td>\n",
       "    </tr>\n",
       "    <tr>\n",
       "      <th>1</th>\n",
       "      <td>NaN</td>\n",
       "      <td>Barbara</td>\n",
       "      <td>Main</td>\n",
       "      <td>Ubuntu 6.10 (Edgy Eft)</td>\n",
       "      <td>Ubuntu 6.10 (Edgy Eft)</td>\n",
       "      <td>GNOME</td>\n",
       "      <td>13 November 2006</td>\n",
       "      <td>—</td>\n",
       "      <td>April 2008</td>\n",
       "    </tr>\n",
       "    <tr>\n",
       "      <th>2</th>\n",
       "      <td>NaN</td>\n",
       "      <td>Bea</td>\n",
       "      <td>Main</td>\n",
       "      <td>Ubuntu 6.10 (Edgy Eft)</td>\n",
       "      <td>Ubuntu 6.10 (Edgy Eft)</td>\n",
       "      <td>GNOME</td>\n",
       "      <td>20 December 2006</td>\n",
       "      <td>—</td>\n",
       "      <td>April 2008</td>\n",
       "    </tr>\n",
       "    <tr>\n",
       "      <th>3</th>\n",
       "      <td>NaN</td>\n",
       "      <td>Bianca</td>\n",
       "      <td>Main</td>\n",
       "      <td>Ubuntu 6.10 (Edgy Eft)</td>\n",
       "      <td>Ubuntu 6.10 (Edgy Eft)</td>\n",
       "      <td>GNOME</td>\n",
       "      <td>20 February 2007</td>\n",
       "      <td>—</td>\n",
       "      <td>April 2008</td>\n",
       "    </tr>\n",
       "    <tr>\n",
       "      <th>4</th>\n",
       "      <td>NaN</td>\n",
       "      <td>Bianca</td>\n",
       "      <td>Light</td>\n",
       "      <td>Ubuntu 6.10 (Edgy Eft)</td>\n",
       "      <td>Ubuntu 6.10 (Edgy Eft)</td>\n",
       "      <td>GNOME</td>\n",
       "      <td>29 March 2007</td>\n",
       "      <td>—</td>\n",
       "      <td>April 2008</td>\n",
       "    </tr>\n",
       "    <tr>\n",
       "      <th>...</th>\n",
       "      <td>...</td>\n",
       "      <td>...</td>\n",
       "      <td>...</td>\n",
       "      <td>...</td>\n",
       "      <td>...</td>\n",
       "      <td>...</td>\n",
       "      <td>...</td>\n",
       "      <td>...</td>\n",
       "      <td>...</td>\n",
       "    </tr>\n",
       "    <tr>\n",
       "      <th>95</th>\n",
       "      <td>NaN</td>\n",
       "      <td>Una[60]</td>\n",
       "      <td>Cinnamon MATE Xfce</td>\n",
       "      <td>Ubuntu 20.04 LTS (Focal Fossa)</td>\n",
       "      <td>Ubuntu 20.04 LTS (Focal Fossa)</td>\n",
       "      <td>Cinnamon MATE Xfce</td>\n",
       "      <td>7 January 2022</td>\n",
       "      <td>Yes</td>\n",
       "      <td>April 2025</td>\n",
       "    </tr>\n",
       "    <tr>\n",
       "      <th>96</th>\n",
       "      <td>NaN</td>\n",
       "      <td>Vanessa[61]</td>\n",
       "      <td>Cinnamon MATE Xfce</td>\n",
       "      <td>Ubuntu 22.04 LTS (Jammy Jellyfish)</td>\n",
       "      <td>Ubuntu 22.04 LTS (Jammy Jellyfish)</td>\n",
       "      <td>Cinnamon MATE Xfce</td>\n",
       "      <td>31 July 2022</td>\n",
       "      <td>Yes</td>\n",
       "      <td>April 2027</td>\n",
       "    </tr>\n",
       "    <tr>\n",
       "      <th>97</th>\n",
       "      <td>21.1</td>\n",
       "      <td>Vera[62]</td>\n",
       "      <td>Cinnamon MATE Xfce</td>\n",
       "      <td>Ubuntu 22.04 LTS (Jammy Jellyfish)</td>\n",
       "      <td>Ubuntu 22.04 LTS (Jammy Jellyfish)</td>\n",
       "      <td>Cinnamon MATE Xfce</td>\n",
       "      <td>20 December 2022</td>\n",
       "      <td>Yes</td>\n",
       "      <td>April 2027</td>\n",
       "    </tr>\n",
       "    <tr>\n",
       "      <th>98</th>\n",
       "      <td>NaN</td>\n",
       "      <td>Victoria[63]</td>\n",
       "      <td>Cinnamon MATE Xfce</td>\n",
       "      <td>Ubuntu 22.04 LTS (Jammy Jellyfish)</td>\n",
       "      <td>Ubuntu 22.04 LTS (Jammy Jellyfish)</td>\n",
       "      <td>Cinnamon MATE Xfce</td>\n",
       "      <td>Possibly June 2023</td>\n",
       "      <td>Yes</td>\n",
       "      <td>April 2027</td>\n",
       "    </tr>\n",
       "    <tr>\n",
       "      <th>99</th>\n",
       "      <td>Version</td>\n",
       "      <td>Codename</td>\n",
       "      <td>Edition</td>\n",
       "      <td>Codebase</td>\n",
       "      <td>Compatible repository</td>\n",
       "      <td>Default desktop environment</td>\n",
       "      <td>Release date</td>\n",
       "      <td>LTS</td>\n",
       "      <td>Support end</td>\n",
       "    </tr>\n",
       "  </tbody>\n",
       "</table>\n",
       "<p>100 rows × 9 columns</p>\n",
       "</div>"
      ],
      "text/plain": [
       "    Version      Codename             Edition  \\\n",
       "0       NaN           Ada                Main   \n",
       "1       NaN       Barbara                Main   \n",
       "2       NaN           Bea                Main   \n",
       "3       NaN        Bianca                Main   \n",
       "4       NaN        Bianca               Light   \n",
       "..      ...           ...                 ...   \n",
       "95      NaN       Una[60]  Cinnamon MATE Xfce   \n",
       "96      NaN   Vanessa[61]  Cinnamon MATE Xfce   \n",
       "97     21.1      Vera[62]  Cinnamon MATE Xfce   \n",
       "98      NaN  Victoria[63]  Cinnamon MATE Xfce   \n",
       "99  Version      Codename             Edition   \n",
       "\n",
       "                              Codebase               Compatible repository  \\\n",
       "0                         Kubuntu 6.06                        Kubuntu 6.06   \n",
       "1               Ubuntu 6.10 (Edgy Eft)              Ubuntu 6.10 (Edgy Eft)   \n",
       "2               Ubuntu 6.10 (Edgy Eft)              Ubuntu 6.10 (Edgy Eft)   \n",
       "3               Ubuntu 6.10 (Edgy Eft)              Ubuntu 6.10 (Edgy Eft)   \n",
       "4               Ubuntu 6.10 (Edgy Eft)              Ubuntu 6.10 (Edgy Eft)   \n",
       "..                                 ...                                 ...   \n",
       "95      Ubuntu 20.04 LTS (Focal Fossa)      Ubuntu 20.04 LTS (Focal Fossa)   \n",
       "96  Ubuntu 22.04 LTS (Jammy Jellyfish)  Ubuntu 22.04 LTS (Jammy Jellyfish)   \n",
       "97  Ubuntu 22.04 LTS (Jammy Jellyfish)  Ubuntu 22.04 LTS (Jammy Jellyfish)   \n",
       "98  Ubuntu 22.04 LTS (Jammy Jellyfish)  Ubuntu 22.04 LTS (Jammy Jellyfish)   \n",
       "99                            Codebase               Compatible repository   \n",
       "\n",
       "    Default desktop environment        Release date  LTS  Support end  \n",
       "0                           KDE      27 August 2006    —     Un­known  \n",
       "1                         GNOME    13 November 2006    —   April 2008  \n",
       "2                         GNOME    20 December 2006    —   April 2008  \n",
       "3                         GNOME    20 February 2007    —   April 2008  \n",
       "4                         GNOME       29 March 2007    —   April 2008  \n",
       "..                          ...                 ...  ...          ...  \n",
       "95           Cinnamon MATE Xfce      7 January 2022  Yes   April 2025  \n",
       "96           Cinnamon MATE Xfce        31 July 2022  Yes   April 2027  \n",
       "97           Cinnamon MATE Xfce    20 December 2022  Yes   April 2027  \n",
       "98           Cinnamon MATE Xfce  Possibly June 2023  Yes   April 2027  \n",
       "99  Default desktop environment        Release date  LTS  Support end  \n",
       "\n",
       "[100 rows x 9 columns]"
      ]
     },
     "execution_count": 13,
     "metadata": {},
     "output_type": "execute_result"
    }
   ],
   "source": [
    "mint = pd.read_html(\"https://en.wikipedia.org/wiki/Linux_Mint\")[2]\n",
    "mint"
   ]
  },
  {
   "cell_type": "code",
   "execution_count": 14,
   "id": "36e3548d",
   "metadata": {},
   "outputs": [
    {
     "data": {
      "text/html": [
       "<div>\n",
       "<style scoped>\n",
       "    .dataframe tbody tr th:only-of-type {\n",
       "        vertical-align: middle;\n",
       "    }\n",
       "\n",
       "    .dataframe tbody tr th {\n",
       "        vertical-align: top;\n",
       "    }\n",
       "\n",
       "    .dataframe thead th {\n",
       "        text-align: right;\n",
       "    }\n",
       "</style>\n",
       "<table border=\"1\" class=\"dataframe\">\n",
       "  <thead>\n",
       "    <tr style=\"text-align: right;\">\n",
       "      <th></th>\n",
       "      <th>Version</th>\n",
       "      <th>Codename</th>\n",
       "      <th>Edition</th>\n",
       "      <th>Codebase</th>\n",
       "      <th>Compatible repository</th>\n",
       "      <th>Default desktop environment</th>\n",
       "      <th>Release date</th>\n",
       "      <th>LTS</th>\n",
       "      <th>Support end</th>\n",
       "    </tr>\n",
       "  </thead>\n",
       "  <tbody>\n",
       "    <tr>\n",
       "      <th>0</th>\n",
       "      <td>NaN</td>\n",
       "      <td>Ada</td>\n",
       "      <td>Main</td>\n",
       "      <td>Kubuntu 6.06</td>\n",
       "      <td>Kubuntu 6.06</td>\n",
       "      <td>KDE</td>\n",
       "      <td>27 August 2006</td>\n",
       "      <td>—</td>\n",
       "      <td>Un­known</td>\n",
       "    </tr>\n",
       "    <tr>\n",
       "      <th>1</th>\n",
       "      <td>NaN</td>\n",
       "      <td>Barbara</td>\n",
       "      <td>Main</td>\n",
       "      <td>Ubuntu 6.10 (Edgy Eft)</td>\n",
       "      <td>Ubuntu 6.10 (Edgy Eft)</td>\n",
       "      <td>GNOME</td>\n",
       "      <td>13 November 2006</td>\n",
       "      <td>—</td>\n",
       "      <td>April 2008</td>\n",
       "    </tr>\n",
       "    <tr>\n",
       "      <th>2</th>\n",
       "      <td>NaN</td>\n",
       "      <td>Bea</td>\n",
       "      <td>Main</td>\n",
       "      <td>Ubuntu 6.10 (Edgy Eft)</td>\n",
       "      <td>Ubuntu 6.10 (Edgy Eft)</td>\n",
       "      <td>GNOME</td>\n",
       "      <td>20 December 2006</td>\n",
       "      <td>—</td>\n",
       "      <td>April 2008</td>\n",
       "    </tr>\n",
       "    <tr>\n",
       "      <th>3</th>\n",
       "      <td>NaN</td>\n",
       "      <td>Bianca</td>\n",
       "      <td>Main</td>\n",
       "      <td>Ubuntu 6.10 (Edgy Eft)</td>\n",
       "      <td>Ubuntu 6.10 (Edgy Eft)</td>\n",
       "      <td>GNOME</td>\n",
       "      <td>20 February 2007</td>\n",
       "      <td>—</td>\n",
       "      <td>April 2008</td>\n",
       "    </tr>\n",
       "    <tr>\n",
       "      <th>4</th>\n",
       "      <td>NaN</td>\n",
       "      <td>Bianca</td>\n",
       "      <td>Light</td>\n",
       "      <td>Ubuntu 6.10 (Edgy Eft)</td>\n",
       "      <td>Ubuntu 6.10 (Edgy Eft)</td>\n",
       "      <td>GNOME</td>\n",
       "      <td>29 March 2007</td>\n",
       "      <td>—</td>\n",
       "      <td>April 2008</td>\n",
       "    </tr>\n",
       "    <tr>\n",
       "      <th>...</th>\n",
       "      <td>...</td>\n",
       "      <td>...</td>\n",
       "      <td>...</td>\n",
       "      <td>...</td>\n",
       "      <td>...</td>\n",
       "      <td>...</td>\n",
       "      <td>...</td>\n",
       "      <td>...</td>\n",
       "      <td>...</td>\n",
       "    </tr>\n",
       "    <tr>\n",
       "      <th>95</th>\n",
       "      <td>NaN</td>\n",
       "      <td>Una[60]</td>\n",
       "      <td>Cinnamon MATE Xfce</td>\n",
       "      <td>Ubuntu 20.04 LTS (Focal Fossa)</td>\n",
       "      <td>Ubuntu 20.04 LTS (Focal Fossa)</td>\n",
       "      <td>Cinnamon MATE Xfce</td>\n",
       "      <td>7 January 2022</td>\n",
       "      <td>Yes</td>\n",
       "      <td>April 2025</td>\n",
       "    </tr>\n",
       "    <tr>\n",
       "      <th>96</th>\n",
       "      <td>NaN</td>\n",
       "      <td>Vanessa[61]</td>\n",
       "      <td>Cinnamon MATE Xfce</td>\n",
       "      <td>Ubuntu 22.04 LTS (Jammy Jellyfish)</td>\n",
       "      <td>Ubuntu 22.04 LTS (Jammy Jellyfish)</td>\n",
       "      <td>Cinnamon MATE Xfce</td>\n",
       "      <td>31 July 2022</td>\n",
       "      <td>Yes</td>\n",
       "      <td>April 2027</td>\n",
       "    </tr>\n",
       "    <tr>\n",
       "      <th>97</th>\n",
       "      <td>21.1</td>\n",
       "      <td>Vera[62]</td>\n",
       "      <td>Cinnamon MATE Xfce</td>\n",
       "      <td>Ubuntu 22.04 LTS (Jammy Jellyfish)</td>\n",
       "      <td>Ubuntu 22.04 LTS (Jammy Jellyfish)</td>\n",
       "      <td>Cinnamon MATE Xfce</td>\n",
       "      <td>20 December 2022</td>\n",
       "      <td>Yes</td>\n",
       "      <td>April 2027</td>\n",
       "    </tr>\n",
       "    <tr>\n",
       "      <th>98</th>\n",
       "      <td>NaN</td>\n",
       "      <td>Victoria[63]</td>\n",
       "      <td>Cinnamon MATE Xfce</td>\n",
       "      <td>Ubuntu 22.04 LTS (Jammy Jellyfish)</td>\n",
       "      <td>Ubuntu 22.04 LTS (Jammy Jellyfish)</td>\n",
       "      <td>Cinnamon MATE Xfce</td>\n",
       "      <td>Possibly June 2023</td>\n",
       "      <td>Yes</td>\n",
       "      <td>April 2027</td>\n",
       "    </tr>\n",
       "    <tr>\n",
       "      <th>99</th>\n",
       "      <td>Version</td>\n",
       "      <td>Codename</td>\n",
       "      <td>Edition</td>\n",
       "      <td>Codebase</td>\n",
       "      <td>Compatible repository</td>\n",
       "      <td>Default desktop environment</td>\n",
       "      <td>Release date</td>\n",
       "      <td>LTS</td>\n",
       "      <td>Support end</td>\n",
       "    </tr>\n",
       "  </tbody>\n",
       "</table>\n",
       "<p>100 rows × 9 columns</p>\n",
       "</div>"
      ],
      "text/plain": [
       "    Version      Codename             Edition  \\\n",
       "0       NaN           Ada                Main   \n",
       "1       NaN       Barbara                Main   \n",
       "2       NaN           Bea                Main   \n",
       "3       NaN        Bianca                Main   \n",
       "4       NaN        Bianca               Light   \n",
       "..      ...           ...                 ...   \n",
       "95      NaN       Una[60]  Cinnamon MATE Xfce   \n",
       "96      NaN   Vanessa[61]  Cinnamon MATE Xfce   \n",
       "97     21.1      Vera[62]  Cinnamon MATE Xfce   \n",
       "98      NaN  Victoria[63]  Cinnamon MATE Xfce   \n",
       "99  Version      Codename             Edition   \n",
       "\n",
       "                              Codebase               Compatible repository  \\\n",
       "0                         Kubuntu 6.06                        Kubuntu 6.06   \n",
       "1               Ubuntu 6.10 (Edgy Eft)              Ubuntu 6.10 (Edgy Eft)   \n",
       "2               Ubuntu 6.10 (Edgy Eft)              Ubuntu 6.10 (Edgy Eft)   \n",
       "3               Ubuntu 6.10 (Edgy Eft)              Ubuntu 6.10 (Edgy Eft)   \n",
       "4               Ubuntu 6.10 (Edgy Eft)              Ubuntu 6.10 (Edgy Eft)   \n",
       "..                                 ...                                 ...   \n",
       "95      Ubuntu 20.04 LTS (Focal Fossa)      Ubuntu 20.04 LTS (Focal Fossa)   \n",
       "96  Ubuntu 22.04 LTS (Jammy Jellyfish)  Ubuntu 22.04 LTS (Jammy Jellyfish)   \n",
       "97  Ubuntu 22.04 LTS (Jammy Jellyfish)  Ubuntu 22.04 LTS (Jammy Jellyfish)   \n",
       "98  Ubuntu 22.04 LTS (Jammy Jellyfish)  Ubuntu 22.04 LTS (Jammy Jellyfish)   \n",
       "99                            Codebase               Compatible repository   \n",
       "\n",
       "    Default desktop environment        Release date  LTS  Support end  \n",
       "0                           KDE      27 August 2006    —     Un­known  \n",
       "1                         GNOME    13 November 2006    —   April 2008  \n",
       "2                         GNOME    20 December 2006    —   April 2008  \n",
       "3                         GNOME    20 February 2007    —   April 2008  \n",
       "4                         GNOME       29 March 2007    —   April 2008  \n",
       "..                          ...                 ...  ...          ...  \n",
       "95           Cinnamon MATE Xfce      7 January 2022  Yes   April 2025  \n",
       "96           Cinnamon MATE Xfce        31 July 2022  Yes   April 2027  \n",
       "97           Cinnamon MATE Xfce    20 December 2022  Yes   April 2027  \n",
       "98           Cinnamon MATE Xfce  Possibly June 2023  Yes   April 2027  \n",
       "99  Default desktop environment        Release date  LTS  Support end  \n",
       "\n",
       "[100 rows x 9 columns]"
      ]
     },
     "execution_count": 14,
     "metadata": {},
     "output_type": "execute_result"
    }
   ],
   "source": [
    "mint"
   ]
  },
  {
   "cell_type": "code",
   "execution_count": 15,
   "id": "3673a5fb",
   "metadata": {},
   "outputs": [
    {
     "data": {
      "text/plain": [
       "Index(['Version', 'Codename', 'Edition', 'Codebase', 'Compatible repository',\n",
       "       'Default desktop environment', 'Release date', 'LTS', 'Support end'],\n",
       "      dtype='object')"
      ]
     },
     "execution_count": 15,
     "metadata": {},
     "output_type": "execute_result"
    }
   ],
   "source": [
    "mint.columns"
   ]
  },
  {
   "cell_type": "code",
   "execution_count": 16,
   "id": "bb986f42",
   "metadata": {},
   "outputs": [
    {
     "data": {
      "text/html": [
       "<div>\n",
       "<style scoped>\n",
       "    .dataframe tbody tr th:only-of-type {\n",
       "        vertical-align: middle;\n",
       "    }\n",
       "\n",
       "    .dataframe tbody tr th {\n",
       "        vertical-align: top;\n",
       "    }\n",
       "\n",
       "    .dataframe thead th {\n",
       "        text-align: right;\n",
       "    }\n",
       "</style>\n",
       "<table border=\"1\" class=\"dataframe\">\n",
       "  <thead>\n",
       "    <tr style=\"text-align: right;\">\n",
       "      <th></th>\n",
       "      <th>Version</th>\n",
       "      <th>Codename</th>\n",
       "      <th>Edition</th>\n",
       "      <th>Codebase</th>\n",
       "      <th>Compatible repository</th>\n",
       "      <th>DE</th>\n",
       "      <th>Release date</th>\n",
       "      <th>LTS</th>\n",
       "      <th>Support end</th>\n",
       "    </tr>\n",
       "  </thead>\n",
       "  <tbody>\n",
       "    <tr>\n",
       "      <th>0</th>\n",
       "      <td>NaN</td>\n",
       "      <td>Ada</td>\n",
       "      <td>Main</td>\n",
       "      <td>Kubuntu 6.06</td>\n",
       "      <td>Kubuntu 6.06</td>\n",
       "      <td>KDE</td>\n",
       "      <td>27 August 2006</td>\n",
       "      <td>—</td>\n",
       "      <td>Un­known</td>\n",
       "    </tr>\n",
       "    <tr>\n",
       "      <th>1</th>\n",
       "      <td>NaN</td>\n",
       "      <td>Barbara</td>\n",
       "      <td>Main</td>\n",
       "      <td>Ubuntu 6.10 (Edgy Eft)</td>\n",
       "      <td>Ubuntu 6.10 (Edgy Eft)</td>\n",
       "      <td>GNOME</td>\n",
       "      <td>13 November 2006</td>\n",
       "      <td>—</td>\n",
       "      <td>April 2008</td>\n",
       "    </tr>\n",
       "    <tr>\n",
       "      <th>2</th>\n",
       "      <td>NaN</td>\n",
       "      <td>Bea</td>\n",
       "      <td>Main</td>\n",
       "      <td>Ubuntu 6.10 (Edgy Eft)</td>\n",
       "      <td>Ubuntu 6.10 (Edgy Eft)</td>\n",
       "      <td>GNOME</td>\n",
       "      <td>20 December 2006</td>\n",
       "      <td>—</td>\n",
       "      <td>April 2008</td>\n",
       "    </tr>\n",
       "    <tr>\n",
       "      <th>3</th>\n",
       "      <td>NaN</td>\n",
       "      <td>Bianca</td>\n",
       "      <td>Main</td>\n",
       "      <td>Ubuntu 6.10 (Edgy Eft)</td>\n",
       "      <td>Ubuntu 6.10 (Edgy Eft)</td>\n",
       "      <td>GNOME</td>\n",
       "      <td>20 February 2007</td>\n",
       "      <td>—</td>\n",
       "      <td>April 2008</td>\n",
       "    </tr>\n",
       "    <tr>\n",
       "      <th>4</th>\n",
       "      <td>NaN</td>\n",
       "      <td>Bianca</td>\n",
       "      <td>Light</td>\n",
       "      <td>Ubuntu 6.10 (Edgy Eft)</td>\n",
       "      <td>Ubuntu 6.10 (Edgy Eft)</td>\n",
       "      <td>GNOME</td>\n",
       "      <td>29 March 2007</td>\n",
       "      <td>—</td>\n",
       "      <td>April 2008</td>\n",
       "    </tr>\n",
       "    <tr>\n",
       "      <th>...</th>\n",
       "      <td>...</td>\n",
       "      <td>...</td>\n",
       "      <td>...</td>\n",
       "      <td>...</td>\n",
       "      <td>...</td>\n",
       "      <td>...</td>\n",
       "      <td>...</td>\n",
       "      <td>...</td>\n",
       "      <td>...</td>\n",
       "    </tr>\n",
       "    <tr>\n",
       "      <th>95</th>\n",
       "      <td>NaN</td>\n",
       "      <td>Una[60]</td>\n",
       "      <td>Cinnamon MATE Xfce</td>\n",
       "      <td>Ubuntu 20.04 LTS (Focal Fossa)</td>\n",
       "      <td>Ubuntu 20.04 LTS (Focal Fossa)</td>\n",
       "      <td>Cinnamon MATE Xfce</td>\n",
       "      <td>7 January 2022</td>\n",
       "      <td>Yes</td>\n",
       "      <td>April 2025</td>\n",
       "    </tr>\n",
       "    <tr>\n",
       "      <th>96</th>\n",
       "      <td>NaN</td>\n",
       "      <td>Vanessa[61]</td>\n",
       "      <td>Cinnamon MATE Xfce</td>\n",
       "      <td>Ubuntu 22.04 LTS (Jammy Jellyfish)</td>\n",
       "      <td>Ubuntu 22.04 LTS (Jammy Jellyfish)</td>\n",
       "      <td>Cinnamon MATE Xfce</td>\n",
       "      <td>31 July 2022</td>\n",
       "      <td>Yes</td>\n",
       "      <td>April 2027</td>\n",
       "    </tr>\n",
       "    <tr>\n",
       "      <th>97</th>\n",
       "      <td>21.1</td>\n",
       "      <td>Vera[62]</td>\n",
       "      <td>Cinnamon MATE Xfce</td>\n",
       "      <td>Ubuntu 22.04 LTS (Jammy Jellyfish)</td>\n",
       "      <td>Ubuntu 22.04 LTS (Jammy Jellyfish)</td>\n",
       "      <td>Cinnamon MATE Xfce</td>\n",
       "      <td>20 December 2022</td>\n",
       "      <td>Yes</td>\n",
       "      <td>April 2027</td>\n",
       "    </tr>\n",
       "    <tr>\n",
       "      <th>98</th>\n",
       "      <td>NaN</td>\n",
       "      <td>Victoria[63]</td>\n",
       "      <td>Cinnamon MATE Xfce</td>\n",
       "      <td>Ubuntu 22.04 LTS (Jammy Jellyfish)</td>\n",
       "      <td>Ubuntu 22.04 LTS (Jammy Jellyfish)</td>\n",
       "      <td>Cinnamon MATE Xfce</td>\n",
       "      <td>Possibly June 2023</td>\n",
       "      <td>Yes</td>\n",
       "      <td>April 2027</td>\n",
       "    </tr>\n",
       "    <tr>\n",
       "      <th>99</th>\n",
       "      <td>Version</td>\n",
       "      <td>Codename</td>\n",
       "      <td>Edition</td>\n",
       "      <td>Codebase</td>\n",
       "      <td>Compatible repository</td>\n",
       "      <td>Default desktop environment</td>\n",
       "      <td>Release date</td>\n",
       "      <td>LTS</td>\n",
       "      <td>Support end</td>\n",
       "    </tr>\n",
       "  </tbody>\n",
       "</table>\n",
       "<p>100 rows × 9 columns</p>\n",
       "</div>"
      ],
      "text/plain": [
       "    Version      Codename             Edition  \\\n",
       "0       NaN           Ada                Main   \n",
       "1       NaN       Barbara                Main   \n",
       "2       NaN           Bea                Main   \n",
       "3       NaN        Bianca                Main   \n",
       "4       NaN        Bianca               Light   \n",
       "..      ...           ...                 ...   \n",
       "95      NaN       Una[60]  Cinnamon MATE Xfce   \n",
       "96      NaN   Vanessa[61]  Cinnamon MATE Xfce   \n",
       "97     21.1      Vera[62]  Cinnamon MATE Xfce   \n",
       "98      NaN  Victoria[63]  Cinnamon MATE Xfce   \n",
       "99  Version      Codename             Edition   \n",
       "\n",
       "                              Codebase               Compatible repository  \\\n",
       "0                         Kubuntu 6.06                        Kubuntu 6.06   \n",
       "1               Ubuntu 6.10 (Edgy Eft)              Ubuntu 6.10 (Edgy Eft)   \n",
       "2               Ubuntu 6.10 (Edgy Eft)              Ubuntu 6.10 (Edgy Eft)   \n",
       "3               Ubuntu 6.10 (Edgy Eft)              Ubuntu 6.10 (Edgy Eft)   \n",
       "4               Ubuntu 6.10 (Edgy Eft)              Ubuntu 6.10 (Edgy Eft)   \n",
       "..                                 ...                                 ...   \n",
       "95      Ubuntu 20.04 LTS (Focal Fossa)      Ubuntu 20.04 LTS (Focal Fossa)   \n",
       "96  Ubuntu 22.04 LTS (Jammy Jellyfish)  Ubuntu 22.04 LTS (Jammy Jellyfish)   \n",
       "97  Ubuntu 22.04 LTS (Jammy Jellyfish)  Ubuntu 22.04 LTS (Jammy Jellyfish)   \n",
       "98  Ubuntu 22.04 LTS (Jammy Jellyfish)  Ubuntu 22.04 LTS (Jammy Jellyfish)   \n",
       "99                            Codebase               Compatible repository   \n",
       "\n",
       "                             DE        Release date  LTS  Support end  \n",
       "0                           KDE      27 August 2006    —     Un­known  \n",
       "1                         GNOME    13 November 2006    —   April 2008  \n",
       "2                         GNOME    20 December 2006    —   April 2008  \n",
       "3                         GNOME    20 February 2007    —   April 2008  \n",
       "4                         GNOME       29 March 2007    —   April 2008  \n",
       "..                          ...                 ...  ...          ...  \n",
       "95           Cinnamon MATE Xfce      7 January 2022  Yes   April 2025  \n",
       "96           Cinnamon MATE Xfce        31 July 2022  Yes   April 2027  \n",
       "97           Cinnamon MATE Xfce    20 December 2022  Yes   April 2027  \n",
       "98           Cinnamon MATE Xfce  Possibly June 2023  Yes   April 2027  \n",
       "99  Default desktop environment        Release date  LTS  Support end  \n",
       "\n",
       "[100 rows x 9 columns]"
      ]
     },
     "execution_count": 16,
     "metadata": {},
     "output_type": "execute_result"
    }
   ],
   "source": [
    "mint.rename(columns = {\"Default desktop environment\": \"DE\"}, inplace=True)\n",
    "mint"
   ]
  },
  {
   "cell_type": "code",
   "execution_count": 105,
   "id": "97c0ce53",
   "metadata": {},
   "outputs": [
    {
     "name": "stdout",
     "output_type": "stream",
     "text": [
      "[*********************100%***********************]  1 of 1 completed\n"
     ]
    }
   ],
   "source": [
    "sofi = web.get_data_yahoo('SOFI', start='2022-01-01', end='2023-06-20')"
   ]
  },
  {
   "cell_type": "code",
   "execution_count": 18,
   "id": "a9db5d76",
   "metadata": {},
   "outputs": [
    {
     "data": {
      "text/html": [
       "\n",
       "This data is about bills, including the type of bill, the amount of the bill, and other related information. It contains 14 rows of data, with columns for index, type of bill, amount, and other related information."
      ],
      "text/plain": [
       "<IPython.core.display.HTML object>"
      ]
     },
     "metadata": {},
     "output_type": "display_data"
    }
   ],
   "source": [
    "bills.sketch.ask(\"what is this data about?\")"
   ]
  },
  {
   "cell_type": "code",
   "execution_count": 19,
   "id": "7fc98f7b",
   "metadata": {},
   "outputs": [
    {
     "data": {
      "text/plain": [
       "<bound method NDFrame.describe of          Bills  Amount  fill             fill2   fill3\n",
       "0     Mortgage  2200.0   NaN               NaN     NaN\n",
       "1       Energy   110.0   NaN               NaN     NaN\n",
       "2          Gas    50.0   NaN               NaN     NaN\n",
       "3        Water   100.0   NaN               NaN     NaN\n",
       "4          Car   589.0   NaN               NaN     NaN\n",
       "5         Car2   500.0   NaN               NaN     NaN\n",
       "6         Car3   599.0   NaN               NaN     NaN\n",
       "7    Childcare  1014.0   NaN               NaN     NaN\n",
       "8   Childcare2  1100.0   NaN               NaN     NaN\n",
       "9        Phone   275.0   NaN               NaN     NaN\n",
       "10   Insurance   286.0   NaN               NaN     NaN\n",
       "11         NaN  6823.0   NaN  Tahoe and Subaru  1089.0\n",
       "12         NaN     NaN   NaN  Childcare Total:  2114.0\n",
       "13         NaN     NaN   NaN               NaN  3203.0>"
      ]
     },
     "execution_count": 19,
     "metadata": {},
     "output_type": "execute_result"
    }
   ],
   "source": [
    "bills.describe"
   ]
  },
  {
   "cell_type": "code",
   "execution_count": 20,
   "id": "13a90058",
   "metadata": {},
   "outputs": [
    {
     "data": {
      "text/plain": [
       "(14, 5)"
      ]
     },
     "execution_count": 20,
     "metadata": {},
     "output_type": "execute_result"
    }
   ],
   "source": [
    "bills.shape"
   ]
  },
  {
   "cell_type": "code",
   "execution_count": 21,
   "id": "f57a0b71",
   "metadata": {},
   "outputs": [
    {
     "data": {
      "text/html": [
       "\n",
       "The highest bill in the dataframe bills is 6823.0.\n"
      ],
      "text/plain": [
       "<IPython.core.display.HTML object>"
      ]
     },
     "metadata": {},
     "output_type": "display_data"
    }
   ],
   "source": [
    "bills.sketch.ask(\"what is this highest bill?\")"
   ]
  },
  {
   "cell_type": "code",
   "execution_count": 22,
   "id": "3a6e33e5",
   "metadata": {},
   "outputs": [
    {
     "data": {
      "text/html": [
       "\n",
       "The lowest bill in the dataframe is 50.0.\n"
      ],
      "text/plain": [
       "<IPython.core.display.HTML object>"
      ]
     },
     "metadata": {},
     "output_type": "display_data"
    }
   ],
   "source": [
    "bills.sketch.ask(\"what is this lowest bill?\")"
   ]
  },
  {
   "cell_type": "code",
   "execution_count": 23,
   "id": "8a945e5d",
   "metadata": {},
   "outputs": [
    {
     "data": {
      "text/html": [
       "\n",
       "We could perform a variety of analyses on the dataframe bills, such as descriptive statistics, correlation analysis, regression analysis, and predictive modeling. We could also explore the relationships between different variables in the dataframe, such as the amount of bills and the type of bill. Additionally, we could use the data to create visualizations such as bar charts, line graphs, and scatter plots."
      ],
      "text/plain": [
       "<IPython.core.display.HTML object>"
      ]
     },
     "metadata": {},
     "output_type": "display_data"
    }
   ],
   "source": [
    "bills.sketch.ask(\"What type of analysis could we perform\")"
   ]
  },
  {
   "cell_type": "code",
   "execution_count": 88,
   "id": "c965eb43",
   "metadata": {},
   "outputs": [
    {
     "ename": "NameError",
     "evalue": "name 'bills' is not defined",
     "output_type": "error",
     "traceback": [
      "\u001b[0;31m---------------------------------------------------------------------------\u001b[0m",
      "\u001b[0;31mNameError\u001b[0m                                 Traceback (most recent call last)",
      "\u001b[0;32m/tmp/ipykernel_202580/2319823933.py\u001b[0m in \u001b[0;36m<module>\u001b[0;34m\u001b[0m\n\u001b[0;32m----> 1\u001b[0;31m \u001b[0mbills\u001b[0m\u001b[0;34m.\u001b[0m\u001b[0msketch\u001b[0m\u001b[0;34m.\u001b[0m\u001b[0mhowto\u001b[0m\u001b[0;34m(\u001b[0m\u001b[0;34m\"analyze relationship between bills and amount\"\u001b[0m\u001b[0;34m)\u001b[0m\u001b[0;34m\u001b[0m\u001b[0;34m\u001b[0m\u001b[0m\n\u001b[0m",
      "\u001b[0;31mNameError\u001b[0m: name 'bills' is not defined"
     ]
    }
   ],
   "source": [
    "bills.sketch.howto(\"analyze relationship between bills and amount\")"
   ]
  },
  {
   "cell_type": "code",
   "execution_count": 25,
   "id": "f566ee2e",
   "metadata": {},
   "outputs": [
    {
     "data": {
      "text/plain": [
       "DatetimeIndex(['2022-01-03', '2022-01-04', '2022-01-05', '2022-01-06',\n",
       "               '2022-01-07', '2022-01-10', '2022-01-11', '2022-01-12',\n",
       "               '2022-01-13', '2022-01-14',\n",
       "               ...\n",
       "               '2023-06-05', '2023-06-06', '2023-06-07', '2023-06-08',\n",
       "               '2023-06-09', '2023-06-12', '2023-06-13', '2023-06-14',\n",
       "               '2023-06-15', '2023-06-16'],\n",
       "              dtype='datetime64[ns]', name='Date', length=366, freq=None)"
      ]
     },
     "execution_count": 25,
     "metadata": {},
     "output_type": "execute_result"
    }
   ],
   "source": [
    "sofi.index"
   ]
  },
  {
   "cell_type": "code",
   "execution_count": 26,
   "id": "99753877",
   "metadata": {},
   "outputs": [
    {
     "data": {
      "text/html": [
       "<div style=\"display:flex;flex-direction:row;justify-content:space-between;\">\n",
       "                <pre style=\"width: 100%; white-space: pre-wrap;\" id=\"fbbf9ab7-4c04-482f-badd-15c49d0e3e4b\">\n",
       "# import matplotlib library\n",
       "import matplotlib.pyplot as plt\n",
       "\n",
       "# create a line plot of the Adj Close column\n",
       "sofi['Adj Close'].plot(kind='line')\n",
       "\n",
       "# add labels to the plot\n",
       "plt.title('Adj Close over Time')\n",
       "plt.xlabel('Date')\n",
       "plt.ylabel('Adj Close')\n",
       "\n",
       "# show the plot\n",
       "plt.show()\n",
       "</pre>\n",
       "                <button style=\"height: fit-content;\" onclick=\"navigator.clipboard.writeText(JSON.parse(atob(`IlxuIyBpbXBvcnQgbWF0cGxvdGxpYiBsaWJyYXJ5XG5pbXBvcnQgbWF0cGxvdGxpYi5weXBsb3QgYXMgcGx0XG5cbiMgY3JlYXRlIGEgbGluZSBwbG90IG9mIHRoZSBBZGogQ2xvc2UgY29sdW1uXG5zb2ZpWydBZGogQ2xvc2UnXS5wbG90KGtpbmQ9J2xpbmUnKVxuXG4jIGFkZCBsYWJlbHMgdG8gdGhlIHBsb3RcbnBsdC50aXRsZSgnQWRqIENsb3NlIG92ZXIgVGltZScpXG5wbHQueGxhYmVsKCdEYXRlJylcbnBsdC55bGFiZWwoJ0FkaiBDbG9zZScpXG5cbiMgc2hvdyB0aGUgcGxvdFxucGx0LnNob3coKVxuIg==`)))\">Copy</button>\n",
       "                </div>"
      ],
      "text/plain": [
       "<IPython.core.display.HTML object>"
      ]
     },
     "metadata": {},
     "output_type": "display_data"
    }
   ],
   "source": [
    "sofi.sketch.howto(\"how can i visualize adj close\")"
   ]
  },
  {
   "cell_type": "code",
   "execution_count": 106,
   "id": "82d37539",
   "metadata": {},
   "outputs": [
    {
     "data": {
      "image/png": "[encoded data removed]",
      "text/plain": [
       "<Figure size 432x288 with 1 Axes>"
      ]
     },
     "metadata": {
      "needs_background": "light"
     },
     "output_type": "display_data"
    }
   ],
   "source": [
    "\n",
    "\n",
    "# import matplotlib library\n",
    "import matplotlib.pyplot as plt\n",
    "\n",
    "# create a line plot of the Adj Close column\n",
    "sofi['Adj Close'].plot(kind='line')\n",
    "\n",
    "# add labels to the plot\n",
    "plt.title('Adj Close over Time')\n",
    "plt.xlabel('Date')\n",
    "plt.ylabel('Adj Close')\n",
    "\n",
    "# show the plot\n",
    "plt.show()"
   ]
  },
  {
   "cell_type": "code",
   "execution_count": 107,
   "id": "3e908d7c",
   "metadata": {},
   "outputs": [
    {
     "data": {
      "text/plain": [
       "Date\n",
       "2022-01-03    15.68\n",
       "2022-01-04    15.05\n",
       "2022-01-05    14.10\n",
       "2022-01-06    13.78\n",
       "2022-01-07    13.74\n",
       "              ...  \n",
       "2023-06-12     9.16\n",
       "2023-06-13     9.54\n",
       "2023-06-14     9.74\n",
       "2023-06-15     9.55\n",
       "2023-06-16     8.60\n",
       "Name: Adj Close, Length: 366, dtype: float64"
      ]
     },
     "execution_count": 107,
     "metadata": {},
     "output_type": "execute_result"
    }
   ],
   "source": [
    "sofi['Adj Close']"
   ]
  },
  {
   "cell_type": "code",
   "execution_count": 29,
   "id": "6e6a7eaf",
   "metadata": {},
   "outputs": [],
   "source": [
    "sofi.to_csv(\"sofi.csv\")"
   ]
  },
  {
   "cell_type": "code",
   "execution_count": null,
   "id": "a1e684ad",
   "metadata": {},
   "outputs": [],
   "source": [
    "os.getcwd()"
   ]
  },
  {
   "cell_type": "code",
   "execution_count": 31,
   "id": "961b49e9",
   "metadata": {},
   "outputs": [
    {
     "data": {
      "text/plain": [
       "Int64Index([ 3,  4,  5,  6,  7, 10, 11, 12, 13, 14,\n",
       "            ...\n",
       "             5,  6,  7,  8,  9, 12, 13, 14, 15, 16],\n",
       "           dtype='int64', name='Date', length=366)"
      ]
     },
     "execution_count": 31,
     "metadata": {},
     "output_type": "execute_result"
    }
   ],
   "source": [
    "sofi.index.day"
   ]
  },
  {
   "cell_type": "code",
   "execution_count": 34,
   "id": "cb3757bb",
   "metadata": {},
   "outputs": [
    {
     "data": {
      "text/plain": [
       "(366, 6)"
      ]
     },
     "execution_count": 34,
     "metadata": {},
     "output_type": "execute_result"
    }
   ],
   "source": [
    "sofi.shape"
   ]
  },
  {
   "cell_type": "code",
   "execution_count": 96,
   "id": "45966659",
   "metadata": {},
   "outputs": [
    {
     "name": "stdout",
     "output_type": "stream",
     "text": [
      "[*********************100%***********************]  1 of 1 completed\n"
     ]
    }
   ],
   "source": [
    "nu = web.get_data_yahoo('nu', start='2022-01-01', end='2023-06-29')"
   ]
  },
  {
   "cell_type": "code",
   "execution_count": 97,
   "id": "34cf4713",
   "metadata": {},
   "outputs": [
    {
     "data": {
      "text/html": [
       "<div>\n",
       "<style scoped>\n",
       "    .dataframe tbody tr th:only-of-type {\n",
       "        vertical-align: middle;\n",
       "    }\n",
       "\n",
       "    .dataframe tbody tr th {\n",
       "        vertical-align: top;\n",
       "    }\n",
       "\n",
       "    .dataframe thead th {\n",
       "        text-align: right;\n",
       "    }\n",
       "</style>\n",
       "<table border=\"1\" class=\"dataframe\">\n",
       "  <thead>\n",
       "    <tr style=\"text-align: right;\">\n",
       "      <th></th>\n",
       "      <th>Open</th>\n",
       "      <th>High</th>\n",
       "      <th>Low</th>\n",
       "      <th>Close</th>\n",
       "      <th>Adj Close</th>\n",
       "      <th>Volume</th>\n",
       "    </tr>\n",
       "    <tr>\n",
       "      <th>Date</th>\n",
       "      <th></th>\n",
       "      <th></th>\n",
       "      <th></th>\n",
       "      <th></th>\n",
       "      <th></th>\n",
       "      <th></th>\n",
       "    </tr>\n",
       "  </thead>\n",
       "  <tbody>\n",
       "    <tr>\n",
       "      <th>2022-01-03</th>\n",
       "      <td>9.60</td>\n",
       "      <td>10.000</td>\n",
       "      <td>9.55</td>\n",
       "      <td>9.98</td>\n",
       "      <td>9.98</td>\n",
       "      <td>6896100</td>\n",
       "    </tr>\n",
       "    <tr>\n",
       "      <th>2022-01-04</th>\n",
       "      <td>10.15</td>\n",
       "      <td>10.220</td>\n",
       "      <td>9.48</td>\n",
       "      <td>9.74</td>\n",
       "      <td>9.74</td>\n",
       "      <td>8551800</td>\n",
       "    </tr>\n",
       "    <tr>\n",
       "      <th>2022-01-05</th>\n",
       "      <td>9.68</td>\n",
       "      <td>9.710</td>\n",
       "      <td>8.92</td>\n",
       "      <td>9.04</td>\n",
       "      <td>9.04</td>\n",
       "      <td>13773400</td>\n",
       "    </tr>\n",
       "    <tr>\n",
       "      <th>2022-01-06</th>\n",
       "      <td>9.01</td>\n",
       "      <td>9.530</td>\n",
       "      <td>8.46</td>\n",
       "      <td>9.52</td>\n",
       "      <td>9.52</td>\n",
       "      <td>11014200</td>\n",
       "    </tr>\n",
       "    <tr>\n",
       "      <th>2022-01-07</th>\n",
       "      <td>9.50</td>\n",
       "      <td>9.680</td>\n",
       "      <td>9.14</td>\n",
       "      <td>9.36</td>\n",
       "      <td>9.36</td>\n",
       "      <td>4784700</td>\n",
       "    </tr>\n",
       "    <tr>\n",
       "      <th>...</th>\n",
       "      <td>...</td>\n",
       "      <td>...</td>\n",
       "      <td>...</td>\n",
       "      <td>...</td>\n",
       "      <td>...</td>\n",
       "      <td>...</td>\n",
       "    </tr>\n",
       "    <tr>\n",
       "      <th>2023-06-22</th>\n",
       "      <td>7.64</td>\n",
       "      <td>7.716</td>\n",
       "      <td>7.45</td>\n",
       "      <td>7.49</td>\n",
       "      <td>7.49</td>\n",
       "      <td>27952400</td>\n",
       "    </tr>\n",
       "    <tr>\n",
       "      <th>2023-06-23</th>\n",
       "      <td>7.40</td>\n",
       "      <td>7.700</td>\n",
       "      <td>7.36</td>\n",
       "      <td>7.56</td>\n",
       "      <td>7.56</td>\n",
       "      <td>166404700</td>\n",
       "    </tr>\n",
       "    <tr>\n",
       "      <th>2023-06-26</th>\n",
       "      <td>7.52</td>\n",
       "      <td>7.580</td>\n",
       "      <td>7.22</td>\n",
       "      <td>7.31</td>\n",
       "      <td>7.31</td>\n",
       "      <td>21200600</td>\n",
       "    </tr>\n",
       "    <tr>\n",
       "      <th>2023-06-27</th>\n",
       "      <td>7.39</td>\n",
       "      <td>7.695</td>\n",
       "      <td>7.33</td>\n",
       "      <td>7.65</td>\n",
       "      <td>7.65</td>\n",
       "      <td>21089500</td>\n",
       "    </tr>\n",
       "    <tr>\n",
       "      <th>2023-06-28</th>\n",
       "      <td>7.63</td>\n",
       "      <td>7.990</td>\n",
       "      <td>7.58</td>\n",
       "      <td>7.80</td>\n",
       "      <td>7.80</td>\n",
       "      <td>23838400</td>\n",
       "    </tr>\n",
       "  </tbody>\n",
       "</table>\n",
       "<p>373 rows × 6 columns</p>\n",
       "</div>"
      ],
      "text/plain": [
       "             Open    High   Low  Close  Adj Close     Volume\n",
       "Date                                                        \n",
       "2022-01-03   9.60  10.000  9.55   9.98       9.98    6896100\n",
       "2022-01-04  10.15  10.220  9.48   9.74       9.74    8551800\n",
       "2022-01-05   9.68   9.710  8.92   9.04       9.04   13773400\n",
       "2022-01-06   9.01   9.530  8.46   9.52       9.52   11014200\n",
       "2022-01-07   9.50   9.680  9.14   9.36       9.36    4784700\n",
       "...           ...     ...   ...    ...        ...        ...\n",
       "2023-06-22   7.64   7.716  7.45   7.49       7.49   27952400\n",
       "2023-06-23   7.40   7.700  7.36   7.56       7.56  166404700\n",
       "2023-06-26   7.52   7.580  7.22   7.31       7.31   21200600\n",
       "2023-06-27   7.39   7.695  7.33   7.65       7.65   21089500\n",
       "2023-06-28   7.63   7.990  7.58   7.80       7.80   23838400\n",
       "\n",
       "[373 rows x 6 columns]"
      ]
     },
     "execution_count": 97,
     "metadata": {},
     "output_type": "execute_result"
    }
   ],
   "source": [
    "nu"
   ]
  },
  {
   "cell_type": "code",
   "execution_count": 39,
   "id": "585b2346",
   "metadata": {},
   "outputs": [
    {
     "data": {
      "text/plain": [
       "(373, 6)"
      ]
     },
     "execution_count": 39,
     "metadata": {},
     "output_type": "execute_result"
    }
   ],
   "source": [
    "nu.shape"
   ]
  },
  {
   "cell_type": "markdown",
   "id": "c59f0620",
   "metadata": {},
   "source": [
    "<font size = 6>NU - Stock Prices over 18 Months</font>"
   ]
  },
  {
   "cell_type": "code",
   "execution_count": 98,
   "id": "26006fdb",
   "metadata": {},
   "outputs": [
    {
     "data": {
      "image/png": "[encoded data removed]",
      "text/plain": [
       "<Figure size 432x288 with 1 Axes>"
      ]
     },
     "metadata": {
      "needs_background": "light"
     },
     "output_type": "display_data"
    }
   ],
   "source": [
    "# create a line plot of the Adj Close column\n",
    "nu['Adj Close'].plot(kind='line')\n",
    "\n",
    "# add labels to the plot\n",
    "plt.title('Adj Close over Time')\n",
    "plt.xlabel('Date')\n",
    "plt.ylabel('Adj Close')\n",
    "\n",
    "# show the plot\n",
    "plt.show()"
   ]
  },
  {
   "cell_type": "markdown",
   "id": "114adfa1",
   "metadata": {},
   "source": [
    "<font size = 6> NU - Minimum Price</font>"
   ]
  },
  {
   "cell_type": "code",
   "execution_count": 44,
   "id": "d5a90744",
   "metadata": {},
   "outputs": [
    {
     "data": {
      "text/plain": [
       "3.309999942779541"
      ]
     },
     "execution_count": 44,
     "metadata": {},
     "output_type": "execute_result"
    }
   ],
   "source": [
    "nu['Adj Close'].min()"
   ]
  },
  {
   "cell_type": "markdown",
   "id": "f48de982",
   "metadata": {},
   "source": [
    "<font size = 6> NU - Maximum Price</font>"
   ]
  },
  {
   "cell_type": "code",
   "execution_count": 45,
   "id": "dcba4717",
   "metadata": {},
   "outputs": [
    {
     "data": {
      "text/plain": [
       "10.199999809265137"
      ]
     },
     "execution_count": 45,
     "metadata": {},
     "output_type": "execute_result"
    }
   ],
   "source": [
    "nu['Adj Close'].max()"
   ]
  },
  {
   "cell_type": "code",
   "execution_count": 64,
   "id": "5eb170d2",
   "metadata": {},
   "outputs": [],
   "source": [
    "stocks_not_downloaded = []"
   ]
  },
  {
   "cell_type": "markdown",
   "id": "c02e757c",
   "metadata": {},
   "source": [
    "<font size = 6>Download Stocks</font>"
   ]
  },
  {
   "cell_type": "code",
   "execution_count": 82,
   "id": "213c7251",
   "metadata": {},
   "outputs": [],
   "source": [
    "from datetime import datetime as dt\n",
    "import time\n",
    "from pandas_datareader import data as web\n",
    "\n",
    "folder = \"/home/champ/code/Python4Finance/champlist/\"\n",
    "folder2 = \"/home/champ/code/Python4Finance/df_to_csv/\"\n",
    "\n",
    "def save_to_csv_from_yahoo(folder, ticker, syear, smonth, sday, eyear, emonth, eday):\n",
    "    start = dt(syear, smonth, sday)\n",
    "    end = dt(eyear, emonth, eday)\n",
    "    try:\n",
    "        print(\"Get Data for : \", ticker)\n",
    "        df = web.get_data_yahoo(ticker, start, end)['Adj Close']\n",
    "        time.sleep(10)\n",
    "        df.to_csv(folder + ticker + '.csv')\n",
    "    except Exception as ex:\n",
    "        stocks_not_downloaded.append(ticker)\n",
    "        print(\"Could not get data for: \", ticker)"
   ]
  },
  {
   "cell_type": "code",
   "execution_count": 70,
   "id": "b09fe132",
   "metadata": {},
   "outputs": [],
   "source": [
    "def get_stock_df_from_csv(folder, ticker):\n",
    "    try:\n",
    "        df = pd.read_csv(folder + ticker + '.csv')\n",
    "    except FileNotFoundError:\n",
    "        print(\"File Doesn't Exist\")\n",
    "    else:\n",
    "        return df"
   ]
  },
  {
   "cell_type": "code",
   "execution_count": 17,
   "id": "91e63d71",
   "metadata": {},
   "outputs": [],
   "source": [
    "def get_column_from_csv(file, column_name):\n",
    "    try:\n",
    "        df = pd.read_csv(file)\n",
    "    except FileNotFoundError:\n",
    "        print(\"File Doesn't Exist\")\n",
    "    else:\n",
    "        return df[column_name]\n",
    "            "
   ]
  },
  {
   "cell_type": "markdown",
   "id": "64c5deaf",
   "metadata": {},
   "source": [
    "<font size = 6>Add Daily Return</font>"
   ]
  },
  {
   "cell_type": "code",
   "execution_count": 49,
   "id": "0b1f773c",
   "metadata": {},
   "outputs": [],
   "source": [
    "PATH = '/home/champ/code/Linguistics/Python/jupyter/'\n",
    "def add_daily_return_to_df(df, ticker):\n",
    "    df['daily_return'] = (df['Adj Close'] / df['Adj Close'].shift(1)) - 1\n",
    "    df.to_csv(PATH + ticker + '.csv')\n",
    "    return df"
   ]
  },
  {
   "cell_type": "markdown",
   "id": "0eafaf84",
   "metadata": {},
   "source": [
    "<font size = 6>Return on Investment over Time</font>"
   ]
  },
  {
   "cell_type": "code",
   "execution_count": 11,
   "id": "191f23ab",
   "metadata": {},
   "outputs": [],
   "source": [
    "def get_roi_defined_time(df):\n",
    "    df['Date'] = pd.to_datetime(df['Date'])\n",
    "    start = df[df['Date'] == S_DATE_STR]['Adj Close'][0]\n",
    "    end = df[df['Date'] == E_DATE_STR]['Adj Close'][0]\n",
    "    print(f\"Initial Price: {start}\")\n",
    "    print(f\"Final Price: {end}\")\n",
    "    roi = (end - start) / start\n",
    "    return roi"
   ]
  },
  {
   "cell_type": "markdown",
   "id": "7583e1aa",
   "metadata": {},
   "source": [
    "<font size = 6>Coefficient of Variation</font>"
   ]
  },
  {
   "cell_type": "code",
   "execution_count": 12,
   "id": "7c229df6",
   "metadata": {},
   "outputs": [],
   "source": [
    "def get_cov(stock):\n",
    "    mean = stock['Adj Close'].mean()\n",
    "    sd = stock['Adj Close'].std()\n",
    "    cov = sd / mean\n",
    "    return cov"
   ]
  },
  {
   "cell_type": "markdown",
   "id": "7a56003c",
   "metadata": {},
   "source": [
    "<font size = 6>Delete Unnamed Columns</font>"
   ]
  },
  {
   "cell_type": "code",
   "execution_count": 55,
   "id": "b979bcf4",
   "metadata": {},
   "outputs": [],
   "source": [
    "def delete_unnamed_cols(df):\n",
    "    df = df.loc[:, ~df.columns.str.contains('^Unnamed')]\n",
    "    return df"
   ]
  },
  {
   "cell_type": "markdown",
   "id": "a6e2e893",
   "metadata": {},
   "source": [
    "<font size = 6>Validate Funcs</font>"
   ]
  },
  {
   "cell_type": "code",
   "execution_count": 84,
   "id": "a7e86743",
   "metadata": {},
   "outputs": [],
   "source": [
    "tickers = get_column_from_csv(\"/home/champ/code/Python4Finance/Wilshire-5000-Stocks.csv\", \"Ticker\")\n",
    "\n",
    "files = [ x for x in listdir(folder) if isfile(join(folder, x))]\n",
    "tickers2 = [ os.path.splitext(x)[0] for x in files ]"
   ]
  },
  {
   "cell_type": "code",
   "execution_count": 51,
   "id": "693ab5fd",
   "metadata": {},
   "outputs": [
    {
     "data": {
      "text/plain": [
       "['luv.csv', 'wallstreet.ipynb', 'BanasTut.ipynb', '.ipynb_checkpoints']"
      ]
     },
     "execution_count": 51,
     "metadata": {},
     "output_type": "execute_result"
    }
   ],
   "source": [
    "listdir(PATH)"
   ]
  },
  {
   "cell_type": "code",
   "execution_count": 63,
   "id": "f5366990",
   "metadata": {},
   "outputs": [
    {
     "name": "stdout",
     "output_type": "stream",
     "text": [
      "Get Data for :  A\n",
      "[*********************100%***********************]  1 of 1 completed\n",
      "Get Data for :  AA\n",
      "[*********************100%***********************]  1 of 1 completed\n",
      "Get Data for :  AAL\n",
      "[*********************100%***********************]  1 of 1 completed\n",
      "Get Data for :  AAME\n",
      "[*********************100%***********************]  1 of 1 completed\n",
      "Get Data for :  AAN\n",
      "[*********************100%***********************]  1 of 1 completed\n",
      "Get Data for :  AAOI\n",
      "[*********************100%***********************]  1 of 1 completed\n",
      "Get Data for :  AAON\n",
      "[*********************100%***********************]  1 of 1 completed\n",
      "Get Data for :  AAP\n",
      "[*********************100%***********************]  1 of 1 completed\n",
      "Get Data for :  AAPL\n",
      "[*********************100%***********************]  1 of 1 completed\n",
      "Get Data for :  AAT\n",
      "[*********************100%***********************]  1 of 1 completed\n",
      "Get Data for :  AAWW\n",
      "[*********************100%***********************]  1 of 1 completed"
     ]
    },
    {
     "name": "stderr",
     "output_type": "stream",
     "text": [
      "\n",
      "1 Failed download:\n",
      "['AAWW']: Exception('%ticker%: No timezone found, symbol may be delisted')\n"
     ]
    },
    {
     "name": "stdout",
     "output_type": "stream",
     "text": [
      "\n",
      "Get Data for :  AAXN\n",
      "[*********************100%***********************]  1 of 1 completed"
     ]
    },
    {
     "name": "stderr",
     "output_type": "stream",
     "text": [
      "\n",
      "1 Failed download:\n",
      "['AAXN']: Exception('%ticker%: No timezone found, symbol may be delisted')\n"
     ]
    },
    {
     "name": "stdout",
     "output_type": "stream",
     "text": [
      "\n",
      "Get Data for :  ABBV\n",
      "[*********************100%***********************]  1 of 1 completed\n",
      "Get Data for :  ABC\n",
      "[*********************100%***********************]  1 of 1 completed\n",
      "Get Data for :  ABCB\n",
      "[*********************100%***********************]  1 of 1 completed\n",
      "Get Data for :  ABEO\n",
      "[*********************100%***********************]  1 of 1 completed\n",
      "Get Data for :  ABG\n",
      "[*********************100%***********************]  1 of 1 completed\n",
      "Get Data for :  ABIO\n",
      "[*********************100%***********************]  1 of 1 completed\n",
      "Get Data for :  ABM\n",
      "[*********************100%***********************]  1 of 1 completed\n",
      "Get Data for :  ABMD\n",
      "[*********************100%***********************]  1 of 1 completed\n",
      "Finished\n"
     ]
    }
   ],
   "source": [
    "folder = \"/home/champ/code/Python4Finance/champlist/\"\n",
    "for x in range(20):\n",
    "    save_to_csv_from_yahoo(folder, tickers[x], 2020, 1, 1, 2023, 6, 29)\n",
    "print(\"Finished\")"
   ]
  },
  {
   "cell_type": "code",
   "execution_count": 82,
   "id": "38810560",
   "metadata": {},
   "outputs": [],
   "source": [
    "aapl = pd.read_csv(folder + \"AAPL.csv\")"
   ]
  },
  {
   "cell_type": "code",
   "execution_count": 85,
   "id": "3fc1fb3a",
   "metadata": {},
   "outputs": [
    {
     "data": {
      "text/plain": [
       "<bound method DataFrame.info of            Date   Adj Close\n",
       "0    2020-01-02   73.347939\n",
       "1    2020-01-03   72.634842\n",
       "2    2020-01-06   73.213623\n",
       "3    2020-01-07   72.869293\n",
       "4    2020-01-08   74.041496\n",
       "..          ...         ...\n",
       "873  2023-06-22  187.000000\n",
       "874  2023-06-23  186.679993\n",
       "875  2023-06-26  185.270004\n",
       "876  2023-06-27  188.059998\n",
       "877  2023-06-28  189.250000\n",
       "\n",
       "[878 rows x 2 columns]>"
      ]
     },
     "execution_count": 85,
     "metadata": {},
     "output_type": "execute_result"
    }
   ],
   "source": [
    "aapl.info"
   ]
  },
  {
   "cell_type": "code",
   "execution_count": 86,
   "id": "87f05acd",
   "metadata": {},
   "outputs": [
    {
     "data": {
      "text/html": [
       "<div>\n",
       "<style scoped>\n",
       "    .dataframe tbody tr th:only-of-type {\n",
       "        vertical-align: middle;\n",
       "    }\n",
       "\n",
       "    .dataframe tbody tr th {\n",
       "        vertical-align: top;\n",
       "    }\n",
       "\n",
       "    .dataframe thead th {\n",
       "        text-align: right;\n",
       "    }\n",
       "</style>\n",
       "<table border=\"1\" class=\"dataframe\">\n",
       "  <thead>\n",
       "    <tr style=\"text-align: right;\">\n",
       "      <th></th>\n",
       "      <th>Date</th>\n",
       "      <th>Adj Close</th>\n",
       "    </tr>\n",
       "  </thead>\n",
       "  <tbody>\n",
       "    <tr>\n",
       "      <th>0</th>\n",
       "      <td>2020-01-02</td>\n",
       "      <td>73.347939</td>\n",
       "    </tr>\n",
       "    <tr>\n",
       "      <th>1</th>\n",
       "      <td>2020-01-03</td>\n",
       "      <td>72.634842</td>\n",
       "    </tr>\n",
       "    <tr>\n",
       "      <th>2</th>\n",
       "      <td>2020-01-06</td>\n",
       "      <td>73.213623</td>\n",
       "    </tr>\n",
       "    <tr>\n",
       "      <th>3</th>\n",
       "      <td>2020-01-07</td>\n",
       "      <td>72.869293</td>\n",
       "    </tr>\n",
       "    <tr>\n",
       "      <th>4</th>\n",
       "      <td>2020-01-08</td>\n",
       "      <td>74.041496</td>\n",
       "    </tr>\n",
       "  </tbody>\n",
       "</table>\n",
       "</div>"
      ],
      "text/plain": [
       "         Date  Adj Close\n",
       "0  2020-01-02  73.347939\n",
       "1  2020-01-03  72.634842\n",
       "2  2020-01-06  73.213623\n",
       "3  2020-01-07  72.869293\n",
       "4  2020-01-08  74.041496"
      ]
     },
     "execution_count": 86,
     "metadata": {},
     "output_type": "execute_result"
    }
   ],
   "source": [
    "aapl.head()"
   ]
  },
  {
   "cell_type": "code",
   "execution_count": 87,
   "id": "d34f15f6",
   "metadata": {},
   "outputs": [],
   "source": [
    "aal = get_stock_df_from_csv(folder, \"AAL\")"
   ]
  },
  {
   "cell_type": "code",
   "execution_count": 88,
   "id": "2d73c76c",
   "metadata": {},
   "outputs": [
    {
     "data": {
      "text/html": [
       "<div>\n",
       "<style scoped>\n",
       "    .dataframe tbody tr th:only-of-type {\n",
       "        vertical-align: middle;\n",
       "    }\n",
       "\n",
       "    .dataframe tbody tr th {\n",
       "        vertical-align: top;\n",
       "    }\n",
       "\n",
       "    .dataframe thead th {\n",
       "        text-align: right;\n",
       "    }\n",
       "</style>\n",
       "<table border=\"1\" class=\"dataframe\">\n",
       "  <thead>\n",
       "    <tr style=\"text-align: right;\">\n",
       "      <th></th>\n",
       "      <th>Date</th>\n",
       "      <th>Adj Close</th>\n",
       "    </tr>\n",
       "  </thead>\n",
       "  <tbody>\n",
       "    <tr>\n",
       "      <th>0</th>\n",
       "      <td>2020-01-02</td>\n",
       "      <td>28.982893</td>\n",
       "    </tr>\n",
       "    <tr>\n",
       "      <th>1</th>\n",
       "      <td>2020-01-03</td>\n",
       "      <td>27.548195</td>\n",
       "    </tr>\n",
       "    <tr>\n",
       "      <th>2</th>\n",
       "      <td>2020-01-06</td>\n",
       "      <td>27.219410</td>\n",
       "    </tr>\n",
       "    <tr>\n",
       "      <th>3</th>\n",
       "      <td>2020-01-07</td>\n",
       "      <td>27.119778</td>\n",
       "    </tr>\n",
       "    <tr>\n",
       "      <th>4</th>\n",
       "      <td>2020-01-08</td>\n",
       "      <td>27.737495</td>\n",
       "    </tr>\n",
       "    <tr>\n",
       "      <th>...</th>\n",
       "      <td>...</td>\n",
       "      <td>...</td>\n",
       "    </tr>\n",
       "    <tr>\n",
       "      <th>873</th>\n",
       "      <td>2023-06-22</td>\n",
       "      <td>16.360001</td>\n",
       "    </tr>\n",
       "    <tr>\n",
       "      <th>874</th>\n",
       "      <td>2023-06-23</td>\n",
       "      <td>16.260000</td>\n",
       "    </tr>\n",
       "    <tr>\n",
       "      <th>875</th>\n",
       "      <td>2023-06-26</td>\n",
       "      <td>16.440001</td>\n",
       "    </tr>\n",
       "    <tr>\n",
       "      <th>876</th>\n",
       "      <td>2023-06-27</td>\n",
       "      <td>17.350000</td>\n",
       "    </tr>\n",
       "    <tr>\n",
       "      <th>877</th>\n",
       "      <td>2023-06-28</td>\n",
       "      <td>17.549999</td>\n",
       "    </tr>\n",
       "  </tbody>\n",
       "</table>\n",
       "<p>878 rows × 2 columns</p>\n",
       "</div>"
      ],
      "text/plain": [
       "           Date  Adj Close\n",
       "0    2020-01-02  28.982893\n",
       "1    2020-01-03  27.548195\n",
       "2    2020-01-06  27.219410\n",
       "3    2020-01-07  27.119778\n",
       "4    2020-01-08  27.737495\n",
       "..          ...        ...\n",
       "873  2023-06-22  16.360001\n",
       "874  2023-06-23  16.260000\n",
       "875  2023-06-26  16.440001\n",
       "876  2023-06-27  17.350000\n",
       "877  2023-06-28  17.549999\n",
       "\n",
       "[878 rows x 2 columns]"
      ]
     },
     "execution_count": 88,
     "metadata": {},
     "output_type": "execute_result"
    }
   ],
   "source": [
    "aal"
   ]
  },
  {
   "cell_type": "code",
   "execution_count": 5,
   "id": "4c8bfa93",
   "metadata": {},
   "outputs": [
    {
     "name": "stdout",
     "output_type": "stream",
     "text": [
      "[*********************100%***********************]  1 of 1 completed\n"
     ]
    }
   ],
   "source": [
    "luv = web.get_data_yahoo('LUV', start='2022-01-01', end='2023-06-20')\n"
   ]
  },
  {
   "cell_type": "code",
   "execution_count": 28,
   "id": "913ed1bc",
   "metadata": {},
   "outputs": [
    {
     "data": {
      "text/plain": [
       "<bound method DataFrame.info of                  Open       High        Low      Close  Adj Close    Volume   \n",
       "Date                                                                          \n",
       "2022-01-03  43.169998  44.259998  42.509998  44.000000  43.312012  10571400  \\\n",
       "2022-01-04  44.709999  45.540001  44.480000  44.660000  43.961685  11207000   \n",
       "2022-01-05  44.950001  45.200001  43.799999  43.990002  43.302170   9702000   \n",
       "2022-01-06  44.480000  44.680000  43.070000  43.889999  43.203728   6750700   \n",
       "2022-01-07  44.189999  45.680000  44.110001  45.349998  44.640900   7479100   \n",
       "...               ...        ...        ...        ...        ...       ...   \n",
       "2023-06-12  30.990000  31.870001  30.969999  31.459999  31.294662   8837200   \n",
       "2023-06-13  31.610001  32.529999  31.580000  32.450001  32.279461   8559500   \n",
       "2023-06-14  32.709999  33.639999  32.680000  33.570000  33.393574  14745200   \n",
       "2023-06-15  33.529999  34.060001  33.459999  33.970001  33.791473  11142500   \n",
       "2023-06-16  34.189999  34.410000  33.810001  34.250000  34.070000   8741200   \n",
       "\n",
       "            daily_return  \n",
       "Date                      \n",
       "2022-01-03           NaN  \n",
       "2022-01-04      0.015000  \n",
       "2022-01-05     -0.015002  \n",
       "2022-01-06     -0.002273  \n",
       "2022-01-07      0.033265  \n",
       "...                  ...  \n",
       "2023-06-12      0.027433  \n",
       "2023-06-13      0.031469  \n",
       "2023-06-14      0.034515  \n",
       "2023-06-15      0.011915  \n",
       "2023-06-16      0.008243  \n",
       "\n",
       "[366 rows x 7 columns]>"
      ]
     },
     "execution_count": 28,
     "metadata": {},
     "output_type": "execute_result"
    }
   ],
   "source": [
    "luv.info"
   ]
  },
  {
   "cell_type": "code",
   "execution_count": 32,
   "id": "7c4da43a",
   "metadata": {},
   "outputs": [],
   "source": [
    "add_daily_return_to_df(luv, 'luv')"
   ]
  },
  {
   "cell_type": "markdown",
   "id": "b82bff8a",
   "metadata": {},
   "source": [
    "<font size = 6>Return Dataframe from CSV</font>"
   ]
  },
  {
   "cell_type": "code",
   "execution_count": 65,
   "id": "c4f91607",
   "metadata": {},
   "outputs": [],
   "source": [
    "def get_df_from_csv(ticker):\n",
    "    try:\n",
    "        df = pd.read_csv(folder + ticker + '.csv')\n",
    "    except FileNotFoundError:\n",
    "        print(\"File Does Not Exist\")\n",
    "    else:\n",
    "        return df"
   ]
  },
  {
   "cell_type": "markdown",
   "id": "d1e4a9d6",
   "metadata": {},
   "source": [
    "<font size = 6>Save Dataframe To CSV</font>"
   ]
  },
  {
   "cell_type": "code",
   "execution_count": 68,
   "id": "1d98f407",
   "metadata": {},
   "outputs": [],
   "source": [
    "def save_dataframe_to_csv(df, ticker):\n",
    "    df.to_csv(folder2 + ticker + '.csv')"
   ]
  },
  {
   "cell_type": "markdown",
   "id": "d2e01b43",
   "metadata": {},
   "source": [
    "<font size = 6>Adding Daily Return</font>"
   ]
  },
  {
   "cell_type": "code",
   "execution_count": 33,
   "id": "ad4b8e36",
   "metadata": {},
   "outputs": [
    {
     "data": {
      "text/html": [
       "<div>\n",
       "<style scoped>\n",
       "    .dataframe tbody tr th:only-of-type {\n",
       "        vertical-align: middle;\n",
       "    }\n",
       "\n",
       "    .dataframe tbody tr th {\n",
       "        vertical-align: top;\n",
       "    }\n",
       "\n",
       "    .dataframe thead th {\n",
       "        text-align: right;\n",
       "    }\n",
       "</style>\n",
       "<table border=\"1\" class=\"dataframe\">\n",
       "  <thead>\n",
       "    <tr style=\"text-align: right;\">\n",
       "      <th></th>\n",
       "      <th>Date</th>\n",
       "      <th>Open</th>\n",
       "      <th>High</th>\n",
       "      <th>Low</th>\n",
       "      <th>Close</th>\n",
       "      <th>Adj Close</th>\n",
       "      <th>Volume</th>\n",
       "      <th>daily_return</th>\n",
       "    </tr>\n",
       "  </thead>\n",
       "  <tbody>\n",
       "    <tr>\n",
       "      <th>0</th>\n",
       "      <td>2022-01-03</td>\n",
       "      <td>43.169998</td>\n",
       "      <td>44.259998</td>\n",
       "      <td>42.509998</td>\n",
       "      <td>44.000000</td>\n",
       "      <td>43.312012</td>\n",
       "      <td>10571400</td>\n",
       "      <td>NaN</td>\n",
       "    </tr>\n",
       "    <tr>\n",
       "      <th>1</th>\n",
       "      <td>2022-01-04</td>\n",
       "      <td>44.709999</td>\n",
       "      <td>45.540001</td>\n",
       "      <td>44.480000</td>\n",
       "      <td>44.660000</td>\n",
       "      <td>43.961685</td>\n",
       "      <td>11207000</td>\n",
       "      <td>0.015000</td>\n",
       "    </tr>\n",
       "    <tr>\n",
       "      <th>2</th>\n",
       "      <td>2022-01-05</td>\n",
       "      <td>44.950001</td>\n",
       "      <td>45.200001</td>\n",
       "      <td>43.799999</td>\n",
       "      <td>43.990002</td>\n",
       "      <td>43.302170</td>\n",
       "      <td>9702000</td>\n",
       "      <td>-0.015002</td>\n",
       "    </tr>\n",
       "    <tr>\n",
       "      <th>3</th>\n",
       "      <td>2022-01-06</td>\n",
       "      <td>44.480000</td>\n",
       "      <td>44.680000</td>\n",
       "      <td>43.070000</td>\n",
       "      <td>43.889999</td>\n",
       "      <td>43.203728</td>\n",
       "      <td>6750700</td>\n",
       "      <td>-0.002273</td>\n",
       "    </tr>\n",
       "    <tr>\n",
       "      <th>4</th>\n",
       "      <td>2022-01-07</td>\n",
       "      <td>44.189999</td>\n",
       "      <td>45.680000</td>\n",
       "      <td>44.110001</td>\n",
       "      <td>45.349998</td>\n",
       "      <td>44.640900</td>\n",
       "      <td>7479100</td>\n",
       "      <td>0.033265</td>\n",
       "    </tr>\n",
       "    <tr>\n",
       "      <th>...</th>\n",
       "      <td>...</td>\n",
       "      <td>...</td>\n",
       "      <td>...</td>\n",
       "      <td>...</td>\n",
       "      <td>...</td>\n",
       "      <td>...</td>\n",
       "      <td>...</td>\n",
       "      <td>...</td>\n",
       "    </tr>\n",
       "    <tr>\n",
       "      <th>361</th>\n",
       "      <td>2023-06-12</td>\n",
       "      <td>30.990000</td>\n",
       "      <td>31.870001</td>\n",
       "      <td>30.969999</td>\n",
       "      <td>31.459999</td>\n",
       "      <td>31.294662</td>\n",
       "      <td>8837200</td>\n",
       "      <td>0.027433</td>\n",
       "    </tr>\n",
       "    <tr>\n",
       "      <th>362</th>\n",
       "      <td>2023-06-13</td>\n",
       "      <td>31.610001</td>\n",
       "      <td>32.529999</td>\n",
       "      <td>31.580000</td>\n",
       "      <td>32.450001</td>\n",
       "      <td>32.279461</td>\n",
       "      <td>8559500</td>\n",
       "      <td>0.031469</td>\n",
       "    </tr>\n",
       "    <tr>\n",
       "      <th>363</th>\n",
       "      <td>2023-06-14</td>\n",
       "      <td>32.709999</td>\n",
       "      <td>33.639999</td>\n",
       "      <td>32.680000</td>\n",
       "      <td>33.570000</td>\n",
       "      <td>33.393574</td>\n",
       "      <td>14745200</td>\n",
       "      <td>0.034515</td>\n",
       "    </tr>\n",
       "    <tr>\n",
       "      <th>364</th>\n",
       "      <td>2023-06-15</td>\n",
       "      <td>33.529999</td>\n",
       "      <td>34.060001</td>\n",
       "      <td>33.459999</td>\n",
       "      <td>33.970001</td>\n",
       "      <td>33.791473</td>\n",
       "      <td>11142500</td>\n",
       "      <td>0.011915</td>\n",
       "    </tr>\n",
       "    <tr>\n",
       "      <th>365</th>\n",
       "      <td>2023-06-16</td>\n",
       "      <td>34.189999</td>\n",
       "      <td>34.410000</td>\n",
       "      <td>33.810001</td>\n",
       "      <td>34.250000</td>\n",
       "      <td>34.070000</td>\n",
       "      <td>8741200</td>\n",
       "      <td>0.008243</td>\n",
       "    </tr>\n",
       "  </tbody>\n",
       "</table>\n",
       "<p>366 rows × 8 columns</p>\n",
       "</div>"
      ],
      "text/plain": [
       "           Date       Open       High        Low      Close  Adj Close   \n",
       "0    2022-01-03  43.169998  44.259998  42.509998  44.000000  43.312012  \\\n",
       "1    2022-01-04  44.709999  45.540001  44.480000  44.660000  43.961685   \n",
       "2    2022-01-05  44.950001  45.200001  43.799999  43.990002  43.302170   \n",
       "3    2022-01-06  44.480000  44.680000  43.070000  43.889999  43.203728   \n",
       "4    2022-01-07  44.189999  45.680000  44.110001  45.349998  44.640900   \n",
       "..          ...        ...        ...        ...        ...        ...   \n",
       "361  2023-06-12  30.990000  31.870001  30.969999  31.459999  31.294662   \n",
       "362  2023-06-13  31.610001  32.529999  31.580000  32.450001  32.279461   \n",
       "363  2023-06-14  32.709999  33.639999  32.680000  33.570000  33.393574   \n",
       "364  2023-06-15  33.529999  34.060001  33.459999  33.970001  33.791473   \n",
       "365  2023-06-16  34.189999  34.410000  33.810001  34.250000  34.070000   \n",
       "\n",
       "       Volume  daily_return  \n",
       "0    10571400           NaN  \n",
       "1    11207000      0.015000  \n",
       "2     9702000     -0.015002  \n",
       "3     6750700     -0.002273  \n",
       "4     7479100      0.033265  \n",
       "..        ...           ...  \n",
       "361   8837200      0.027433  \n",
       "362   8559500      0.031469  \n",
       "363  14745200      0.034515  \n",
       "364  11142500      0.011915  \n",
       "365   8741200      0.008243  \n",
       "\n",
       "[366 rows x 8 columns]"
      ]
     },
     "execution_count": 33,
     "metadata": {},
     "output_type": "execute_result"
    }
   ],
   "source": [
    "luv_plus = pd.read_csv(PATH + 'luv.csv')\n",
    "luv_plus"
   ]
  },
  {
   "cell_type": "code",
   "execution_count": 159,
   "id": "883065af",
   "metadata": {},
   "outputs": [
    {
     "data": {
      "text/html": [
       "<div style=\"display:flex;flex-direction:row;justify-content:space-between;\">\n",
       "                <pre style=\"width: 100%; white-space: pre-wrap;\" id=\"65a324d0-a02e-4d61-ba5a-d7cfa23f7984\">\n",
       "# import matplotlib library\n",
       "import matplotlib.pyplot as plt\n",
       "\n",
       "# create a line chart of the 'Close' column in luv_plus\n",
       "plt.plot(luv_plus['Close'])\n",
       "\n",
       "# add labels to the x and y axes\n",
       "plt.xlabel('Date')\n",
       "plt.ylabel('Closing Price')\n",
       "\n",
       "# show the plot\n",
       "plt.show()\n",
       "</pre>\n",
       "                <button style=\"height: fit-content;\" onclick=\"navigator.clipboard.writeText(JSON.parse(atob(`IlxuIyBpbXBvcnQgbWF0cGxvdGxpYiBsaWJyYXJ5XG5pbXBvcnQgbWF0cGxvdGxpYi5weXBsb3QgYXMgcGx0XG5cbiMgY3JlYXRlIGEgbGluZSBjaGFydCBvZiB0aGUgJ0Nsb3NlJyBjb2x1bW4gaW4gbHV2X3BsdXNcbnBsdC5wbG90KGx1dl9wbHVzWydDbG9zZSddKVxuXG4jIGFkZCBsYWJlbHMgdG8gdGhlIHggYW5kIHkgYXhlc1xucGx0LnhsYWJlbCgnRGF0ZScpXG5wbHQueWxhYmVsKCdDbG9zaW5nIFByaWNlJylcblxuIyBzaG93IHRoZSBwbG90XG5wbHQuc2hvdygpXG4i`)))\">Copy</button>\n",
       "                </div>"
      ],
      "text/plain": [
       "<IPython.core.display.HTML object>"
      ]
     },
     "metadata": {},
     "output_type": "display_data"
    }
   ],
   "source": [
    "luv_plus.sketch.howto(\"how can i make a line chart\")"
   ]
  },
  {
   "cell_type": "code",
   "execution_count": 160,
   "id": "0b14ff88",
   "metadata": {},
   "outputs": [
    {
     "data": {
      "image/png": "[encoded data removed]",
      "text/plain": [
       "<Figure size 432x288 with 1 Axes>"
      ]
     },
     "metadata": {
      "needs_background": "light"
     },
     "output_type": "display_data"
    }
   ],
   "source": [
    "\n",
    "\n",
    "# import matplotlib library\n",
    "#import matplotlib.pyplot as plt\n",
    "\n",
    "# create a line chart of the 'Close' column in luv_plus\n",
    "plt.plot(luv_plus['Close'])\n",
    "\n",
    "# add labels to the x and y axes\n",
    "plt.xlabel('Date')\n",
    "plt.ylabel('Closing Price')\n",
    "\n",
    "# show the plot\n",
    "plt.show()\n"
   ]
  },
  {
   "cell_type": "code",
   "execution_count": 152,
   "id": "2ef5c0d5",
   "metadata": {},
   "outputs": [
    {
     "ename": "ValueError",
     "evalue": "The truth value of an array with more than one element is ambiguous. Use a.any() or a.all()",
     "output_type": "error",
     "traceback": [
      "\u001b[0;31m---------------------------------------------------------------------------\u001b[0m",
      "\u001b[0;31mValueError\u001b[0m                                Traceback (most recent call last)",
      "\u001b[0;32m/tmp/ipykernel_202580/2618132433.py\u001b[0m in \u001b[0;36m<module>\u001b[0;34m\u001b[0m\n\u001b[1;32m      1\u001b[0m \u001b[0;32mfor\u001b[0m \u001b[0mi\u001b[0m \u001b[0;32min\u001b[0m \u001b[0mshaped\u001b[0m\u001b[0;34m:\u001b[0m\u001b[0;34m\u001b[0m\u001b[0;34m\u001b[0m\u001b[0m\n\u001b[0;32m----> 2\u001b[0;31m     \u001b[0;32mif\u001b[0m \u001b[0mi\u001b[0m \u001b[0;34m>\u001b[0m \u001b[0;36m11\u001b[0m\u001b[0;34m:\u001b[0m\u001b[0;34m\u001b[0m\u001b[0;34m\u001b[0m\u001b[0m\n\u001b[0m\u001b[1;32m      3\u001b[0m         \u001b[0mprint\u001b[0m\u001b[0;34m(\u001b[0m\u001b[0mi\u001b[0m\u001b[0;34m)\u001b[0m\u001b[0;34m\u001b[0m\u001b[0;34m\u001b[0m\u001b[0m\n\u001b[1;32m      4\u001b[0m     \u001b[0;32melse\u001b[0m\u001b[0;34m:\u001b[0m\u001b[0;34m\u001b[0m\u001b[0;34m\u001b[0m\u001b[0m\n\u001b[1;32m      5\u001b[0m         \u001b[0mprint\u001b[0m\u001b[0;34m(\u001b[0m\u001b[0;34m\"and we are finished!\"\u001b[0m\u001b[0;34m)\u001b[0m\u001b[0;34m\u001b[0m\u001b[0;34m\u001b[0m\u001b[0m\n",
      "\u001b[0;31mValueError\u001b[0m: The truth value of an array with more than one element is ambiguous. Use a.any() or a.all()"
     ]
    }
   ],
   "source": [
    "for i in shaped:\n",
    "    if i > 11:\n",
    "        print(i)\n",
    "    else:\n",
    "        print(\"and we are finished!\")"
   ]
  },
  {
   "cell_type": "markdown",
   "id": "2cdc608e",
   "metadata": {},
   "source": [
    "<font size = 6>Daily Returns & Clean Up Files</font>"
   ]
  },
  {
   "cell_type": "code",
   "execution_count": 86,
   "id": "725018f3",
   "metadata": {},
   "outputs": [
    {
     "name": "stdout",
     "output_type": "stream",
     "text": [
      "Working on: A\n",
      "Working on: AA\n",
      "Working on: AAT\n",
      "Working on: AAP\n",
      "Working on: AAXN\n",
      "Working on: AAME\n",
      "Working on: AAN\n",
      "Working on: ABM\n",
      "Working on: ABG\n",
      "Working on: ABEO\n",
      "Working on: AAOI\n",
      "Working on: AAPL\n",
      "Working on: AAL\n",
      "Working on: ABIO\n",
      "Working on: AAON\n",
      "Working on: ABCB\n",
      "Working on: ABBV\n",
      "Working on: AAWW\n",
      "Working on: ABC\n",
      "Working on: ABMD\n"
     ]
    }
   ],
   "source": [
    "for ticker in tickers2:\n",
    "    print(f\"Working on: {ticker}\")\n",
    "    stock_df = get_df_from_csv(ticker)\n",
    "    add_daily_return_to_df(stock_df, ticker)\n",
    "    stock_df = delete_unnamed_cols(stock_df)\n",
    "    save_dataframe_to_csv(stock_df, ticker)"
   ]
  },
  {
   "cell_type": "code",
   "execution_count": 64,
   "id": "fa6539fa",
   "metadata": {},
   "outputs": [
    {
     "data": {
      "text/plain": [
       "['A.csv',\n",
       " 'AA.csv',\n",
       " 'AAT.csv',\n",
       " 'AAP.csv',\n",
       " 'AAXN.csv',\n",
       " 'AAME.csv',\n",
       " 'AAN.csv',\n",
       " 'ABM.csv',\n",
       " 'ABG.csv',\n",
       " 'ABEO.csv',\n",
       " 'AAOI.csv',\n",
       " 'AAPL.csv',\n",
       " 'AAL.csv',\n",
       " 'ABIO.csv',\n",
       " 'AAON.csv',\n",
       " 'ABCB.csv',\n",
       " 'ABBV.csv',\n",
       " 'AAWW.csv',\n",
       " 'ABC.csv',\n",
       " 'ABMD.csv']"
      ]
     },
     "execution_count": 64,
     "metadata": {},
     "output_type": "execute_result"
    }
   ],
   "source": [
    "listdir(folder)"
   ]
  },
  {
   "cell_type": "code",
   "execution_count": 85,
   "id": "fb0dee20",
   "metadata": {},
   "outputs": [
    {
     "data": {
      "text/plain": [
       "['A',\n",
       " 'AA',\n",
       " 'AAT',\n",
       " 'AAP',\n",
       " 'AAXN',\n",
       " 'AAME',\n",
       " 'AAN',\n",
       " 'ABM',\n",
       " 'ABG',\n",
       " 'ABEO',\n",
       " 'AAOI',\n",
       " 'AAPL',\n",
       " 'AAL',\n",
       " 'ABIO',\n",
       " 'AAON',\n",
       " 'ABCB',\n",
       " 'ABBV',\n",
       " 'AAWW',\n",
       " 'ABC',\n",
       " 'ABMD']"
      ]
     },
     "execution_count": 85,
     "metadata": {},
     "output_type": "execute_result"
    }
   ],
   "source": [
    "tickers2"
   ]
  },
  {
   "cell_type": "code",
   "execution_count": 91,
   "id": "732f7c74",
   "metadata": {},
   "outputs": [
    {
     "data": {
      "image/png": "[encoded data removed]",
      "text/plain": [
       "<Figure size 432x288 with 1 Axes>"
      ]
     },
     "metadata": {},
     "output_type": "display_data"
    }
   ],
   "source": [
    "sizes = [10, 30, 60]\n",
    "labels = ['Apple', 'Orange', 'Banana']\n",
    "plt.pie(sizes, labels=labels)\n",
    "plt.title(\"Pie Chart\")\n",
    "plt.show()"
   ]
  },
  {
   "cell_type": "code",
   "execution_count": 109,
   "id": "1fe7ebfa",
   "metadata": {},
   "outputs": [
    {
     "data": {
      "text/plain": [
       "['A.csv',\n",
       " 'AA.csv',\n",
       " 'AAT.csv',\n",
       " 'AAP.csv',\n",
       " 'luv.csv',\n",
       " 'AAXN.csv',\n",
       " 'AAME.csv',\n",
       " 'wallstreet.ipynb',\n",
       " 'AAN.csv',\n",
       " 'ABM.csv',\n",
       " 'ABG.csv',\n",
       " 'ABEO.csv',\n",
       " 'AAOI.csv',\n",
       " 'AAPL.csv',\n",
       " 'AAL.csv',\n",
       " 'BanasTut.ipynb',\n",
       " 'ABIO.csv',\n",
       " 'AAON.csv',\n",
       " 'ABCB.csv',\n",
       " 'ABBV.csv',\n",
       " '.ipynb_checkpoints',\n",
       " 'ABC.csv',\n",
       " 'ABMD.csv']"
      ]
     },
     "execution_count": 109,
     "metadata": {},
     "output_type": "execute_result"
    }
   ],
   "source": [
    "listdir()"
   ]
  },
  {
   "cell_type": "code",
   "execution_count": 110,
   "id": "b92b0901",
   "metadata": {},
   "outputs": [
    {
     "data": {
      "text/html": [
       "<div><style>\n",
       ".dataframe > thead > tr > th,\n",
       ".dataframe > tbody > tr > td {\n",
       "  text-align: right;\n",
       "}\n",
       "</style>\n",
       "<small>shape: (878, 4)</small><table border=\"1\" class=\"dataframe\"><thead><tr><th></th><th>Date</th><th>Adj Close</th><th>daily_return</th></tr><tr><td>i64</td><td>str</td><td>f64</td><td>f64</td></tr></thead><tbody><tr><td>0</td><td>&quot;2020-01-02&quot;</td><td>83.948067</td><td>null</td></tr><tr><td>1</td><td>&quot;2020-01-03&quot;</td><td>82.600189</td><td>-0.016056</td></tr><tr><td>2</td><td>&quot;2020-01-06&quot;</td><td>82.84436</td><td>0.002956</td></tr><tr><td>3</td><td>&quot;2020-01-07&quot;</td><td>83.098305</td><td>0.003065</td></tr><tr><td>4</td><td>&quot;2020-01-08&quot;</td><td>83.918747</td><td>0.009873</td></tr><tr><td>5</td><td>&quot;2020-01-09&quot;</td><td>85.237312</td><td>0.015712</td></tr><tr><td>6</td><td>&quot;2020-01-10&quot;</td><td>85.549866</td><td>0.003667</td></tr><tr><td>7</td><td>&quot;2020-01-13&quot;</td><td>85.422874</td><td>-0.001484</td></tr><tr><td>8</td><td>&quot;2020-01-14&quot;</td><td>85.940529</td><td>0.00606</td></tr><tr><td>9</td><td>&quot;2020-01-15&quot;</td><td>86.555855</td><td>0.00716</td></tr><tr><td>10</td><td>&quot;2020-01-16&quot;</td><td>87.376305</td><td>0.009479</td></tr><tr><td>11</td><td>&quot;2020-01-17&quot;</td><td>88.020935</td><td>0.007378</td></tr><tr><td>&hellip;</td><td>&hellip;</td><td>&hellip;</td><td>&hellip;</td></tr><tr><td>866</td><td>&quot;2023-06-12&quot;</td><td>118.314064</td><td>0.02375</td></tr><tr><td>867</td><td>&quot;2023-06-13&quot;</td><td>119.272232</td><td>0.008099</td></tr><tr><td>868</td><td>&quot;2023-06-14&quot;</td><td>119.172424</td><td>-0.000837</td></tr><tr><td>869</td><td>&quot;2023-06-15&quot;</td><td>120.99894</td><td>0.015327</td></tr><tr><td>870</td><td>&quot;2023-06-16&quot;</td><td>120.899124</td><td>-0.000825</td></tr><tr><td>871</td><td>&quot;2023-06-20&quot;</td><td>117.934792</td><td>-0.024519</td></tr><tr><td>872</td><td>&quot;2023-06-21&quot;</td><td>118.104469</td><td>0.001439</td></tr><tr><td>873</td><td>&quot;2023-06-22&quot;</td><td>118.453796</td><td>0.002958</td></tr><tr><td>874</td><td>&quot;2023-06-23&quot;</td><td>119.192383</td><td>0.006235</td></tr><tr><td>875</td><td>&quot;2023-06-26&quot;</td><td>118.144394</td><td>-0.008792</td></tr><tr><td>876</td><td>&quot;2023-06-27&quot;</td><td>116.816925</td><td>-0.011236</td></tr><tr><td>877</td><td>&quot;2023-06-28&quot;</td><td>116.148201</td><td>-0.005725</td></tr></tbody></table></div>"
      ],
      "text/plain": [
       "shape: (878, 4)\n",
       "┌─────┬────────────┬────────────┬──────────────┐\n",
       "│     ┆ Date       ┆ Adj Close  ┆ daily_return │\n",
       "│ --- ┆ ---        ┆ ---        ┆ ---          │\n",
       "│ i64 ┆ str        ┆ f64        ┆ f64          │\n",
       "╞═════╪════════════╪════════════╪══════════════╡\n",
       "│ 0   ┆ 2020-01-02 ┆ 83.948067  ┆ null         │\n",
       "│ 1   ┆ 2020-01-03 ┆ 82.600189  ┆ -0.016056    │\n",
       "│ 2   ┆ 2020-01-06 ┆ 82.84436   ┆ 0.002956     │\n",
       "│ 3   ┆ 2020-01-07 ┆ 83.098305  ┆ 0.003065     │\n",
       "│ …   ┆ …          ┆ …          ┆ …            │\n",
       "│ 874 ┆ 2023-06-23 ┆ 119.192383 ┆ 0.006235     │\n",
       "│ 875 ┆ 2023-06-26 ┆ 118.144394 ┆ -0.008792    │\n",
       "│ 876 ┆ 2023-06-27 ┆ 116.816925 ┆ -0.011236    │\n",
       "│ 877 ┆ 2023-06-28 ┆ 116.148201 ┆ -0.005725    │\n",
       "└─────┴────────────┴────────────┴──────────────┘"
      ]
     },
     "execution_count": 110,
     "metadata": {},
     "output_type": "execute_result"
    }
   ],
   "source": [
    "a = pl.read_csv('A.csv')\n",
    "a"
   ]
  },
  {
   "cell_type": "code",
   "execution_count": 113,
   "id": "af76f456",
   "metadata": {},
   "outputs": [
    {
     "data": {
      "text/html": [
       "<div><style>\n",
       ".dataframe > thead > tr > th,\n",
       ".dataframe > tbody > tr > td {\n",
       "  text-align: right;\n",
       "}\n",
       "</style>\n",
       "<small>shape: (686, 4)</small><table border=\"1\" class=\"dataframe\"><thead><tr><th></th><th>Date</th><th>Adj Close</th><th>daily_return</th></tr><tr><td>i64</td><td>str</td><td>f64</td><td>f64</td></tr></thead><tbody><tr><td>169</td><td>&quot;2020-09-02&quot;</td><td>101.48085</td><td>0.022745</td></tr><tr><td>191</td><td>&quot;2020-10-05&quot;</td><td>101.368919</td><td>0.032956</td></tr><tr><td>193</td><td>&quot;2020-10-07&quot;</td><td>102.116013</td><td>0.022139</td></tr><tr><td>194</td><td>&quot;2020-10-08&quot;</td><td>102.391266</td><td>0.002695</td></tr><tr><td>195</td><td>&quot;2020-10-09&quot;</td><td>103.964088</td><td>0.015361</td></tr><tr><td>196</td><td>&quot;2020-10-12&quot;</td><td>103.639702</td><td>-0.00312</td></tr><tr><td>197</td><td>&quot;2020-10-13&quot;</td><td>103.629868</td><td>-0.000095</td></tr><tr><td>198</td><td>&quot;2020-10-14&quot;</td><td>103.275978</td><td>-0.003415</td></tr><tr><td>199</td><td>&quot;2020-10-15&quot;</td><td>103.531563</td><td>0.002475</td></tr><tr><td>200</td><td>&quot;2020-10-16&quot;</td><td>104.88813</td><td>0.013103</td></tr><tr><td>201</td><td>&quot;2020-10-19&quot;</td><td>103.698685</td><td>-0.01134</td></tr><tr><td>202</td><td>&quot;2020-10-20&quot;</td><td>103.81665</td><td>0.001138</td></tr><tr><td>&hellip;</td><td>&hellip;</td><td>&hellip;</td><td>&hellip;</td></tr><tr><td>866</td><td>&quot;2023-06-12&quot;</td><td>118.314064</td><td>0.02375</td></tr><tr><td>867</td><td>&quot;2023-06-13&quot;</td><td>119.272232</td><td>0.008099</td></tr><tr><td>868</td><td>&quot;2023-06-14&quot;</td><td>119.172424</td><td>-0.000837</td></tr><tr><td>869</td><td>&quot;2023-06-15&quot;</td><td>120.99894</td><td>0.015327</td></tr><tr><td>870</td><td>&quot;2023-06-16&quot;</td><td>120.899124</td><td>-0.000825</td></tr><tr><td>871</td><td>&quot;2023-06-20&quot;</td><td>117.934792</td><td>-0.024519</td></tr><tr><td>872</td><td>&quot;2023-06-21&quot;</td><td>118.104469</td><td>0.001439</td></tr><tr><td>873</td><td>&quot;2023-06-22&quot;</td><td>118.453796</td><td>0.002958</td></tr><tr><td>874</td><td>&quot;2023-06-23&quot;</td><td>119.192383</td><td>0.006235</td></tr><tr><td>875</td><td>&quot;2023-06-26&quot;</td><td>118.144394</td><td>-0.008792</td></tr><tr><td>876</td><td>&quot;2023-06-27&quot;</td><td>116.816925</td><td>-0.011236</td></tr><tr><td>877</td><td>&quot;2023-06-28&quot;</td><td>116.148201</td><td>-0.005725</td></tr></tbody></table></div>"
      ],
      "text/plain": [
       "shape: (686, 4)\n",
       "┌─────┬────────────┬────────────┬──────────────┐\n",
       "│     ┆ Date       ┆ Adj Close  ┆ daily_return │\n",
       "│ --- ┆ ---        ┆ ---        ┆ ---          │\n",
       "│ i64 ┆ str        ┆ f64        ┆ f64          │\n",
       "╞═════╪════════════╪════════════╪══════════════╡\n",
       "│ 169 ┆ 2020-09-02 ┆ 101.48085  ┆ 0.022745     │\n",
       "│ 191 ┆ 2020-10-05 ┆ 101.368919 ┆ 0.032956     │\n",
       "│ 193 ┆ 2020-10-07 ┆ 102.116013 ┆ 0.022139     │\n",
       "│ 194 ┆ 2020-10-08 ┆ 102.391266 ┆ 0.002695     │\n",
       "│ …   ┆ …          ┆ …          ┆ …            │\n",
       "│ 874 ┆ 2023-06-23 ┆ 119.192383 ┆ 0.006235     │\n",
       "│ 875 ┆ 2023-06-26 ┆ 118.144394 ┆ -0.008792    │\n",
       "│ 876 ┆ 2023-06-27 ┆ 116.816925 ┆ -0.011236    │\n",
       "│ 877 ┆ 2023-06-28 ┆ 116.148201 ┆ -0.005725    │\n",
       "└─────┴────────────┴────────────┴──────────────┘"
      ]
     },
     "execution_count": 113,
     "metadata": {},
     "output_type": "execute_result"
    }
   ],
   "source": [
    "a.filter(pl.col(\"Adj Close\") > 100)"
   ]
  },
  {
   "cell_type": "code",
   "execution_count": 135,
   "id": "07ba0572",
   "metadata": {},
   "outputs": [
    {
     "data": {
      "text/html": [
       "<div><style>\n",
       ".dataframe > thead > tr > th,\n",
       ".dataframe > tbody > tr > td {\n",
       "  text-align: right;\n",
       "}\n",
       "</style>\n",
       "<small>shape: (878, 1)</small><table border=\"1\" class=\"dataframe\"><thead><tr><th>daily_return</th></tr><tr><td>f64</td></tr></thead><tbody><tr><td>null</td></tr><tr><td>-0.016056</td></tr><tr><td>0.002956</td></tr><tr><td>0.003065</td></tr><tr><td>0.009873</td></tr><tr><td>0.015712</td></tr><tr><td>0.003667</td></tr><tr><td>-0.001484</td></tr><tr><td>0.00606</td></tr><tr><td>0.00716</td></tr><tr><td>0.009479</td></tr><tr><td>0.007378</td></tr><tr><td>&hellip;</td></tr><tr><td>0.02375</td></tr><tr><td>0.008099</td></tr><tr><td>-0.000837</td></tr><tr><td>0.015327</td></tr><tr><td>-0.000825</td></tr><tr><td>-0.024519</td></tr><tr><td>0.001439</td></tr><tr><td>0.002958</td></tr><tr><td>0.006235</td></tr><tr><td>-0.008792</td></tr><tr><td>-0.011236</td></tr><tr><td>-0.005725</td></tr></tbody></table></div>"
      ],
      "text/plain": [
       "shape: (878, 1)\n",
       "┌──────────────┐\n",
       "│ daily_return │\n",
       "│ ---          │\n",
       "│ f64          │\n",
       "╞══════════════╡\n",
       "│ null         │\n",
       "│ -0.016056    │\n",
       "│ 0.002956     │\n",
       "│ 0.003065     │\n",
       "│ …            │\n",
       "│ 0.006235     │\n",
       "│ -0.008792    │\n",
       "│ -0.011236    │\n",
       "│ -0.005725    │\n",
       "└──────────────┘"
      ]
     },
     "execution_count": 135,
     "metadata": {},
     "output_type": "execute_result"
    }
   ],
   "source": [
    "a.select(['daily_return'])"
   ]
  },
  {
   "cell_type": "code",
   "execution_count": 127,
   "id": "42382e2c",
   "metadata": {},
   "outputs": [
    {
     "data": {
      "text/plain": [
       "['', 'Date', 'Adj Close', 'daily_return']"
      ]
     },
     "execution_count": 127,
     "metadata": {},
     "output_type": "execute_result"
    }
   ],
   "source": [
    "a.columns"
   ]
  },
  {
   "cell_type": "code",
   "execution_count": 137,
   "id": "1f791f5a",
   "metadata": {},
   "outputs": [
    {
     "data": {
      "text/html": [
       "<div><style>\n",
       ".dataframe > thead > tr > th,\n",
       ".dataframe > tbody > tr > td {\n",
       "  text-align: right;\n",
       "}\n",
       "</style>\n",
       "<small>shape: (878, 1)</small><table border=\"1\" class=\"dataframe\"><thead><tr><th>Adj Close</th></tr><tr><td>f64</td></tr></thead><tbody><tr><td>83.948067</td></tr><tr><td>82.600189</td></tr><tr><td>82.84436</td></tr><tr><td>83.098305</td></tr><tr><td>83.918747</td></tr><tr><td>85.237312</td></tr><tr><td>85.549866</td></tr><tr><td>85.422874</td></tr><tr><td>85.940529</td></tr><tr><td>86.555855</td></tr><tr><td>87.376305</td></tr><tr><td>88.020935</td></tr><tr><td>&hellip;</td></tr><tr><td>118.314064</td></tr><tr><td>119.272232</td></tr><tr><td>119.172424</td></tr><tr><td>120.99894</td></tr><tr><td>120.899124</td></tr><tr><td>117.934792</td></tr><tr><td>118.104469</td></tr><tr><td>118.453796</td></tr><tr><td>119.192383</td></tr><tr><td>118.144394</td></tr><tr><td>116.816925</td></tr><tr><td>116.148201</td></tr></tbody></table></div>"
      ],
      "text/plain": [
       "shape: (878, 1)\n",
       "┌────────────┐\n",
       "│ Adj Close  │\n",
       "│ ---        │\n",
       "│ f64        │\n",
       "╞════════════╡\n",
       "│ 83.948067  │\n",
       "│ 82.600189  │\n",
       "│ 82.84436   │\n",
       "│ 83.098305  │\n",
       "│ …          │\n",
       "│ 119.192383 │\n",
       "│ 118.144394 │\n",
       "│ 116.816925 │\n",
       "│ 116.148201 │\n",
       "└────────────┘"
      ]
     },
     "execution_count": 137,
     "metadata": {},
     "output_type": "execute_result"
    }
   ],
   "source": [
    "a.select(['Adj Close'])"
   ]
  },
  {
   "cell_type": "code",
   "execution_count": 136,
   "id": "6a4bc3d9",
   "metadata": {},
   "outputs": [
    {
     "data": {
      "text/html": [
       "<div><style>\n",
       ".dataframe > thead > tr > th,\n",
       ".dataframe > tbody > tr > td {\n",
       "  text-align: right;\n",
       "}\n",
       "</style>\n",
       "<small>shape: (878, 4)</small><table border=\"1\" class=\"dataframe\"><thead><tr><th></th><th>Date</th><th>Adj Close</th><th>daily_return</th></tr><tr><td>i64</td><td>str</td><td>f64</td><td>f64</td></tr></thead><tbody><tr><td>0</td><td>&quot;2020-01-02&quot;</td><td>83.948067</td><td>null</td></tr><tr><td>1</td><td>&quot;2020-01-03&quot;</td><td>82.600189</td><td>-0.016056</td></tr><tr><td>2</td><td>&quot;2020-01-06&quot;</td><td>82.84436</td><td>0.002956</td></tr><tr><td>3</td><td>&quot;2020-01-07&quot;</td><td>83.098305</td><td>0.003065</td></tr><tr><td>4</td><td>&quot;2020-01-08&quot;</td><td>83.918747</td><td>0.009873</td></tr><tr><td>5</td><td>&quot;2020-01-09&quot;</td><td>85.237312</td><td>0.015712</td></tr><tr><td>6</td><td>&quot;2020-01-10&quot;</td><td>85.549866</td><td>0.003667</td></tr><tr><td>7</td><td>&quot;2020-01-13&quot;</td><td>85.422874</td><td>-0.001484</td></tr><tr><td>8</td><td>&quot;2020-01-14&quot;</td><td>85.940529</td><td>0.00606</td></tr><tr><td>9</td><td>&quot;2020-01-15&quot;</td><td>86.555855</td><td>0.00716</td></tr><tr><td>10</td><td>&quot;2020-01-16&quot;</td><td>87.376305</td><td>0.009479</td></tr><tr><td>11</td><td>&quot;2020-01-17&quot;</td><td>88.020935</td><td>0.007378</td></tr><tr><td>&hellip;</td><td>&hellip;</td><td>&hellip;</td><td>&hellip;</td></tr><tr><td>866</td><td>&quot;2023-06-12&quot;</td><td>118.314064</td><td>0.02375</td></tr><tr><td>867</td><td>&quot;2023-06-13&quot;</td><td>119.272232</td><td>0.008099</td></tr><tr><td>868</td><td>&quot;2023-06-14&quot;</td><td>119.172424</td><td>-0.000837</td></tr><tr><td>869</td><td>&quot;2023-06-15&quot;</td><td>120.99894</td><td>0.015327</td></tr><tr><td>870</td><td>&quot;2023-06-16&quot;</td><td>120.899124</td><td>-0.000825</td></tr><tr><td>871</td><td>&quot;2023-06-20&quot;</td><td>117.934792</td><td>-0.024519</td></tr><tr><td>872</td><td>&quot;2023-06-21&quot;</td><td>118.104469</td><td>0.001439</td></tr><tr><td>873</td><td>&quot;2023-06-22&quot;</td><td>118.453796</td><td>0.002958</td></tr><tr><td>874</td><td>&quot;2023-06-23&quot;</td><td>119.192383</td><td>0.006235</td></tr><tr><td>875</td><td>&quot;2023-06-26&quot;</td><td>118.144394</td><td>-0.008792</td></tr><tr><td>876</td><td>&quot;2023-06-27&quot;</td><td>116.816925</td><td>-0.011236</td></tr><tr><td>877</td><td>&quot;2023-06-28&quot;</td><td>116.148201</td><td>-0.005725</td></tr></tbody></table></div>"
      ],
      "text/plain": [
       "shape: (878, 4)\n",
       "┌─────┬────────────┬────────────┬──────────────┐\n",
       "│     ┆ Date       ┆ Adj Close  ┆ daily_return │\n",
       "│ --- ┆ ---        ┆ ---        ┆ ---          │\n",
       "│ i64 ┆ str        ┆ f64        ┆ f64          │\n",
       "╞═════╪════════════╪════════════╪══════════════╡\n",
       "│ 0   ┆ 2020-01-02 ┆ 83.948067  ┆ null         │\n",
       "│ 1   ┆ 2020-01-03 ┆ 82.600189  ┆ -0.016056    │\n",
       "│ 2   ┆ 2020-01-06 ┆ 82.84436   ┆ 0.002956     │\n",
       "│ 3   ┆ 2020-01-07 ┆ 83.098305  ┆ 0.003065     │\n",
       "│ …   ┆ …          ┆ …          ┆ …            │\n",
       "│ 874 ┆ 2023-06-23 ┆ 119.192383 ┆ 0.006235     │\n",
       "│ 875 ┆ 2023-06-26 ┆ 118.144394 ┆ -0.008792    │\n",
       "│ 876 ┆ 2023-06-27 ┆ 116.816925 ┆ -0.011236    │\n",
       "│ 877 ┆ 2023-06-28 ┆ 116.148201 ┆ -0.005725    │\n",
       "└─────┴────────────┴────────────┴──────────────┘"
      ]
     },
     "execution_count": 136,
     "metadata": {},
     "output_type": "execute_result"
    }
   ],
   "source": [
    "a"
   ]
  },
  {
   "cell_type": "code",
   "execution_count": 157,
   "id": "71194dda",
   "metadata": {},
   "outputs": [
    {
     "data": {
      "text/html": [
       "<div><style>\n",
       ".dataframe > thead > tr > th,\n",
       ".dataframe > tbody > tr > td {\n",
       "  text-align: right;\n",
       "}\n",
       "</style>\n",
       "<small>shape: (878, 1)</small><table border=\"1\" class=\"dataframe\"><thead><tr><th>daily_return</th></tr><tr><td>f64</td></tr></thead><tbody><tr><td>null</td></tr><tr><td>-0.016056</td></tr><tr><td>0.002956</td></tr><tr><td>0.003065</td></tr><tr><td>0.009873</td></tr><tr><td>0.015712</td></tr><tr><td>0.003667</td></tr><tr><td>-0.001484</td></tr><tr><td>0.00606</td></tr><tr><td>0.00716</td></tr><tr><td>0.009479</td></tr><tr><td>0.007378</td></tr><tr><td>&hellip;</td></tr><tr><td>0.02375</td></tr><tr><td>0.008099</td></tr><tr><td>-0.000837</td></tr><tr><td>0.015327</td></tr><tr><td>-0.000825</td></tr><tr><td>-0.024519</td></tr><tr><td>0.001439</td></tr><tr><td>0.002958</td></tr><tr><td>0.006235</td></tr><tr><td>-0.008792</td></tr><tr><td>-0.011236</td></tr><tr><td>-0.005725</td></tr></tbody></table></div>"
      ],
      "text/plain": [
       "shape: (878, 1)\n",
       "┌──────────────┐\n",
       "│ daily_return │\n",
       "│ ---          │\n",
       "│ f64          │\n",
       "╞══════════════╡\n",
       "│ null         │\n",
       "│ -0.016056    │\n",
       "│ 0.002956     │\n",
       "│ 0.003065     │\n",
       "│ …            │\n",
       "│ 0.006235     │\n",
       "│ -0.008792    │\n",
       "│ -0.011236    │\n",
       "│ -0.005725    │\n",
       "└──────────────┘"
      ]
     },
     "execution_count": 157,
     "metadata": {},
     "output_type": "execute_result"
    }
   ],
   "source": [
    "a.select(['daily_return'])"
   ]
  },
  {
   "cell_type": "code",
   "execution_count": null,
   "id": "9432cf53",
   "metadata": {},
   "outputs": [],
   "source": []
  },
  {
   "cell_type": "code",
   "execution_count": 158,
   "id": "188c3b31",
   "metadata": {},
   "outputs": [
    {
     "ename": "AttributeError",
     "evalue": "'DataFrame' object has no attribute 'sketch'",
     "output_type": "error",
     "traceback": [
      "\u001b[0;31m---------------------------------------------------------------------------\u001b[0m",
      "\u001b[0;31mAttributeError\u001b[0m                            Traceback (most recent call last)",
      "\u001b[0;32m/tmp/ipykernel_202580/3329265021.py\u001b[0m in \u001b[0;36m<module>\u001b[0;34m\u001b[0m\n\u001b[0;32m----> 1\u001b[0;31m \u001b[0ma\u001b[0m\u001b[0;34m.\u001b[0m\u001b[0msketch\u001b[0m\u001b[0;34m.\u001b[0m\u001b[0mhowto\u001b[0m\u001b[0;34m(\u001b[0m\u001b[0;34m\"how can i mamke a line chart\"\u001b[0m\u001b[0;34m)\u001b[0m\u001b[0;34m\u001b[0m\u001b[0;34m\u001b[0m\u001b[0m\n\u001b[0m",
      "\u001b[0;31mAttributeError\u001b[0m: 'DataFrame' object has no attribute 'sketch'"
     ]
    }
   ],
   "source": [
    "a.sketch.howto(\"how can i mamke a line chart\")"
   ]
  },
  {
   "cell_type": "code",
   "execution_count": 139,
   "id": "6d53d113",
   "metadata": {},
   "outputs": [
    {
     "data": {
      "text/html": [
       "<div><style>\n",
       ".dataframe > thead > tr > th,\n",
       ".dataframe > tbody > tr > td {\n",
       "  text-align: right;\n",
       "}\n",
       "</style>\n",
       "<small>shape: (878, 4)</small><table border=\"1\" class=\"dataframe\"><thead><tr><th></th><th>Date</th><th>Adj Close</th><th>daily_return</th></tr><tr><td>i64</td><td>str</td><td>f64</td><td>f64</td></tr></thead><tbody><tr><td>0</td><td>&quot;2020-01-02&quot;</td><td>83.948067</td><td>null</td></tr><tr><td>1</td><td>&quot;2020-01-03&quot;</td><td>82.600189</td><td>-0.016056</td></tr><tr><td>2</td><td>&quot;2020-01-06&quot;</td><td>82.84436</td><td>0.002956</td></tr><tr><td>3</td><td>&quot;2020-01-07&quot;</td><td>83.098305</td><td>0.003065</td></tr><tr><td>4</td><td>&quot;2020-01-08&quot;</td><td>83.918747</td><td>0.009873</td></tr><tr><td>5</td><td>&quot;2020-01-09&quot;</td><td>85.237312</td><td>0.015712</td></tr><tr><td>6</td><td>&quot;2020-01-10&quot;</td><td>85.549866</td><td>0.003667</td></tr><tr><td>7</td><td>&quot;2020-01-13&quot;</td><td>85.422874</td><td>-0.001484</td></tr><tr><td>8</td><td>&quot;2020-01-14&quot;</td><td>85.940529</td><td>0.00606</td></tr><tr><td>9</td><td>&quot;2020-01-15&quot;</td><td>86.555855</td><td>0.00716</td></tr><tr><td>10</td><td>&quot;2020-01-16&quot;</td><td>87.376305</td><td>0.009479</td></tr><tr><td>11</td><td>&quot;2020-01-17&quot;</td><td>88.020935</td><td>0.007378</td></tr><tr><td>&hellip;</td><td>&hellip;</td><td>&hellip;</td><td>&hellip;</td></tr><tr><td>866</td><td>&quot;2023-06-12&quot;</td><td>118.314064</td><td>0.02375</td></tr><tr><td>867</td><td>&quot;2023-06-13&quot;</td><td>119.272232</td><td>0.008099</td></tr><tr><td>868</td><td>&quot;2023-06-14&quot;</td><td>119.172424</td><td>-0.000837</td></tr><tr><td>869</td><td>&quot;2023-06-15&quot;</td><td>120.99894</td><td>0.015327</td></tr><tr><td>870</td><td>&quot;2023-06-16&quot;</td><td>120.899124</td><td>-0.000825</td></tr><tr><td>871</td><td>&quot;2023-06-20&quot;</td><td>117.934792</td><td>-0.024519</td></tr><tr><td>872</td><td>&quot;2023-06-21&quot;</td><td>118.104469</td><td>0.001439</td></tr><tr><td>873</td><td>&quot;2023-06-22&quot;</td><td>118.453796</td><td>0.002958</td></tr><tr><td>874</td><td>&quot;2023-06-23&quot;</td><td>119.192383</td><td>0.006235</td></tr><tr><td>875</td><td>&quot;2023-06-26&quot;</td><td>118.144394</td><td>-0.008792</td></tr><tr><td>876</td><td>&quot;2023-06-27&quot;</td><td>116.816925</td><td>-0.011236</td></tr><tr><td>877</td><td>&quot;2023-06-28&quot;</td><td>116.148201</td><td>-0.005725</td></tr></tbody></table></div>"
      ],
      "text/plain": [
       "shape: (878, 4)\n",
       "┌─────┬────────────┬────────────┬──────────────┐\n",
       "│     ┆ Date       ┆ Adj Close  ┆ daily_return │\n",
       "│ --- ┆ ---        ┆ ---        ┆ ---          │\n",
       "│ i64 ┆ str        ┆ f64        ┆ f64          │\n",
       "╞═════╪════════════╪════════════╪══════════════╡\n",
       "│ 0   ┆ 2020-01-02 ┆ 83.948067  ┆ null         │\n",
       "│ 1   ┆ 2020-01-03 ┆ 82.600189  ┆ -0.016056    │\n",
       "│ 2   ┆ 2020-01-06 ┆ 82.84436   ┆ 0.002956     │\n",
       "│ 3   ┆ 2020-01-07 ┆ 83.098305  ┆ 0.003065     │\n",
       "│ …   ┆ …          ┆ …          ┆ …            │\n",
       "│ 874 ┆ 2023-06-23 ┆ 119.192383 ┆ 0.006235     │\n",
       "│ 875 ┆ 2023-06-26 ┆ 118.144394 ┆ -0.008792    │\n",
       "│ 876 ┆ 2023-06-27 ┆ 116.816925 ┆ -0.011236    │\n",
       "│ 877 ┆ 2023-06-28 ┆ 116.148201 ┆ -0.005725    │\n",
       "└─────┴────────────┴────────────┴──────────────┘"
      ]
     },
     "execution_count": 139,
     "metadata": {},
     "output_type": "execute_result"
    }
   ],
   "source": [
    "a"
   ]
  },
  {
   "cell_type": "code",
   "execution_count": 143,
   "id": "eb0292d7",
   "metadata": {},
   "outputs": [
    {
     "data": {
      "text/html": [
       "\n",
       "This dataset contains daily stock market data for a particular company, including the date, opening price, high price, low price, closing price, adjusted closing price, and volume."
      ],
      "text/plain": [
       "<IPython.core.display.HTML object>"
      ]
     },
     "metadata": {},
     "output_type": "display_data"
    }
   ],
   "source": [
    "sofi.sketch.ask(\"what is this dataset about\")"
   ]
  },
  {
   "cell_type": "code",
   "execution_count": 144,
   "id": "e6213248",
   "metadata": {},
   "outputs": [
    {
     "data": {
      "text/plain": [
       "['Close',\n",
       " 'High',\n",
       " 'Low',\n",
       " 'Open',\n",
       " 'T',\n",
       " 'Volume',\n",
       " '_AXIS_LEN',\n",
       " '_AXIS_ORDERS',\n",
       " '_AXIS_TO_AXIS_NUMBER',\n",
       " '_HANDLED_TYPES',\n",
       " '__abs__',\n",
       " '__add__',\n",
       " '__and__',\n",
       " '__annotations__',\n",
       " '__array__',\n",
       " '__array_priority__',\n",
       " '__array_ufunc__',\n",
       " '__bool__',\n",
       " '__class__',\n",
       " '__contains__',\n",
       " '__copy__',\n",
       " '__dataframe__',\n",
       " '__deepcopy__',\n",
       " '__delattr__',\n",
       " '__delitem__',\n",
       " '__dict__',\n",
       " '__dir__',\n",
       " '__divmod__',\n",
       " '__doc__',\n",
       " '__eq__',\n",
       " '__finalize__',\n",
       " '__floordiv__',\n",
       " '__format__',\n",
       " '__ge__',\n",
       " '__getattr__',\n",
       " '__getattribute__',\n",
       " '__getitem__',\n",
       " '__getstate__',\n",
       " '__gt__',\n",
       " '__hash__',\n",
       " '__iadd__',\n",
       " '__iand__',\n",
       " '__ifloordiv__',\n",
       " '__imod__',\n",
       " '__imul__',\n",
       " '__init__',\n",
       " '__init_subclass__',\n",
       " '__invert__',\n",
       " '__ior__',\n",
       " '__ipow__',\n",
       " '__isub__',\n",
       " '__iter__',\n",
       " '__itruediv__',\n",
       " '__ixor__',\n",
       " '__le__',\n",
       " '__len__',\n",
       " '__lt__',\n",
       " '__matmul__',\n",
       " '__mod__',\n",
       " '__module__',\n",
       " '__mul__',\n",
       " '__ne__',\n",
       " '__neg__',\n",
       " '__new__',\n",
       " '__nonzero__',\n",
       " '__or__',\n",
       " '__pos__',\n",
       " '__pow__',\n",
       " '__radd__',\n",
       " '__rand__',\n",
       " '__rdivmod__',\n",
       " '__reduce__',\n",
       " '__reduce_ex__',\n",
       " '__repr__',\n",
       " '__rfloordiv__',\n",
       " '__rmatmul__',\n",
       " '__rmod__',\n",
       " '__rmul__',\n",
       " '__ror__',\n",
       " '__round__',\n",
       " '__rpow__',\n",
       " '__rsub__',\n",
       " '__rtruediv__',\n",
       " '__rxor__',\n",
       " '__setattr__',\n",
       " '__setitem__',\n",
       " '__setstate__',\n",
       " '__sizeof__',\n",
       " '__str__',\n",
       " '__sub__',\n",
       " '__subclasshook__',\n",
       " '__truediv__',\n",
       " '__weakref__',\n",
       " '__xor__',\n",
       " '_accessors',\n",
       " '_accum_func',\n",
       " '_add_numeric_operations',\n",
       " '_agg_examples_doc',\n",
       " '_agg_summary_and_see_also_doc',\n",
       " '_align_frame',\n",
       " '_align_series',\n",
       " '_append',\n",
       " '_arith_method',\n",
       " '_as_manager',\n",
       " '_attrs',\n",
       " '_box_col_values',\n",
       " '_can_fast_transpose',\n",
       " '_check_inplace_and_allows_duplicate_labels',\n",
       " '_check_inplace_setting',\n",
       " '_check_is_chained_assignment_possible',\n",
       " '_check_label_or_level_ambiguity',\n",
       " '_check_setitem_copy',\n",
       " '_clear_item_cache',\n",
       " '_clip_with_one_bound',\n",
       " '_clip_with_scalar',\n",
       " '_cmp_method',\n",
       " '_combine_frame',\n",
       " '_consolidate',\n",
       " '_consolidate_inplace',\n",
       " '_construct_axes_dict',\n",
       " '_construct_result',\n",
       " '_constructor',\n",
       " '_constructor_sliced',\n",
       " '_create_data_for_split_and_tight_to_dict',\n",
       " '_data',\n",
       " '_dir_additions',\n",
       " '_dir_deletions',\n",
       " '_dispatch_frame_op',\n",
       " '_drop_axis',\n",
       " '_drop_labels_or_levels',\n",
       " '_ensure_valid_index',\n",
       " '_find_valid_index',\n",
       " '_flags',\n",
       " '_from_arrays',\n",
       " '_get_agg_axis',\n",
       " '_get_axis',\n",
       " '_get_axis_name',\n",
       " '_get_axis_number',\n",
       " '_get_axis_resolvers',\n",
       " '_get_block_manager_axis',\n",
       " '_get_bool_data',\n",
       " '_get_cleaned_column_resolvers',\n",
       " '_get_column_array',\n",
       " '_get_index_resolvers',\n",
       " '_get_item_cache',\n",
       " '_get_label_or_level_values',\n",
       " '_get_numeric_data',\n",
       " '_get_value',\n",
       " '_getitem_bool_array',\n",
       " '_getitem_multilevel',\n",
       " '_getitem_nocopy',\n",
       " '_gotitem',\n",
       " '_hidden_attrs',\n",
       " '_indexed_same',\n",
       " '_info_axis',\n",
       " '_info_axis_name',\n",
       " '_info_axis_number',\n",
       " '_info_repr',\n",
       " '_init_mgr',\n",
       " '_inplace_method',\n",
       " '_internal_names',\n",
       " '_internal_names_set',\n",
       " '_is_copy',\n",
       " '_is_homogeneous_type',\n",
       " '_is_label_or_level_reference',\n",
       " '_is_label_reference',\n",
       " '_is_level_reference',\n",
       " '_is_mixed_type',\n",
       " '_is_view',\n",
       " '_iset_item',\n",
       " '_iset_item_mgr',\n",
       " '_iset_not_inplace',\n",
       " '_item_cache',\n",
       " '_iter_column_arrays',\n",
       " '_ixs',\n",
       " '_join_compat',\n",
       " '_logical_func',\n",
       " '_logical_method',\n",
       " '_maybe_cache_changed',\n",
       " '_maybe_update_cacher',\n",
       " '_metadata',\n",
       " '_mgr',\n",
       " '_min_count_stat_function',\n",
       " '_needs_reindex_multi',\n",
       " '_protect_consolidate',\n",
       " '_reduce',\n",
       " '_reduce_axis1',\n",
       " '_reindex_axes',\n",
       " '_reindex_columns',\n",
       " '_reindex_index',\n",
       " '_reindex_multi',\n",
       " '_reindex_with_indexers',\n",
       " '_rename',\n",
       " '_replace_columnwise',\n",
       " '_repr_data_resource_',\n",
       " '_repr_fits_horizontal_',\n",
       " '_repr_fits_vertical_',\n",
       " '_repr_html_',\n",
       " '_repr_latex_',\n",
       " '_reset_cache',\n",
       " '_reset_cacher',\n",
       " '_sanitize_column',\n",
       " '_series',\n",
       " '_set_axis',\n",
       " '_set_axis_name',\n",
       " '_set_axis_nocheck',\n",
       " '_set_is_copy',\n",
       " '_set_item',\n",
       " '_set_item_frame_value',\n",
       " '_set_item_mgr',\n",
       " '_set_value',\n",
       " '_setitem_array',\n",
       " '_setitem_frame',\n",
       " '_setitem_slice',\n",
       " '_slice',\n",
       " '_stat_axis',\n",
       " '_stat_axis_name',\n",
       " '_stat_axis_number',\n",
       " '_stat_function',\n",
       " '_stat_function_ddof',\n",
       " '_take',\n",
       " '_take_with_is_copy',\n",
       " '_to_dict_of_blocks',\n",
       " '_to_latex_via_styler',\n",
       " '_typ',\n",
       " '_update_inplace',\n",
       " '_validate_dtype',\n",
       " '_values',\n",
       " '_where',\n",
       " 'abs',\n",
       " 'add',\n",
       " 'add_prefix',\n",
       " 'add_suffix',\n",
       " 'agg',\n",
       " 'aggregate',\n",
       " 'align',\n",
       " 'all',\n",
       " 'any',\n",
       " 'apply',\n",
       " 'applymap',\n",
       " 'asfreq',\n",
       " 'asof',\n",
       " 'assign',\n",
       " 'astype',\n",
       " 'at',\n",
       " 'at_time',\n",
       " 'attrs',\n",
       " 'axes',\n",
       " 'backfill',\n",
       " 'between_time',\n",
       " 'bfill',\n",
       " 'bool',\n",
       " 'boxplot',\n",
       " 'clip',\n",
       " 'columns',\n",
       " 'combine',\n",
       " 'combine_first',\n",
       " 'compare',\n",
       " 'convert_dtypes',\n",
       " 'copy',\n",
       " 'corr',\n",
       " 'corrwith',\n",
       " 'count',\n",
       " 'cov',\n",
       " 'cummax',\n",
       " 'cummin',\n",
       " 'cumprod',\n",
       " 'cumsum',\n",
       " 'describe',\n",
       " 'diff',\n",
       " 'div',\n",
       " 'divide',\n",
       " 'dot',\n",
       " 'drop',\n",
       " 'drop_duplicates',\n",
       " 'droplevel',\n",
       " 'dropna',\n",
       " 'dtypes',\n",
       " 'duplicated',\n",
       " 'empty',\n",
       " 'eq',\n",
       " 'equals',\n",
       " 'eval',\n",
       " 'ewm',\n",
       " 'expanding',\n",
       " 'explode',\n",
       " 'ffill',\n",
       " 'fillna',\n",
       " 'filter',\n",
       " 'first',\n",
       " 'first_valid_index',\n",
       " 'flags',\n",
       " 'floordiv',\n",
       " 'from_dict',\n",
       " 'from_records',\n",
       " 'ge',\n",
       " 'get',\n",
       " 'groupby',\n",
       " 'gt',\n",
       " 'head',\n",
       " 'hist',\n",
       " 'iat',\n",
       " 'idxmax',\n",
       " 'idxmin',\n",
       " 'iloc',\n",
       " 'index',\n",
       " 'infer_objects',\n",
       " 'info',\n",
       " 'insert',\n",
       " 'interpolate',\n",
       " 'isetitem',\n",
       " 'isin',\n",
       " 'isna',\n",
       " 'isnull',\n",
       " 'items',\n",
       " 'iterrows',\n",
       " 'itertuples',\n",
       " 'join',\n",
       " 'keys',\n",
       " 'kurt',\n",
       " 'kurtosis',\n",
       " 'last',\n",
       " 'last_valid_index',\n",
       " 'le',\n",
       " 'loc',\n",
       " 'lt',\n",
       " 'mask',\n",
       " 'max',\n",
       " 'mean',\n",
       " 'median',\n",
       " 'melt',\n",
       " 'memory_usage',\n",
       " 'merge',\n",
       " 'min',\n",
       " 'mod',\n",
       " 'mode',\n",
       " 'mul',\n",
       " 'multiply',\n",
       " 'ndim',\n",
       " 'ne',\n",
       " 'nlargest',\n",
       " 'notna',\n",
       " 'notnull',\n",
       " 'nsmallest',\n",
       " 'nunique',\n",
       " 'pad',\n",
       " 'pct_change',\n",
       " 'pipe',\n",
       " 'pivot',\n",
       " 'pivot_table',\n",
       " 'plot',\n",
       " 'pop',\n",
       " 'pow',\n",
       " 'prod',\n",
       " 'product',\n",
       " 'quantile',\n",
       " 'query',\n",
       " 'radd',\n",
       " 'rank',\n",
       " 'rdiv',\n",
       " 'reindex',\n",
       " 'reindex_like',\n",
       " 'rename',\n",
       " 'rename_axis',\n",
       " 'reorder_levels',\n",
       " 'replace',\n",
       " 'resample',\n",
       " 'reset_index',\n",
       " 'rfloordiv',\n",
       " 'rmod',\n",
       " 'rmul',\n",
       " 'rolling',\n",
       " 'round',\n",
       " 'rpow',\n",
       " 'rsub',\n",
       " 'rtruediv',\n",
       " 'sample',\n",
       " 'select_dtypes',\n",
       " 'sem',\n",
       " 'set_axis',\n",
       " 'set_flags',\n",
       " 'set_index',\n",
       " 'shape',\n",
       " 'shift',\n",
       " 'size',\n",
       " 'sketch',\n",
       " 'skew',\n",
       " 'sort_index',\n",
       " 'sort_values',\n",
       " 'squeeze',\n",
       " 'stack',\n",
       " 'std',\n",
       " 'style',\n",
       " 'sub',\n",
       " 'subtract',\n",
       " 'sum',\n",
       " 'swapaxes',\n",
       " 'swaplevel',\n",
       " 'tail',\n",
       " 'take',\n",
       " 'to_clipboard',\n",
       " 'to_csv',\n",
       " 'to_dict',\n",
       " 'to_excel',\n",
       " 'to_feather',\n",
       " 'to_gbq',\n",
       " 'to_hdf',\n",
       " 'to_html',\n",
       " 'to_json',\n",
       " 'to_latex',\n",
       " 'to_markdown',\n",
       " 'to_numpy',\n",
       " 'to_orc',\n",
       " 'to_parquet',\n",
       " 'to_period',\n",
       " 'to_pickle',\n",
       " 'to_records',\n",
       " 'to_sql',\n",
       " 'to_stata',\n",
       " 'to_string',\n",
       " 'to_timestamp',\n",
       " 'to_xarray',\n",
       " 'to_xml',\n",
       " 'transform',\n",
       " 'transpose',\n",
       " 'truediv',\n",
       " 'truncate',\n",
       " 'tz_convert',\n",
       " 'tz_localize',\n",
       " 'unstack',\n",
       " 'update',\n",
       " 'value_counts',\n",
       " 'values',\n",
       " 'var',\n",
       " 'where',\n",
       " 'xs']"
      ]
     },
     "execution_count": 144,
     "metadata": {},
     "output_type": "execute_result"
    }
   ],
   "source": [
    "dir(sofi)"
   ]
  },
  {
   "cell_type": "code",
   "execution_count": 146,
   "id": "05a36e44",
   "metadata": {},
   "outputs": [],
   "source": [
    "arr = np.arange(18)"
   ]
  },
  {
   "cell_type": "code",
   "execution_count": 147,
   "id": "d56683d6",
   "metadata": {},
   "outputs": [
    {
     "data": {
      "text/plain": [
       "array([ 0,  1,  2,  3,  4,  5,  6,  7,  8,  9, 10, 11, 12, 13, 14, 15, 16,\n",
       "       17])"
      ]
     },
     "execution_count": 147,
     "metadata": {},
     "output_type": "execute_result"
    }
   ],
   "source": [
    "arr"
   ]
  },
  {
   "cell_type": "code",
   "execution_count": 150,
   "id": "747c6d9e",
   "metadata": {},
   "outputs": [],
   "source": [
    "shaped = arr.reshape(3,6)"
   ]
  },
  {
   "cell_type": "code",
   "execution_count": 149,
   "id": "f22573d7",
   "metadata": {},
   "outputs": [
    {
     "data": {
      "text/plain": [
       "array([ 0,  1,  2,  3,  4,  5,  6,  7,  8,  9, 10, 11, 12, 13, 14, 15, 16,\n",
       "       17])"
      ]
     },
     "execution_count": 149,
     "metadata": {},
     "output_type": "execute_result"
    }
   ],
   "source": [
    "arr"
   ]
  },
  {
   "cell_type": "code",
   "execution_count": 155,
   "id": "be1e54ea",
   "metadata": {},
   "outputs": [
    {
     "name": "stdout",
     "output_type": "stream",
     "text": [
      "12\n",
      "13\n",
      "14\n",
      "15\n",
      "16\n",
      "17\n",
      "and we are finished!\n"
     ]
    }
   ],
   "source": [
    "for i in arr:\n",
    "    if i > 11:\n",
    "        print(i)\n",
    "else:\n",
    "    print(\"and we are finished!\")"
   ]
  },
  {
   "cell_type": "code",
   "execution_count": 156,
   "id": "1f9299dd",
   "metadata": {},
   "outputs": [
    {
     "data": {
      "text/plain": [
       "18"
      ]
     },
     "execution_count": 156,
     "metadata": {},
     "output_type": "execute_result"
    }
   ],
   "source": [
    "len(arr)"
   ]
  },
  {
   "cell_type": "code",
   "execution_count": null,
   "id": "a8b6f746",
   "metadata": {},
   "outputs": [],
   "source": []
  }
 ],
 "metadata": {
  "kernelspec": {
   "display_name": "Python 3 (ipykernel)",
   "language": "python",
   "name": "python3"
  },
  "language_info": {
   "codemirror_mode": {
    "name": "ipython",
    "version": 3
   },
   "file_extension": ".py",
   "mimetype": "text/x-python",
   "name": "python",
   "nbconvert_exporter": "python",
   "pygments_lexer": "ipython3",
   "version": "3.10.6"
  }
 },
 "nbformat": 4,
 "nbformat_minor": 5
}
