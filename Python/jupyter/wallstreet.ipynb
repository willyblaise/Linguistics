{
 "cells": [
  {
   "cell_type": "code",
   "execution_count": 7,
   "id": "f9f86bf3",
   "metadata": {},
   "outputs": [],
   "source": [
    "import os\n",
    "import pandas as pd\n",
    "from pandas_datareader import data as web\n",
    "import yfinance as yf\n",
    "import sketch\n",
    "import time\n",
    "from datetime import datetime as dt\n",
    "PATH = '/home/champ/code/python/jupyter/'\n",
    "yf.pdr_override()"
   ]
  },
  {
   "cell_type": "code",
   "execution_count": 8,
   "id": "adbebc74",
   "metadata": {},
   "outputs": [
    {
     "name": "stdout",
     "output_type": "stream",
     "text": [
      "[*********************100%***********************]  1 of 1 completed\n"
     ]
    }
   ],
   "source": [
    "aapl = web.get_data_yahoo(\"AAPL\", start='2022-01-01', end='2023-06-01')\n",
    "aapl.to_csv(\"aapl.csv\")"
   ]
  },
  {
   "cell_type": "code",
   "execution_count": 9,
   "id": "b49a397b",
   "metadata": {},
   "outputs": [
    {
     "data": {
      "text/html": [
       "<div>\n",
       "<style scoped>\n",
       "    .dataframe tbody tr th:only-of-type {\n",
       "        vertical-align: middle;\n",
       "    }\n",
       "\n",
       "    .dataframe tbody tr th {\n",
       "        vertical-align: top;\n",
       "    }\n",
       "\n",
       "    .dataframe thead th {\n",
       "        text-align: right;\n",
       "    }\n",
       "</style>\n",
       "<table border=\"1\" class=\"dataframe\">\n",
       "  <thead>\n",
       "    <tr style=\"text-align: right;\">\n",
       "      <th></th>\n",
       "      <th>Open</th>\n",
       "      <th>High</th>\n",
       "      <th>Low</th>\n",
       "      <th>Close</th>\n",
       "      <th>Adj Close</th>\n",
       "      <th>Volume</th>\n",
       "    </tr>\n",
       "    <tr>\n",
       "      <th>Date</th>\n",
       "      <th></th>\n",
       "      <th></th>\n",
       "      <th></th>\n",
       "      <th></th>\n",
       "      <th></th>\n",
       "      <th></th>\n",
       "    </tr>\n",
       "  </thead>\n",
       "  <tbody>\n",
       "    <tr>\n",
       "      <th>2022-01-03</th>\n",
       "      <td>177.830002</td>\n",
       "      <td>182.880005</td>\n",
       "      <td>177.710007</td>\n",
       "      <td>182.009995</td>\n",
       "      <td>180.434296</td>\n",
       "      <td>104487900</td>\n",
       "    </tr>\n",
       "    <tr>\n",
       "      <th>2022-01-04</th>\n",
       "      <td>182.630005</td>\n",
       "      <td>182.940002</td>\n",
       "      <td>179.119995</td>\n",
       "      <td>179.699997</td>\n",
       "      <td>178.144302</td>\n",
       "      <td>99310400</td>\n",
       "    </tr>\n",
       "    <tr>\n",
       "      <th>2022-01-05</th>\n",
       "      <td>179.610001</td>\n",
       "      <td>180.169998</td>\n",
       "      <td>174.639999</td>\n",
       "      <td>174.919998</td>\n",
       "      <td>173.405670</td>\n",
       "      <td>94537600</td>\n",
       "    </tr>\n",
       "    <tr>\n",
       "      <th>2022-01-06</th>\n",
       "      <td>172.699997</td>\n",
       "      <td>175.300003</td>\n",
       "      <td>171.639999</td>\n",
       "      <td>172.000000</td>\n",
       "      <td>170.510956</td>\n",
       "      <td>96904000</td>\n",
       "    </tr>\n",
       "    <tr>\n",
       "      <th>2022-01-07</th>\n",
       "      <td>172.889999</td>\n",
       "      <td>174.139999</td>\n",
       "      <td>171.029999</td>\n",
       "      <td>172.169998</td>\n",
       "      <td>170.679489</td>\n",
       "      <td>86709100</td>\n",
       "    </tr>\n",
       "    <tr>\n",
       "      <th>...</th>\n",
       "      <td>...</td>\n",
       "      <td>...</td>\n",
       "      <td>...</td>\n",
       "      <td>...</td>\n",
       "      <td>...</td>\n",
       "      <td>...</td>\n",
       "    </tr>\n",
       "    <tr>\n",
       "      <th>2023-05-24</th>\n",
       "      <td>171.089996</td>\n",
       "      <td>172.419998</td>\n",
       "      <td>170.520004</td>\n",
       "      <td>171.839996</td>\n",
       "      <td>171.839996</td>\n",
       "      <td>45143500</td>\n",
       "    </tr>\n",
       "    <tr>\n",
       "      <th>2023-05-25</th>\n",
       "      <td>172.410004</td>\n",
       "      <td>173.899994</td>\n",
       "      <td>171.690002</td>\n",
       "      <td>172.990005</td>\n",
       "      <td>172.990005</td>\n",
       "      <td>56058300</td>\n",
       "    </tr>\n",
       "    <tr>\n",
       "      <th>2023-05-26</th>\n",
       "      <td>173.320007</td>\n",
       "      <td>175.770004</td>\n",
       "      <td>173.110001</td>\n",
       "      <td>175.429993</td>\n",
       "      <td>175.429993</td>\n",
       "      <td>54835000</td>\n",
       "    </tr>\n",
       "    <tr>\n",
       "      <th>2023-05-30</th>\n",
       "      <td>176.960007</td>\n",
       "      <td>178.990005</td>\n",
       "      <td>176.570007</td>\n",
       "      <td>177.300003</td>\n",
       "      <td>177.300003</td>\n",
       "      <td>55964400</td>\n",
       "    </tr>\n",
       "    <tr>\n",
       "      <th>2023-05-31</th>\n",
       "      <td>177.330002</td>\n",
       "      <td>179.350006</td>\n",
       "      <td>176.759995</td>\n",
       "      <td>177.250000</td>\n",
       "      <td>177.250000</td>\n",
       "      <td>99625300</td>\n",
       "    </tr>\n",
       "  </tbody>\n",
       "</table>\n",
       "<p>354 rows × 6 columns</p>\n",
       "</div>"
      ],
      "text/plain": [
       "                  Open        High         Low       Close   Adj Close   \n",
       "Date                                                                     \n",
       "2022-01-03  177.830002  182.880005  177.710007  182.009995  180.434296  \\\n",
       "2022-01-04  182.630005  182.940002  179.119995  179.699997  178.144302   \n",
       "2022-01-05  179.610001  180.169998  174.639999  174.919998  173.405670   \n",
       "2022-01-06  172.699997  175.300003  171.639999  172.000000  170.510956   \n",
       "2022-01-07  172.889999  174.139999  171.029999  172.169998  170.679489   \n",
       "...                ...         ...         ...         ...         ...   \n",
       "2023-05-24  171.089996  172.419998  170.520004  171.839996  171.839996   \n",
       "2023-05-25  172.410004  173.899994  171.690002  172.990005  172.990005   \n",
       "2023-05-26  173.320007  175.770004  173.110001  175.429993  175.429993   \n",
       "2023-05-30  176.960007  178.990005  176.570007  177.300003  177.300003   \n",
       "2023-05-31  177.330002  179.350006  176.759995  177.250000  177.250000   \n",
       "\n",
       "               Volume  \n",
       "Date                   \n",
       "2022-01-03  104487900  \n",
       "2022-01-04   99310400  \n",
       "2022-01-05   94537600  \n",
       "2022-01-06   96904000  \n",
       "2022-01-07   86709100  \n",
       "...               ...  \n",
       "2023-05-24   45143500  \n",
       "2023-05-25   56058300  \n",
       "2023-05-26   54835000  \n",
       "2023-05-30   55964400  \n",
       "2023-05-31   99625300  \n",
       "\n",
       "[354 rows x 6 columns]"
      ]
     },
     "execution_count": 9,
     "metadata": {},
     "output_type": "execute_result"
    }
   ],
   "source": [
    "aapl"
   ]
  },
  {
   "cell_type": "code",
   "execution_count": 11,
   "id": "7e96bd4d",
   "metadata": {},
   "outputs": [
    {
     "data": {
      "text/html": [
       "<div style=\"display:flex;flex-direction:row;justify-content:space-between;\">\n",
       "                <pre style=\"width: 100%; white-space: pre-wrap;\" id=\"476aab28-3c6b-4e48-8bc0-93e9d631db97\">\n",
       "import matplotlib.pyplot as plt\n",
       "\n",
       "# Plot the data over time\n",
       "plt.plot(df['Date'], df['Open'], label='Open')\n",
       "plt.plot(df['Date'], df['High'], label='High')\n",
       "plt.plot(df['Date'], df['Low'], label='Low')\n",
       "plt.plot(df['Date'], df['Close'], label='Close')\n",
       "plt.plot(df['Date'], df['Adj Close'], label='Adj Close')\n",
       "plt.legend()\n",
       "plt.show()\n",
       "</pre>\n",
       "                <button style=\"height: fit-content;\" onclick=\"navigator.clipboard.writeText(JSON.parse(atob(`IlxuaW1wb3J0IG1hdHBsb3RsaWIucHlwbG90IGFzIHBsdFxuXG4jIFBsb3QgdGhlIGRhdGEgb3ZlciB0aW1lXG5wbHQucGxvdChkZlsnRGF0ZSddLCBkZlsnT3BlbiddLCBsYWJlbD0nT3BlbicpXG5wbHQucGxvdChkZlsnRGF0ZSddLCBkZlsnSGlnaCddLCBsYWJlbD0nSGlnaCcpXG5wbHQucGxvdChkZlsnRGF0ZSddLCBkZlsnTG93J10sIGxhYmVsPSdMb3cnKVxucGx0LnBsb3QoZGZbJ0RhdGUnXSwgZGZbJ0Nsb3NlJ10sIGxhYmVsPSdDbG9zZScpXG5wbHQucGxvdChkZlsnRGF0ZSddLCBkZlsnQWRqIENsb3NlJ10sIGxhYmVsPSdBZGogQ2xvc2UnKVxucGx0LmxlZ2VuZCgpXG5wbHQuc2hvdygpXG4i`)))\">Copy</button>\n",
       "                </div>"
      ],
      "text/plain": [
       "<IPython.core.display.HTML object>"
      ]
     },
     "metadata": {},
     "output_type": "display_data"
    }
   ],
   "source": [
    "aapl.sketch.howto(\"how can I plot the data over time\")"
   ]
  },
  {
   "cell_type": "code",
   "execution_count": 17,
   "id": "db88010e",
   "metadata": {},
   "outputs": [
    {
     "data": {
      "text/html": [
       "\n",
       "With the summary statistics and descriptive data provided, the user can perform a variety of analyses on the pandas dataframe. These include:\n",
       "- Exploring the distribution of values in each column\n",
       "- Calculating summary statistics such as mean, median, mode, standard deviation, etc.\n",
       "- Comparing different columns to identify correlations or trends\n",
       "- Visualizing the data using charts and graphs\n",
       "- Performing statistical tests such as t-tests or ANOVA\n",
       "- Identifying outliers or anomalies in the data\n"
      ],
      "text/plain": [
       "<IPython.core.display.HTML object>"
      ]
     },
     "metadata": {},
     "output_type": "display_data"
    }
   ],
   "source": [
    "aapl.sketch.ask(\"what kind of analyses can be done\")\n"
   ]
  },
  {
   "cell_type": "code",
   "execution_count": 18,
   "id": "926e3034",
   "metadata": {},
   "outputs": [
    {
     "data": {
      "text/html": [
       "\n",
       "You can visualize this data using various plotting libraries such as matplotlib, seaborn, and pandas. You can create line plots, bar charts, histograms, scatter plots, and more to visualize the data. Additionally, you can use tools such as Tableau or Power BI to create interactive visualizations of the data."
      ],
      "text/plain": [
       "<IPython.core.display.HTML object>"
      ]
     },
     "metadata": {},
     "output_type": "display_data"
    }
   ],
   "source": [
    "aapl.sketch.ask(\"how can i visualize this data\")"
   ]
  },
  {
   "cell_type": "code",
   "execution_count": 20,
   "id": "4c2557a9",
   "metadata": {},
   "outputs": [
    {
     "data": {
      "text/html": [
       "<div style=\"display:flex;flex-direction:row;justify-content:space-between;\">\n",
       "                <pre style=\"width: 100%; white-space: pre-wrap;\" id=\"f67f9c03-7c4b-4190-a78b-efe54c693cdc\">\n",
       "# import matplotlib library\n",
       "import matplotlib.pyplot as plt\n",
       "\n",
       "# create a line graph of the Adj Close column\n",
       "df['Adj Close'].plot(kind='line', title='Adj Close')\n",
       "\n",
       "# show the graph\n",
       "plt.show()\n",
       "</pre>\n",
       "                <button style=\"height: fit-content;\" onclick=\"navigator.clipboard.writeText(JSON.parse(atob(`IlxuIyBpbXBvcnQgbWF0cGxvdGxpYiBsaWJyYXJ5XG5pbXBvcnQgbWF0cGxvdGxpYi5weXBsb3QgYXMgcGx0XG5cbiMgY3JlYXRlIGEgbGluZSBncmFwaCBvZiB0aGUgQWRqIENsb3NlIGNvbHVtblxuZGZbJ0FkaiBDbG9zZSddLnBsb3Qoa2luZD0nbGluZScsIHRpdGxlPSdBZGogQ2xvc2UnKVxuXG4jIHNob3cgdGhlIGdyYXBoXG5wbHQuc2hvdygpXG4i`)))\">Copy</button>\n",
       "                </div>"
      ],
      "text/plain": [
       "<IPython.core.display.HTML object>"
      ]
     },
     "metadata": {},
     "output_type": "display_data"
    }
   ],
   "source": [
    "aapl.sketch.howto(\"how can i do a line graph of adj close\")"
   ]
  },
  {
   "cell_type": "code",
   "execution_count": 22,
   "id": "e7169269",
   "metadata": {},
   "outputs": [
    {
     "data": {
      "image/png": "[encoded data removed]",
      "text/plain": [
       "<Figure size 432x288 with 1 Axes>"
      ]
     },
     "metadata": {
      "needs_background": "light"
     },
     "output_type": "display_data"
    }
   ],
   "source": [
    "\n",
    "\n",
    "# import matplotlib library\n",
    "import matplotlib.pyplot as plt\n",
    "\n",
    "# create a line graph of the Adj Close column\n",
    "aapl['Adj Close'].plot(kind='line', title='Adj Close')\n",
    "\n",
    "# show the graph\n",
    "plt.show()\n"
   ]
  },
  {
   "cell_type": "markdown",
   "id": "4a211533",
   "metadata": {},
   "source": [
    "OPEN"
   ]
  },
  {
   "cell_type": "code",
   "execution_count": 23,
   "id": "2f1fdf80",
   "metadata": {},
   "outputs": [
    {
     "name": "stdout",
     "output_type": "stream",
     "text": [
      "[*********************100%***********************]  1 of 1 completed\n"
     ]
    }
   ],
   "source": [
    "open = web.get_data_yahoo(\"OPEN\", start='2022-01-01', end='2023-06-24')\n"
   ]
  },
  {
   "cell_type": "code",
   "execution_count": 24,
   "id": "730eac02",
   "metadata": {},
   "outputs": [
    {
     "data": {
      "image/png": "[encoded data removed]",
      "text/plain": [
       "<Figure size 432x288 with 1 Axes>"
      ]
     },
     "metadata": {
      "needs_background": "light"
     },
     "output_type": "display_data"
    }
   ],
   "source": [
    "# create a line graph of the Adj Close column\n",
    "open['Adj Close'].plot(kind='line', title='Adj Close')\n",
    "\n",
    "# show the graph\n",
    "plt.show()"
   ]
  },
  {
   "cell_type": "code",
   "execution_count": 8,
   "id": "b0071d77",
   "metadata": {},
   "outputs": [
    {
     "name": "stdout",
     "output_type": "stream",
     "text": [
      "[*********************100%***********************]  1 of 1 completed\n"
     ]
    }
   ],
   "source": [
    "snap = web.get_data_yahoo(\"SNAP\", start='2020-01-01', end='2023-07-10')"
   ]
  },
  {
   "cell_type": "code",
   "execution_count": 53,
   "id": "ea3a68e9",
   "metadata": {},
   "outputs": [
    {
     "data": {
      "image/png": "[encoded data removed]",
      "text/plain": [
       "<Figure size 432x288 with 1 Axes>"
      ]
     },
     "metadata": {
      "needs_background": "light"
     },
     "output_type": "display_data"
    }
   ],
   "source": [
    "# create a line graph of the Adj Close column\n",
    "snap['Adj Close'].plot(kind='line', title='Adj Close')\n",
    "\n",
    "# show the graph\n",
    "plt.show()"
   ]
  },
  {
   "cell_type": "code",
   "execution_count": 36,
   "id": "914907e7",
   "metadata": {},
   "outputs": [],
   "source": [
    "stocks_not_downloaded = []"
   ]
  },
  {
   "cell_type": "code",
   "execution_count": 48,
   "id": "09994a85",
   "metadata": {},
   "outputs": [],
   "source": [
    "def save_to_csv_from_yhoo(folder, ticker, syear, smonth, sday, eyear, emonth, eday):\n",
    "    start = dt(syear, smonth, sday)\n",
    "    end = dt(eyear, emonth, eday)\n",
    "    try:\n",
    "        print(\"Getting data for: \", ticker)\n",
    "        df = web.get_data_yahoo(ticker, start, end)\n",
    "        time.sleep(5)\n",
    "        df.to_csv(folder + ticker + '.csv')\n",
    " #       print(df)\n",
    "    except Exception as ex:\n",
    "        stocks_not_downloaded.append(ticker)\n",
    "        print(\"Could not find data for: \", ticker)\n",
    "        "
   ]
  },
  {
   "cell_type": "code",
   "execution_count": 51,
   "id": "3885f311",
   "metadata": {},
   "outputs": [
    {
     "name": "stdout",
     "output_type": "stream",
     "text": [
      "Getting data for:  LUV\n",
      "[*********************100%***********************]  1 of 1 completed\n",
      "Getting data for:  AAL\n",
      "[*********************100%***********************]  1 of 1 completed\n",
      "Got it\n"
     ]
    }
   ],
   "source": [
    "tickers = [\"LUV\", \"AAL\"]\n",
    "\n",
    "for ticker in tickers:\n",
    "    save_to_csv_from_yhoo(PATH, ticker, 2022, 1, 1, 2023, 6, 10)\n",
    "else:\n",
    "    print(\"Got it\")"
   ]
  },
  {
   "cell_type": "code",
   "execution_count": 45,
   "id": "1792cda9",
   "metadata": {},
   "outputs": [
    {
     "name": "stdout",
     "output_type": "stream",
     "text": [
      "/home/champ/code/python/jupyter/\n"
     ]
    }
   ],
   "source": [
    "print(PATH)"
   ]
  },
  {
   "cell_type": "code",
   "execution_count": 4,
   "id": "96dd7ed7",
   "metadata": {},
   "outputs": [
    {
     "data": {
      "image/png": "[encoded data removed]",
      "text/plain": [
       "<Figure size 432x288 with 1 Axes>"
      ]
     },
     "metadata": {
      "needs_background": "light"
     },
     "output_type": "display_data"
    }
   ],
   "source": [
    "import numpy as np\n",
    "import matplotlib.pyplot as plt\n",
    "\n",
    "# Data points\n",
    "interest_rates = np.linspace(0, 10, 100)\n",
    "income_levels = np.linspace(0, 10000, 100)\n",
    "\n",
    "# LM curve equation (example)\n",
    "def lm_curve(interest_rate, income):\n",
    "    return 0.1 * income - 0.5 * interest_rate\n",
    "\n",
    "# Generate LM curve points\n",
    "lm_points = lm_curve(interest_rates, income_levels)\n",
    "\n",
    "# Plotting\n",
    "plt.plot(interest_rates, lm_points, label='LM curve')\n",
    "plt.xlabel('Interest Rate')\n",
    "plt.ylabel('Income/Output')\n",
    "plt.title('LM Curve Example')\n",
    "plt.legend()\n",
    "plt.grid(True)\n",
    "plt.show()"
   ]
  },
  {
   "cell_type": "code",
   "execution_count": 9,
   "id": "5d7a2b1a",
   "metadata": {},
   "outputs": [],
   "source": [
    "from summarytools import dfSummary"
   ]
  },
  {
   "cell_type": "code",
   "execution_count": 10,
   "id": "f14262fe",
   "metadata": {},
   "outputs": [
    {
     "data": {
      "text/html": [
       "<style type=\"text/css\">\n",
       "#T_69870 thead>tr>th {\n",
       "  text-align: left;\n",
       "}\n",
       "#T_69870_row0_col0, #T_69870_row1_col0, #T_69870_row2_col0, #T_69870_row3_col0, #T_69870_row4_col0, #T_69870_row5_col0 {\n",
       "  text-align: left;\n",
       "  font-size: 12px;\n",
       "  vertical-align: middle;\n",
       "  width: 5%;\n",
       "  max-width: 50px;\n",
       "  min-width: 20px;\n",
       "}\n",
       "#T_69870_row0_col1, #T_69870_row1_col1, #T_69870_row2_col1, #T_69870_row3_col1, #T_69870_row4_col1, #T_69870_row5_col1 {\n",
       "  text-align: left;\n",
       "  font-size: 12px;\n",
       "  vertical-align: middle;\n",
       "  width: 15%;\n",
       "  max-width: 200px;\n",
       "  min-width: 100px;\n",
       "  word-break: break-word;\n",
       "}\n",
       "#T_69870_row0_col2, #T_69870_row1_col2, #T_69870_row2_col2, #T_69870_row3_col2, #T_69870_row4_col2, #T_69870_row5_col2 {\n",
       "  text-align: left;\n",
       "  font-size: 12px;\n",
       "  vertical-align: middle;\n",
       "  width: 30%;\n",
       "  min-width: 100px;\n",
       "}\n",
       "#T_69870_row0_col3, #T_69870_row1_col3, #T_69870_row2_col3, #T_69870_row3_col3, #T_69870_row4_col3, #T_69870_row5_col3 {\n",
       "  text-align: left;\n",
       "  font-size: 12px;\n",
       "  vertical-align: middle;\n",
       "  width: 25%;\n",
       "  min-width: 100px;\n",
       "}\n",
       "#T_69870_row0_col4, #T_69870_row1_col4, #T_69870_row2_col4, #T_69870_row3_col4, #T_69870_row4_col4, #T_69870_row5_col4 {\n",
       "  text-align: left;\n",
       "  font-size: 12px;\n",
       "  vertical-align: middle;\n",
       "  width: 20%;\n",
       "  min-width: 150px;\n",
       "}\n",
       "#T_69870_row0_col5, #T_69870_row1_col5, #T_69870_row2_col5, #T_69870_row3_col5, #T_69870_row4_col5, #T_69870_row5_col5 {\n",
       "  text-align: left;\n",
       "  font-size: 12px;\n",
       "  vertical-align: middle;\n",
       "  width: 10%;\n",
       "}\n",
       "</style>\n",
       "<table id=\"T_69870\">\n",
       "  <caption><strong>Data Frame Summary</strong><br>snap<br>Dimensions: 884 x 6<br>Duplicates: 0</caption>\n",
       "  <thead>\n",
       "    <tr>\n",
       "      <th id=\"T_69870_level0_col0\" class=\"col_heading level0 col0\" >No</th>\n",
       "      <th id=\"T_69870_level0_col1\" class=\"col_heading level0 col1\" >Variable</th>\n",
       "      <th id=\"T_69870_level0_col2\" class=\"col_heading level0 col2\" >Stats / Values</th>\n",
       "      <th id=\"T_69870_level0_col3\" class=\"col_heading level0 col3\" >Freqs / (% of Valid)</th>\n",
       "      <th id=\"T_69870_level0_col4\" class=\"col_heading level0 col4\" >Graph</th>\n",
       "      <th id=\"T_69870_level0_col5\" class=\"col_heading level0 col5\" >Missing</th>\n",
       "    </tr>\n",
       "  </thead>\n",
       "  <tbody>\n",
       "    <tr>\n",
       "      <td id=\"T_69870_row0_col0\" class=\"data row0 col0\" >1</td>\n",
       "      <td id=\"T_69870_row0_col1\" class=\"data row0 col1\" ><strong>Open</strong><br>[float64]</td>\n",
       "      <td id=\"T_69870_row0_col2\" class=\"data row0 col2\" >Mean (sd) : 31.8 (21.8)<br>min < med < max:<br>7.6 < 23.4 < 82.0<br>IQR (CV) : 40.2 (1.5)</td>\n",
       "      <td id=\"T_69870_row0_col3\" class=\"data row0 col3\" >770 distinct values</td>\n",
       "      <td id=\"T_69870_row0_col4\" class=\"data row0 col4\" ><img src = \"data:image/png;base64, iVBORw0KGgoAAAANSUhEUgAAAHoAAAAyCAYAAACTUs/lAAAAOXRFWHRTb2Z0d2FyZQBNYXRwbG90bGliIHZlcnNpb24zLjUuMSwgaHR0cHM6Ly9tYXRwbG90bGliLm9yZy/YYfK9AAAACXBIWXMAAAsTAAALEwEAmpwYAAABYElEQVR4nO3csW2EMABGYSeKBIXTckWayAtcFrgJUmUCt5mJjgnSZYPskSZFqGmQkMgESHbOGJ//97VYyNI7DIeE79Z1Najf/dETQB4PWwe6rnuz1p5CTjJN0+84jh/ppoXUNkNba0/e+5+QkwzD8JRuStgDS7cIQosgtAhCiyC0CEKLILQIQosgtAhCiyC0CEKLILQIQosgtAhCiyC0CEKLILQIQosgtAhCiyC0CEKLILQIQosgtAhCiyC0iM2vKWPM8/zinHsPGcsntsdIErppmkc+sS0bS7cIQotIsnTH4H5+jOyhuZ8fI3vomsVs8GNM3hVLMnTkjkvP1trvkLFt256995+h88i5YkmGjtxx6eK9/wode93M9lNN6JirdFmWszEmKHQtig4d84Qes2yWfOXtpejQkU/oNxcv51/NokPXLuaH3Pf9q3Pu31t2EvpGXPv+gVegIggtgtAi/gDVFnPd3s+5swAAAABJRU5ErkJggg==\"></img></td>\n",
       "      <td id=\"T_69870_row0_col5\" class=\"data row0 col5\" >0<br>(0.0%)</td>\n",
       "    </tr>\n",
       "    <tr>\n",
       "      <td id=\"T_69870_row1_col0\" class=\"data row1 col0\" >2</td>\n",
       "      <td id=\"T_69870_row1_col1\" class=\"data row1 col1\" ><strong>High</strong><br>[float64]</td>\n",
       "      <td id=\"T_69870_row1_col2\" class=\"data row1 col2\" >Mean (sd) : 32.6 (22.3)<br>min < med < max:<br>8.1 < 24.0 < 83.3<br>IQR (CV) : 41.5 (1.5)</td>\n",
       "      <td id=\"T_69870_row1_col3\" class=\"data row1 col3\" >802 distinct values</td>\n",
       "      <td id=\"T_69870_row1_col4\" class=\"data row1 col4\" ><img src = \"data:image/png;base64, iVBORw0KGgoAAAANSUhEUgAAAHoAAAAyCAYAAACTUs/lAAAAOXRFWHRTb2Z0d2FyZQBNYXRwbG90bGliIHZlcnNpb24zLjUuMSwgaHR0cHM6Ly9tYXRwbG90bGliLm9yZy/YYfK9AAAACXBIWXMAAAsTAAALEwEAmpwYAAABVElEQVR4nO3cMWrDMBiGYbUE7EFdnaGbLpBeoCfo1BNozZm86QTdeqMO9ezFYHAPUAwSUWRF3/usMUbwCvknYD9t22bQvuejF4AyTns/DMPwaa09x9xknuffaZq+8i0Lue2Gttaevfc/MTcJIbzmWxLugaNbBKFFEFoEoUUQWgShRRBaBKFFEFoEoUUQWgShRRBaBKFFEFoEoUUQWgShRRBaBKFFEFoEoUUQWgShRRBaBKFFEFoEoUUQWsTu25QplmV5c85dY67lFdtjZAnddd0Lr9jWjaNbBKFFEFpElmd0ikcb3Fr5lkvx0I82uKV8y2Ucxw/nXNSmMKbsxigeumUpm9iYshtZMnTKcbyu68UYEx2vVs2ETonX9/3Fe/8dc20I4f22ldWh6tApg5tivBRVh04c3JqOd+v0X3Xo1t3xxPo35BH6QCVPLP4ZE0FoEYQW8QezNXDhl1viiwAAAABJRU5ErkJggg==\"></img></td>\n",
       "      <td id=\"T_69870_row1_col5\" class=\"data row1 col5\" >0<br>(0.0%)</td>\n",
       "    </tr>\n",
       "    <tr>\n",
       "      <td id=\"T_69870_row2_col0\" class=\"data row2 col0\" >3</td>\n",
       "      <td id=\"T_69870_row2_col1\" class=\"data row2 col1\" ><strong>Low</strong><br>[float64]</td>\n",
       "      <td id=\"T_69870_row2_col2\" class=\"data row2 col2\" >Mean (sd) : 30.9 (21.3)<br>min < med < max:<br>7.3 < 22.7 < 79.3<br>IQR (CV) : 39.1 (1.5)</td>\n",
       "      <td id=\"T_69870_row2_col3\" class=\"data row2 col3\" >786 distinct values</td>\n",
       "      <td id=\"T_69870_row2_col4\" class=\"data row2 col4\" ><img src = \"data:image/png;base64, iVBORw0KGgoAAAANSUhEUgAAAHoAAAAyCAYAAACTUs/lAAAAOXRFWHRTb2Z0d2FyZQBNYXRwbG90bGliIHZlcnNpb24zLjUuMSwgaHR0cHM6Ly9tYXRwbG90bGliLm9yZy/YYfK9AAAACXBIWXMAAAsTAAALEwEAmpwYAAABWUlEQVR4nO3cMW6DMBiGYbeKBIO7kqGbL5BeoCfo1BN4zZnYOEG33qhDmVmQkOjSFclWHNvx9z4ryEJ6418QCZ72fTdo33PpC0Aep6MDwzB8WmvPIYssy/I7z/NXustCaoehrbVn7/1PyCLTNL2muyTcA6NbBKFFEFoEoUUQWgShRRBaBKFFEFoEoUUQWgShRRBaBKFFEFoEoUUQWgShRRBaBKFFEFoEoUUQWgShRRBaBKFFEFoEoUUQWsTh25Qx1nV9c85dQ87lFdsykoTuuu6FV2zrxugWkWRHx2DMl5E9NGO+DEa3iOw7+tG08tEeydAx8fq+v3jvv0POHcfxwzkXtK4xeX8YkqEjv7j0HrpuzP3H/9rZ7kGaCR2zS7dtuxhjgoO0oJnQ99qltbj1XqHq0DHP3K3v0ls/8Fd16Mhn7ofbpTlVHbp1OScWoQvKObH4Z0wEoUX8AWuleTtRQ+klAAAAAElFTkSuQmCC\"></img></td>\n",
       "      <td id=\"T_69870_row2_col5\" class=\"data row2 col5\" >0<br>(0.0%)</td>\n",
       "    </tr>\n",
       "    <tr>\n",
       "      <td id=\"T_69870_row3_col0\" class=\"data row3 col0\" >4</td>\n",
       "      <td id=\"T_69870_row3_col1\" class=\"data row3 col1\" ><strong>Close</strong><br>[float64]</td>\n",
       "      <td id=\"T_69870_row3_col2\" class=\"data row3 col2\" >Mean (sd) : 31.8 (21.8)<br>min < med < max:<br>7.8 < 23.2 < 83.1<br>IQR (CV) : 40.2 (1.5)</td>\n",
       "      <td id=\"T_69870_row3_col3\" class=\"data row3 col3\" >761 distinct values</td>\n",
       "      <td id=\"T_69870_row3_col4\" class=\"data row3 col4\" ><img src = \"data:image/png;base64, iVBORw0KGgoAAAANSUhEUgAAAHoAAAAyCAYAAACTUs/lAAAAOXRFWHRTb2Z0d2FyZQBNYXRwbG90bGliIHZlcnNpb24zLjUuMSwgaHR0cHM6Ly9tYXRwbG90bGliLm9yZy/YYfK9AAAACXBIWXMAAAsTAAALEwEAmpwYAAABYElEQVR4nO3cMW6DMBiGYVJVgsFdyZCl8gXSC+QEnXoCrz0Tm0+QrTfoPbp0KDMLEhIZOyHZwjEO3/usQcjSi35MJDjM81xh/562XgDyeF76oW3bD2PMMeQkwzD89X1/TbcspLYY2hhzdM79hpzEe39KtyTcA6NbBKFFEFoEoUUQWgShRRBaBKFFEFoEoUUQWgShRRBaBKFFEFoEoUUQWgShRRBaBKFFEFoEoUUQWgShRRBaBKFFEFoEoUUsvmQXYxzHN2vtZ8ixvHm5jSSh67p+4c3LsjG6RRBaBKFFEFpEks1YDHbo28geuoQduuKHeLKHLkHMh3i6rnu31oZeFK/GmJ/QdeS8iCRDx4icQBfn3HfouXP+p7Cb0DHjeJqmc1VVQfH2oujQMRu3pmnOzrmvkGO995d1K0sj58a06NCxY/Pe60kt58aU52gRhBZR9OjGv7X3c0I/iLX3c0a3iBtZpn4QuRConQAAAABJRU5ErkJggg==\"></img></td>\n",
       "      <td id=\"T_69870_row3_col5\" class=\"data row3 col5\" >0<br>(0.0%)</td>\n",
       "    </tr>\n",
       "    <tr>\n",
       "      <td id=\"T_69870_row4_col0\" class=\"data row4 col0\" >5</td>\n",
       "      <td id=\"T_69870_row4_col1\" class=\"data row4 col1\" ><strong>Adj Close</strong><br>[float64]</td>\n",
       "      <td id=\"T_69870_row4_col2\" class=\"data row4 col2\" >Mean (sd) : 31.8 (21.8)<br>min < med < max:<br>7.8 < 23.2 < 83.1<br>IQR (CV) : 40.2 (1.5)</td>\n",
       "      <td id=\"T_69870_row4_col3\" class=\"data row4 col3\" >761 distinct values</td>\n",
       "      <td id=\"T_69870_row4_col4\" class=\"data row4 col4\" ><img src = \"data:image/png;base64, iVBORw0KGgoAAAANSUhEUgAAAHoAAAAyCAYAAACTUs/lAAAAOXRFWHRTb2Z0d2FyZQBNYXRwbG90bGliIHZlcnNpb24zLjUuMSwgaHR0cHM6Ly9tYXRwbG90bGliLm9yZy/YYfK9AAAACXBIWXMAAAsTAAALEwEAmpwYAAABYElEQVR4nO3cMW6DMBiGYVJVgsFdyZCl8gXSC+QEnXoCrz0Tm0+QrTfoPbp0KDMLEhIZOyHZwjEO3/usQcjSi35MJDjM81xh/562XgDyeF76oW3bD2PMMeQkwzD89X1/TbcspLYY2hhzdM79hpzEe39KtyTcA6NbBKFFEFoEoUUQWgShRRBaBKFFEFoEoUUQWgShRRBaBKFFEFoEoUUQWgShRRBaBKFFEFoEoUUQWgShRRBaBKFFEFoEoUUsvmQXYxzHN2vtZ8ixvHm5jSSh67p+4c3LsjG6RRBaBKFFEFpEks1YDHbo28geuoQduuKHeLKHLkHMh3i6rnu31oZeFK/GmJ/QdeS8iCRDx4icQBfn3HfouXP+p7Cb0DHjeJqmc1VVQfH2oujQMRu3pmnOzrmvkGO995d1K0sj58a06NCxY/Pe60kt58aU52gRhBZR9OjGv7X3c0I/iLX3c0a3iBtZpn4QuRConQAAAABJRU5ErkJggg==\"></img></td>\n",
       "      <td id=\"T_69870_row4_col5\" class=\"data row4 col5\" >0<br>(0.0%)</td>\n",
       "    </tr>\n",
       "    <tr>\n",
       "      <td id=\"T_69870_row5_col0\" class=\"data row5 col0\" >6</td>\n",
       "      <td id=\"T_69870_row5_col1\" class=\"data row5 col1\" ><strong>Volume</strong><br>[int64]</td>\n",
       "      <td id=\"T_69870_row5_col2\" class=\"data row5 col2\" >Mean (sd) : 31258807.5 (29840036.2)<br>min < med < max:<br>7148900.0 < 23727550.0 < 330993900.0<br>IQR (CV) : 15882400.0 (1.0)</td>\n",
       "      <td id=\"T_69870_row5_col3\" class=\"data row5 col3\" >884 distinct values</td>\n",
       "      <td id=\"T_69870_row5_col4\" class=\"data row5 col4\" ><img src = \"data:image/png;base64, iVBORw0KGgoAAAANSUhEUgAAAHoAAAAyCAYAAACTUs/lAAAAOXRFWHRTb2Z0d2FyZQBNYXRwbG90bGliIHZlcnNpb24zLjUuMSwgaHR0cHM6Ly9tYXRwbG90bGliLm9yZy/YYfK9AAAACXBIWXMAAAsTAAALEwEAmpwYAAAA+klEQVR4nO3cMQrCMBhAYRWhy+/aDi7SE3gVT9DVa/UEXsnFwc5dOtUTVBKIVnzvWxNC4EHI9G/ned7o/+3WvoC+Y7+0UNf1JSKalEPGcXwOw3Ardy2Vthg6Ipqu6x4ph/R9fyx3JX2CTzeEoSEMDWFoCENDGBrC0BCGhjA0hKEhDA1haAhDQxgawtAQhoYwNIShIQwNYWgIQ0MYGsLQEIaGMDSEoSEMDWFoCENDGBrC0BCGhjA0hKEhDA1haAhDQxgawtAQi3PGckzTdG7b9pqy1+Fz6ygSuqqqg8PnfptPN4ShIQwNYWiIIp+xHJk/9FNE3BP3+pt/4wWfJi3+5MWxxgAAAABJRU5ErkJggg==\"></img></td>\n",
       "      <td id=\"T_69870_row5_col5\" class=\"data row5 col5\" >0<br>(0.0%)</td>\n",
       "    </tr>\n",
       "  </tbody>\n",
       "</table>\n"
      ],
      "text/plain": [
       "<pandas.io.formats.style.Styler at 0x7ffaf35bffd0>"
      ]
     },
     "execution_count": 10,
     "metadata": {},
     "output_type": "execute_result"
    }
   ],
   "source": [
    "dfSummary(snap)"
   ]
  },
  {
   "cell_type": "code",
   "execution_count": null,
   "id": "e7f29a3f",
   "metadata": {},
   "outputs": [],
   "source": []
  }
 ],
 "metadata": {
  "kernelspec": {
   "display_name": "Python 3 (ipykernel)",
   "language": "python",
   "name": "python3"
  },
  "language_info": {
   "codemirror_mode": {
    "name": "ipython",
    "version": 3
   },
   "file_extension": ".py",
   "mimetype": "text/x-python",
   "name": "python",
   "nbconvert_exporter": "python",
   "pygments_lexer": "ipython3",
   "version": "3.10.6"
  }
 },
 "nbformat": 4,
 "nbformat_minor": 5
}
