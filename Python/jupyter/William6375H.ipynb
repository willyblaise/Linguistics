{
 "cells": [
  {
   "cell_type": "code",
   "execution_count": 111,
   "id": "92ebacf0",
   "metadata": {},
   "outputs": [],
   "source": [
    "import pandas as pd\n",
    "import numpy as np\n",
    "import polars as pl\n",
    "import os\n",
    "from datetime import datetime as dt\n",
    "from os import listdir\n",
    "from os.path import isfile, join\n",
    "import sketch\n",
    "from pandas_datareader import data as web\n",
    "import yfinance as yf\n",
    "yf.pdr_override()\n",
    "from summarytools import dfSummary"
   ]
  },
  {
   "cell_type": "markdown",
   "id": "e0bb06ea",
   "metadata": {},
   "source": [
    "<font size = 6>Default Values</font>"
   ]
  },
  {
   "cell_type": "code",
   "execution_count": 3,
   "id": "41a72eab",
   "metadata": {},
   "outputs": [],
   "source": [
    "#PATH = \n",
    "S_YEAR = 2020\n",
    "S_MONTH = 1\n",
    "S_DAY = 2\n",
    "S_DATE = f\"{S_YEAR}-{S_MONTH}-{S_DAY}\"\n",
    "S_DATE_DATETIME = dt(S_YEAR, S_MONTH, S_DAY)\n",
    "\n",
    "E_YEAR = 2023\n",
    "E_MONTH = 6\n",
    "E_DAY = 28\n",
    "E_DATE = f\"{E_YEAR}-{E_MONTH}-{E_DAY}\"\n",
    "E_DATE_DATETIME = dt(E_YEAR, E_MONTH, E_DAY)"
   ]
  },
  {
   "cell_type": "markdown",
   "id": "6fc481ed",
   "metadata": {},
   "source": [
    "<font size = 6>Get Valid Dates</font>"
   ]
  },
  {
   "cell_type": "code",
   "execution_count": 69,
   "id": "5ecb45cd",
   "metadata": {},
   "outputs": [],
   "source": [
    "def get_valid_dates(df, sdate, edate):\n",
    "    #try:\n",
    "        mask = (df['Date'] > sdate) & (df['Date'] <= edate)\n",
    "        sm_df = df.loc[mask]\n",
    "        sm_df = sm_df.set_index(['Date'])\n",
    "        sm_date = str(sm_df.index.date.min())\n",
    "        last_date = str(sm_df.index.date.max())\n",
    "        \n",
    "        date_leading = '-'.join(('0' if len(x) < 2 else '')+x for x in sm_date.split('-'))\n",
    "        date_ending  = '-'.join(('0' if len(x) < 2 else '')+x for x in last_date.split('-'))\n",
    "        \n",
    "    #except Exception:\n",
    "    #    print(\"Date Corrupted\")\n",
    "    #else:\n",
    "        return date_leading, date_ending"
   ]
  },
  {
   "cell_type": "code",
   "execution_count": 179,
   "id": "f62e478f",
   "metadata": {},
   "outputs": [
    {
     "ename": "NameError",
     "evalue": "name 'df' is not defined",
     "output_type": "error",
     "traceback": [
      "\u001b[0;31m---------------------------------------------------------------------------\u001b[0m",
      "\u001b[0;31mNameError\u001b[0m                                 Traceback (most recent call last)",
      "\u001b[0;32m/tmp/ipykernel_9582/3007954510.py\u001b[0m in \u001b[0;36m<module>\u001b[0;34m\u001b[0m\n\u001b[0;32m----> 1\u001b[0;31m \u001b[0mski_mask\u001b[0m \u001b[0;34m=\u001b[0m \u001b[0;34m(\u001b[0m\u001b[0mdf\u001b[0m\u001b[0;34m[\u001b[0m\u001b[0;34m'Date'\u001b[0m\u001b[0;34m]\u001b[0m \u001b[0;34m>\u001b[0m \u001b[0msdate\u001b[0m\u001b[0;34m)\u001b[0m \u001b[0;34m&\u001b[0m \u001b[0;34m(\u001b[0m\u001b[0mdf\u001b[0m\u001b[0;34m[\u001b[0m\u001b[0;34m'Date'\u001b[0m\u001b[0;34m]\u001b[0m \u001b[0;34m<=\u001b[0m \u001b[0medate\u001b[0m\u001b[0;34m)\u001b[0m\u001b[0;34m\u001b[0m\u001b[0;34m\u001b[0m\u001b[0m\n\u001b[0m\u001b[1;32m      2\u001b[0m \u001b[0msm_df\u001b[0m \u001b[0;34m=\u001b[0m \u001b[0mdf\u001b[0m\u001b[0;34m.\u001b[0m\u001b[0mloc\u001b[0m\u001b[0;34m[\u001b[0m\u001b[0mski_mask\u001b[0m\u001b[0;34m]\u001b[0m\u001b[0;34m\u001b[0m\u001b[0;34m\u001b[0m\u001b[0m\n",
      "\u001b[0;31mNameError\u001b[0m: name 'df' is not defined"
     ]
    }
   ],
   "source": []
  },
  {
   "cell_type": "markdown",
   "id": "6d5d1675",
   "metadata": {},
   "source": [
    "<font size = 6>CSV REUSABLE METHOD</font>"
   ]
  },
  {
   "cell_type": "code",
   "execution_count": 13,
   "id": "8795ef18",
   "metadata": {},
   "outputs": [],
   "source": [
    "def get_df_info(csv):\n",
    "    try:\n",
    "        df = pd.read_csv(csv)    \n",
    "    except FileNotFoundError:\n",
    "        pass\n",
    "    return df\n",
    "        \n",
    "            "
   ]
  },
  {
   "cell_type": "code",
   "execution_count": 92,
   "id": "97c0ce53",
   "metadata": {},
   "outputs": [
    {
     "name": "stdout",
     "output_type": "stream",
     "text": [
      "[*********************100%***********************]  1 of 1 completed\n"
     ]
    }
   ],
   "source": [
    "sofi = web.get_data_yahoo('SOFI', start='2022-01-01', end='2023-07-10')"
   ]
  },
  {
   "cell_type": "code",
   "execution_count": 95,
   "id": "f566ee2e",
   "metadata": {},
   "outputs": [
    {
     "data": {
      "text/html": [
       "<div>\n",
       "<style scoped>\n",
       "    .dataframe tbody tr th:only-of-type {\n",
       "        vertical-align: middle;\n",
       "    }\n",
       "\n",
       "    .dataframe tbody tr th {\n",
       "        vertical-align: top;\n",
       "    }\n",
       "\n",
       "    .dataframe thead th {\n",
       "        text-align: right;\n",
       "    }\n",
       "</style>\n",
       "<table border=\"1\" class=\"dataframe\">\n",
       "  <thead>\n",
       "    <tr style=\"text-align: right;\">\n",
       "      <th></th>\n",
       "      <th>Open</th>\n",
       "      <th>High</th>\n",
       "      <th>Low</th>\n",
       "      <th>Close</th>\n",
       "      <th>Adj Close</th>\n",
       "      <th>Volume</th>\n",
       "    </tr>\n",
       "    <tr>\n",
       "      <th>Date</th>\n",
       "      <th></th>\n",
       "      <th></th>\n",
       "      <th></th>\n",
       "      <th></th>\n",
       "      <th></th>\n",
       "      <th></th>\n",
       "    </tr>\n",
       "  </thead>\n",
       "  <tbody>\n",
       "    <tr>\n",
       "      <th>2022-01-03</th>\n",
       "      <td>16.100</td>\n",
       "      <td>16.129999</td>\n",
       "      <td>15.450</td>\n",
       "      <td>15.68</td>\n",
       "      <td>15.68</td>\n",
       "      <td>27500900</td>\n",
       "    </tr>\n",
       "    <tr>\n",
       "      <th>2022-01-04</th>\n",
       "      <td>15.610</td>\n",
       "      <td>15.861000</td>\n",
       "      <td>14.590</td>\n",
       "      <td>15.05</td>\n",
       "      <td>15.05</td>\n",
       "      <td>34175900</td>\n",
       "    </tr>\n",
       "    <tr>\n",
       "      <th>2022-01-05</th>\n",
       "      <td>14.880</td>\n",
       "      <td>15.230000</td>\n",
       "      <td>14.040</td>\n",
       "      <td>14.10</td>\n",
       "      <td>14.10</td>\n",
       "      <td>35103100</td>\n",
       "    </tr>\n",
       "    <tr>\n",
       "      <th>2022-01-06</th>\n",
       "      <td>14.016</td>\n",
       "      <td>14.270000</td>\n",
       "      <td>13.010</td>\n",
       "      <td>13.78</td>\n",
       "      <td>13.78</td>\n",
       "      <td>46269400</td>\n",
       "    </tr>\n",
       "    <tr>\n",
       "      <th>2022-01-07</th>\n",
       "      <td>13.821</td>\n",
       "      <td>14.400000</td>\n",
       "      <td>13.620</td>\n",
       "      <td>13.74</td>\n",
       "      <td>13.74</td>\n",
       "      <td>28716200</td>\n",
       "    </tr>\n",
       "    <tr>\n",
       "      <th>...</th>\n",
       "      <td>...</td>\n",
       "      <td>...</td>\n",
       "      <td>...</td>\n",
       "      <td>...</td>\n",
       "      <td>...</td>\n",
       "      <td>...</td>\n",
       "    </tr>\n",
       "    <tr>\n",
       "      <th>2023-06-30</th>\n",
       "      <td>8.920</td>\n",
       "      <td>9.410000</td>\n",
       "      <td>8.320</td>\n",
       "      <td>8.34</td>\n",
       "      <td>8.34</td>\n",
       "      <td>98034000</td>\n",
       "    </tr>\n",
       "    <tr>\n",
       "      <th>2023-07-03</th>\n",
       "      <td>8.360</td>\n",
       "      <td>8.640000</td>\n",
       "      <td>8.350</td>\n",
       "      <td>8.52</td>\n",
       "      <td>8.52</td>\n",
       "      <td>26842000</td>\n",
       "    </tr>\n",
       "    <tr>\n",
       "      <th>2023-07-05</th>\n",
       "      <td>8.490</td>\n",
       "      <td>8.680000</td>\n",
       "      <td>8.310</td>\n",
       "      <td>8.38</td>\n",
       "      <td>8.38</td>\n",
       "      <td>26954600</td>\n",
       "    </tr>\n",
       "    <tr>\n",
       "      <th>2023-07-06</th>\n",
       "      <td>8.230</td>\n",
       "      <td>8.260000</td>\n",
       "      <td>7.855</td>\n",
       "      <td>8.10</td>\n",
       "      <td>8.10</td>\n",
       "      <td>38013800</td>\n",
       "    </tr>\n",
       "    <tr>\n",
       "      <th>2023-07-07</th>\n",
       "      <td>8.090</td>\n",
       "      <td>8.300000</td>\n",
       "      <td>8.030</td>\n",
       "      <td>8.05</td>\n",
       "      <td>8.05</td>\n",
       "      <td>22681400</td>\n",
       "    </tr>\n",
       "  </tbody>\n",
       "</table>\n",
       "<p>379 rows × 6 columns</p>\n",
       "</div>"
      ],
      "text/plain": [
       "              Open       High     Low  Close  Adj Close    Volume\n",
       "Date                                                             \n",
       "2022-01-03  16.100  16.129999  15.450  15.68      15.68  27500900\n",
       "2022-01-04  15.610  15.861000  14.590  15.05      15.05  34175900\n",
       "2022-01-05  14.880  15.230000  14.040  14.10      14.10  35103100\n",
       "2022-01-06  14.016  14.270000  13.010  13.78      13.78  46269400\n",
       "2022-01-07  13.821  14.400000  13.620  13.74      13.74  28716200\n",
       "...            ...        ...     ...    ...        ...       ...\n",
       "2023-06-30   8.920   9.410000   8.320   8.34       8.34  98034000\n",
       "2023-07-03   8.360   8.640000   8.350   8.52       8.52  26842000\n",
       "2023-07-05   8.490   8.680000   8.310   8.38       8.38  26954600\n",
       "2023-07-06   8.230   8.260000   7.855   8.10       8.10  38013800\n",
       "2023-07-07   8.090   8.300000   8.030   8.05       8.05  22681400\n",
       "\n",
       "[379 rows x 6 columns]"
      ]
     },
     "execution_count": 95,
     "metadata": {},
     "output_type": "execute_result"
    }
   ],
   "source": [
    "sofi"
   ]
  },
  {
   "cell_type": "code",
   "execution_count": 26,
   "id": "99753877",
   "metadata": {},
   "outputs": [
    {
     "data": {
      "text/html": [
       "<div style=\"display:flex;flex-direction:row;justify-content:space-between;\">\n",
       "                <pre style=\"width: 100%; white-space: pre-wrap;\" id=\"fbbf9ab7-4c04-482f-badd-15c49d0e3e4b\">\n",
       "# import matplotlib library\n",
       "import matplotlib.pyplot as plt\n",
       "\n",
       "# create a line plot of the Adj Close column\n",
       "sofi['Adj Close'].plot(kind='line')\n",
       "\n",
       "# add labels to the plot\n",
       "plt.title('Adj Close over Time')\n",
       "plt.xlabel('Date')\n",
       "plt.ylabel('Adj Close')\n",
       "\n",
       "# show the plot\n",
       "plt.show()\n",
       "</pre>\n",
       "                <button style=\"height: fit-content;\" onclick=\"navigator.clipboard.writeText(JSON.parse(atob(`IlxuIyBpbXBvcnQgbWF0cGxvdGxpYiBsaWJyYXJ5XG5pbXBvcnQgbWF0cGxvdGxpYi5weXBsb3QgYXMgcGx0XG5cbiMgY3JlYXRlIGEgbGluZSBwbG90IG9mIHRoZSBBZGogQ2xvc2UgY29sdW1uXG5zb2ZpWydBZGogQ2xvc2UnXS5wbG90KGtpbmQ9J2xpbmUnKVxuXG4jIGFkZCBsYWJlbHMgdG8gdGhlIHBsb3RcbnBsdC50aXRsZSgnQWRqIENsb3NlIG92ZXIgVGltZScpXG5wbHQueGxhYmVsKCdEYXRlJylcbnBsdC55bGFiZWwoJ0FkaiBDbG9zZScpXG5cbiMgc2hvdyB0aGUgcGxvdFxucGx0LnNob3coKVxuIg==`)))\">Copy</button>\n",
       "                </div>"
      ],
      "text/plain": [
       "<IPython.core.display.HTML object>"
      ]
     },
     "metadata": {},
     "output_type": "display_data"
    }
   ],
   "source": [
    "sofi.sketch.howto(\"how can i visualize adj close\")"
   ]
  },
  {
   "cell_type": "code",
   "execution_count": 93,
   "id": "82d37539",
   "metadata": {},
   "outputs": [
    {
     "data": {
      "image/png": "[encoded data removed]",
      "text/plain": [
       "<Figure size 432x288 with 1 Axes>"
      ]
     },
     "metadata": {
      "needs_background": "light"
     },
     "output_type": "display_data"
    }
   ],
   "source": [
    "\n",
    "\n",
    "# import matplotlib library\n",
    "import matplotlib.pyplot as plt\n",
    "\n",
    "# create a line plot of the Adj Close column\n",
    "sofi['Adj Close'].plot(kind='line')\n",
    "\n",
    "# add labels to the plot\n",
    "plt.title('Adj Close over Time')\n",
    "plt.xlabel('Date')\n",
    "plt.ylabel('Adj Close')\n",
    "\n",
    "# show the plot\n",
    "plt.show()"
   ]
  },
  {
   "cell_type": "code",
   "execution_count": 107,
   "id": "3e908d7c",
   "metadata": {},
   "outputs": [
    {
     "data": {
      "text/plain": [
       "Date\n",
       "2022-01-03    15.68\n",
       "2022-01-04    15.05\n",
       "2022-01-05    14.10\n",
       "2022-01-06    13.78\n",
       "2022-01-07    13.74\n",
       "              ...  \n",
       "2023-06-12     9.16\n",
       "2023-06-13     9.54\n",
       "2023-06-14     9.74\n",
       "2023-06-15     9.55\n",
       "2023-06-16     8.60\n",
       "Name: Adj Close, Length: 366, dtype: float64"
      ]
     },
     "execution_count": 107,
     "metadata": {},
     "output_type": "execute_result"
    }
   ],
   "source": [
    "sofi['Adj Close']"
   ]
  },
  {
   "cell_type": "code",
   "execution_count": 29,
   "id": "6e6a7eaf",
   "metadata": {},
   "outputs": [],
   "source": [
    "sofi.to_csv(\"sofi.csv\")"
   ]
  },
  {
   "cell_type": "code",
   "execution_count": null,
   "id": "a1e684ad",
   "metadata": {},
   "outputs": [],
   "source": [
    "os.getcwd()"
   ]
  },
  {
   "cell_type": "code",
   "execution_count": 31,
   "id": "961b49e9",
   "metadata": {},
   "outputs": [
    {
     "data": {
      "text/plain": [
       "Int64Index([ 3,  4,  5,  6,  7, 10, 11, 12, 13, 14,\n",
       "            ...\n",
       "             5,  6,  7,  8,  9, 12, 13, 14, 15, 16],\n",
       "           dtype='int64', name='Date', length=366)"
      ]
     },
     "execution_count": 31,
     "metadata": {},
     "output_type": "execute_result"
    }
   ],
   "source": [
    "sofi.index.day"
   ]
  },
  {
   "cell_type": "code",
   "execution_count": 34,
   "id": "cb3757bb",
   "metadata": {},
   "outputs": [
    {
     "data": {
      "text/plain": [
       "(366, 6)"
      ]
     },
     "execution_count": 34,
     "metadata": {},
     "output_type": "execute_result"
    }
   ],
   "source": [
    "sofi.shape"
   ]
  },
  {
   "cell_type": "code",
   "execution_count": 96,
   "id": "45966659",
   "metadata": {},
   "outputs": [
    {
     "name": "stdout",
     "output_type": "stream",
     "text": [
      "[*********************100%***********************]  1 of 1 completed\n"
     ]
    }
   ],
   "source": [
    "nu = web.get_data_yahoo('nu', start='2022-01-01', end='2023-06-29')"
   ]
  },
  {
   "cell_type": "code",
   "execution_count": 97,
   "id": "34cf4713",
   "metadata": {},
   "outputs": [
    {
     "data": {
      "text/html": [
       "<div>\n",
       "<style scoped>\n",
       "    .dataframe tbody tr th:only-of-type {\n",
       "        vertical-align: middle;\n",
       "    }\n",
       "\n",
       "    .dataframe tbody tr th {\n",
       "        vertical-align: top;\n",
       "    }\n",
       "\n",
       "    .dataframe thead th {\n",
       "        text-align: right;\n",
       "    }\n",
       "</style>\n",
       "<table border=\"1\" class=\"dataframe\">\n",
       "  <thead>\n",
       "    <tr style=\"text-align: right;\">\n",
       "      <th></th>\n",
       "      <th>Open</th>\n",
       "      <th>High</th>\n",
       "      <th>Low</th>\n",
       "      <th>Close</th>\n",
       "      <th>Adj Close</th>\n",
       "      <th>Volume</th>\n",
       "    </tr>\n",
       "    <tr>\n",
       "      <th>Date</th>\n",
       "      <th></th>\n",
       "      <th></th>\n",
       "      <th></th>\n",
       "      <th></th>\n",
       "      <th></th>\n",
       "      <th></th>\n",
       "    </tr>\n",
       "  </thead>\n",
       "  <tbody>\n",
       "    <tr>\n",
       "      <th>2022-01-03</th>\n",
       "      <td>9.60</td>\n",
       "      <td>10.000</td>\n",
       "      <td>9.55</td>\n",
       "      <td>9.98</td>\n",
       "      <td>9.98</td>\n",
       "      <td>6896100</td>\n",
       "    </tr>\n",
       "    <tr>\n",
       "      <th>2022-01-04</th>\n",
       "      <td>10.15</td>\n",
       "      <td>10.220</td>\n",
       "      <td>9.48</td>\n",
       "      <td>9.74</td>\n",
       "      <td>9.74</td>\n",
       "      <td>8551800</td>\n",
       "    </tr>\n",
       "    <tr>\n",
       "      <th>2022-01-05</th>\n",
       "      <td>9.68</td>\n",
       "      <td>9.710</td>\n",
       "      <td>8.92</td>\n",
       "      <td>9.04</td>\n",
       "      <td>9.04</td>\n",
       "      <td>13773400</td>\n",
       "    </tr>\n",
       "    <tr>\n",
       "      <th>2022-01-06</th>\n",
       "      <td>9.01</td>\n",
       "      <td>9.530</td>\n",
       "      <td>8.46</td>\n",
       "      <td>9.52</td>\n",
       "      <td>9.52</td>\n",
       "      <td>11014200</td>\n",
       "    </tr>\n",
       "    <tr>\n",
       "      <th>2022-01-07</th>\n",
       "      <td>9.50</td>\n",
       "      <td>9.680</td>\n",
       "      <td>9.14</td>\n",
       "      <td>9.36</td>\n",
       "      <td>9.36</td>\n",
       "      <td>4784700</td>\n",
       "    </tr>\n",
       "    <tr>\n",
       "      <th>...</th>\n",
       "      <td>...</td>\n",
       "      <td>...</td>\n",
       "      <td>...</td>\n",
       "      <td>...</td>\n",
       "      <td>...</td>\n",
       "      <td>...</td>\n",
       "    </tr>\n",
       "    <tr>\n",
       "      <th>2023-06-22</th>\n",
       "      <td>7.64</td>\n",
       "      <td>7.716</td>\n",
       "      <td>7.45</td>\n",
       "      <td>7.49</td>\n",
       "      <td>7.49</td>\n",
       "      <td>27952400</td>\n",
       "    </tr>\n",
       "    <tr>\n",
       "      <th>2023-06-23</th>\n",
       "      <td>7.40</td>\n",
       "      <td>7.700</td>\n",
       "      <td>7.36</td>\n",
       "      <td>7.56</td>\n",
       "      <td>7.56</td>\n",
       "      <td>166404700</td>\n",
       "    </tr>\n",
       "    <tr>\n",
       "      <th>2023-06-26</th>\n",
       "      <td>7.52</td>\n",
       "      <td>7.580</td>\n",
       "      <td>7.22</td>\n",
       "      <td>7.31</td>\n",
       "      <td>7.31</td>\n",
       "      <td>21200600</td>\n",
       "    </tr>\n",
       "    <tr>\n",
       "      <th>2023-06-27</th>\n",
       "      <td>7.39</td>\n",
       "      <td>7.695</td>\n",
       "      <td>7.33</td>\n",
       "      <td>7.65</td>\n",
       "      <td>7.65</td>\n",
       "      <td>21089500</td>\n",
       "    </tr>\n",
       "    <tr>\n",
       "      <th>2023-06-28</th>\n",
       "      <td>7.63</td>\n",
       "      <td>7.990</td>\n",
       "      <td>7.58</td>\n",
       "      <td>7.80</td>\n",
       "      <td>7.80</td>\n",
       "      <td>23838400</td>\n",
       "    </tr>\n",
       "  </tbody>\n",
       "</table>\n",
       "<p>373 rows × 6 columns</p>\n",
       "</div>"
      ],
      "text/plain": [
       "             Open    High   Low  Close  Adj Close     Volume\n",
       "Date                                                        \n",
       "2022-01-03   9.60  10.000  9.55   9.98       9.98    6896100\n",
       "2022-01-04  10.15  10.220  9.48   9.74       9.74    8551800\n",
       "2022-01-05   9.68   9.710  8.92   9.04       9.04   13773400\n",
       "2022-01-06   9.01   9.530  8.46   9.52       9.52   11014200\n",
       "2022-01-07   9.50   9.680  9.14   9.36       9.36    4784700\n",
       "...           ...     ...   ...    ...        ...        ...\n",
       "2023-06-22   7.64   7.716  7.45   7.49       7.49   27952400\n",
       "2023-06-23   7.40   7.700  7.36   7.56       7.56  166404700\n",
       "2023-06-26   7.52   7.580  7.22   7.31       7.31   21200600\n",
       "2023-06-27   7.39   7.695  7.33   7.65       7.65   21089500\n",
       "2023-06-28   7.63   7.990  7.58   7.80       7.80   23838400\n",
       "\n",
       "[373 rows x 6 columns]"
      ]
     },
     "execution_count": 97,
     "metadata": {},
     "output_type": "execute_result"
    }
   ],
   "source": [
    "nu"
   ]
  },
  {
   "cell_type": "code",
   "execution_count": 39,
   "id": "585b2346",
   "metadata": {},
   "outputs": [
    {
     "data": {
      "text/plain": [
       "(373, 6)"
      ]
     },
     "execution_count": 39,
     "metadata": {},
     "output_type": "execute_result"
    }
   ],
   "source": [
    "nu.shape"
   ]
  },
  {
   "cell_type": "markdown",
   "id": "c59f0620",
   "metadata": {},
   "source": [
    "<font size = 6>NU - Stock Prices over 18 Months</font>"
   ]
  },
  {
   "cell_type": "code",
   "execution_count": 98,
   "id": "26006fdb",
   "metadata": {},
   "outputs": [
    {
     "data": {
      "image/png": "[encoded data removed]",
      "text/plain": [
       "<Figure size 432x288 with 1 Axes>"
      ]
     },
     "metadata": {
      "needs_background": "light"
     },
     "output_type": "display_data"
    }
   ],
   "source": [
    "# create a line plot of the Adj Close column\n",
    "nu['Adj Close'].plot(kind='line')\n",
    "\n",
    "# add labels to the plot\n",
    "plt.title('Adj Close over Time')\n",
    "plt.xlabel('Date')\n",
    "plt.ylabel('Adj Close')\n",
    "\n",
    "# show the plot\n",
    "plt.show()"
   ]
  },
  {
   "cell_type": "markdown",
   "id": "114adfa1",
   "metadata": {},
   "source": [
    "<font size = 6> NU - Minimum Price</font>"
   ]
  },
  {
   "cell_type": "code",
   "execution_count": 44,
   "id": "d5a90744",
   "metadata": {},
   "outputs": [
    {
     "data": {
      "text/plain": [
       "3.309999942779541"
      ]
     },
     "execution_count": 44,
     "metadata": {},
     "output_type": "execute_result"
    }
   ],
   "source": [
    "nu['Adj Close'].min()"
   ]
  },
  {
   "cell_type": "markdown",
   "id": "f48de982",
   "metadata": {},
   "source": [
    "<font size = 6> NU - Maximum Price</font>"
   ]
  },
  {
   "cell_type": "code",
   "execution_count": 45,
   "id": "dcba4717",
   "metadata": {},
   "outputs": [
    {
     "data": {
      "text/plain": [
       "10.199999809265137"
      ]
     },
     "execution_count": 45,
     "metadata": {},
     "output_type": "execute_result"
    }
   ],
   "source": [
    "nu['Adj Close'].max()"
   ]
  },
  {
   "cell_type": "code",
   "execution_count": 5,
   "id": "5eb170d2",
   "metadata": {},
   "outputs": [],
   "source": [
    "stocks_not_downloaded = []"
   ]
  },
  {
   "cell_type": "markdown",
   "id": "af27179f",
   "metadata": {},
   "source": [
    "<font size = 6>Download Stocks</font>"
   ]
  },
  {
   "cell_type": "code",
   "execution_count": 8,
   "id": "213c7251",
   "metadata": {},
   "outputs": [],
   "source": [
    "from datetime import datetime as dt\n",
    "import time\n",
    "from pandas_datareader import data as web\n",
    "\n",
    "folder = \"/home/champ/code/Python4Finance/champlist/\"\n",
    "folder2 = \"/home/champ/code/Python4Finance/df_to_csv/\"\n",
    "\n",
    "def save_to_csv_from_yahoo(folder, ticker, syear, smonth, sday, eyear, emonth, eday):\n",
    "    start = dt(syear, smonth, sday)\n",
    "    end = dt(eyear, emonth, eday)\n",
    "    try:\n",
    "        print(\"Get Data for : \", ticker)\n",
    "        df = web.get_data_yahoo(ticker, start, end)['Adj Close']\n",
    "        time.sleep(10)\n",
    "        df.to_csv(folder + ticker + '.csv')\n",
    "    except Exception as ex:\n",
    "        stocks_not_downloaded.append(ticker)\n",
    "        print(\"Could not get data for: \", ticker)"
   ]
  },
  {
   "cell_type": "markdown",
   "id": "1586a264",
   "metadata": {},
   "source": [
    "<font size = 6>Stocks in Blox</font>"
   ]
  },
  {
   "cell_type": "code",
   "execution_count": 40,
   "id": "2a05002e",
   "metadata": {},
   "outputs": [
    {
     "name": "stdout",
     "output_type": "stream",
     "text": [
      "Get Data for :  USEG\n",
      "[*********************100%***********************]  1 of 1 completed\n",
      "Get Data for :  USFD\n",
      "[*********************100%***********************]  1 of 1 completed\n",
      "Get Data for :  USLM\n",
      "[*********************100%***********************]  1 of 1 completed\n",
      "Get Data for :  USM\n",
      "[*********************100%***********************]  1 of 1 completed\n",
      "Get Data for :  USNA\n",
      "[*********************100%***********************]  1 of 1 completed\n",
      "Get Data for :  USPH\n",
      "[*********************100%***********************]  1 of 1 completed\n",
      "Get Data for :  USWS\n",
      "[*********************100%***********************]  1 of 1 completed"
     ]
    },
    {
     "name": "stderr",
     "output_type": "stream",
     "text": [
      "\n",
      "1 Failed download:\n",
      "['USWS']: Exception('%ticker%: No timezone found, symbol may be delisted')\n"
     ]
    },
    {
     "name": "stdout",
     "output_type": "stream",
     "text": [
      "\n",
      "Get Data for :  USX\n",
      "[*********************100%***********************]  1 of 1 completed\n",
      "Get Data for :  UTHR\n",
      "[*********************100%***********************]  1 of 1 completed\n",
      "Get Data for :  UTI\n",
      "[*********************100%***********************]  1 of 1 completed\n",
      "Get Data for :  UTL\n",
      "[*********************100%***********************]  1 of 1 completed\n",
      "Get Data for :  UTMD\n",
      "[*********************100%***********************]  1 of 1 completed\n",
      "Get Data for :  UUU\n",
      "[*********************100%***********************]  1 of 1 completed\n",
      "Get Data for :  UVE\n",
      "[*********************100%***********************]  1 of 1 completed\n",
      "Get Data for :  UVSP\n",
      "[*********************100%***********************]  1 of 1 completed\n",
      "Get Data for :  UVV\n",
      "[*********************100%***********************]  1 of 1 completed\n",
      "Get Data for :  V\n",
      "[*********************100%***********************]  1 of 1 completed\n",
      "Get Data for :  VAC\n",
      "[*********************100%***********************]  1 of 1 completed\n",
      "Get Data for :  VAL\n",
      "[*********************100%***********************]  1 of 1 completed\n",
      "Get Data for :  VALU\n",
      "[*********************100%***********************]  1 of 1 completed\n",
      "Get Data for :  VAPO\n",
      "[*********************100%***********************]  1 of 1 completed\n",
      "Get Data for :  VAR\n",
      "[*********************100%***********************]  1 of 1 completed"
     ]
    },
    {
     "name": "stderr",
     "output_type": "stream",
     "text": [
      "\n",
      "1 Failed download:\n",
      "['VAR']: Exception('%ticker%: No timezone found, symbol may be delisted')\n"
     ]
    },
    {
     "name": "stdout",
     "output_type": "stream",
     "text": [
      "\n",
      "Get Data for :  VBFC\n",
      "[*********************100%***********************]  1 of 1 completed\n",
      "Get Data for :  VBIV\n",
      "[*********************100%***********************]  1 of 1 completed\n",
      "Get Data for :  VBTX\n",
      "[*********************100%***********************]  1 of 1 completed\n",
      "Get Data for :  VC\n",
      "[*********************100%***********************]  1 of 1 completed\n",
      "Get Data for :  VCEL\n",
      "[*********************100%***********************]  1 of 1 completed\n",
      "Get Data for :  VCRA\n",
      "[*********************100%***********************]  1 of 1 completed"
     ]
    },
    {
     "name": "stderr",
     "output_type": "stream",
     "text": [
      "\n",
      "1 Failed download:\n",
      "['VCRA']: Exception('%ticker%: No timezone found, symbol may be delisted')\n"
     ]
    },
    {
     "name": "stdout",
     "output_type": "stream",
     "text": [
      "\n",
      "Get Data for :  VCTR\n",
      "[*********************100%***********************]  1 of 1 completed\n",
      "Get Data for :  VCYT\n",
      "[*********************100%***********************]  1 of 1 completed\n",
      "Get Data for :  VEC\n",
      "[*********************100%***********************]  1 of 1 completed"
     ]
    },
    {
     "name": "stderr",
     "output_type": "stream",
     "text": [
      "\n",
      "1 Failed download:\n",
      "['VEC']: Exception('%ticker%: No timezone found, symbol may be delisted')\n"
     ]
    },
    {
     "name": "stdout",
     "output_type": "stream",
     "text": [
      "\n",
      "Get Data for :  VECO\n",
      "[*********************100%***********************]  1 of 1 completed\n",
      "Get Data for :  VEEV\n",
      "[*********************100%***********************]  1 of 1 completed\n",
      "Get Data for :  VER\n",
      "[*********************100%***********************]  1 of 1 completed"
     ]
    },
    {
     "name": "stderr",
     "output_type": "stream",
     "text": [
      "\n",
      "1 Failed download:\n",
      "['VER']: Exception('%ticker%: No timezone found, symbol may be delisted')\n"
     ]
    },
    {
     "name": "stdout",
     "output_type": "stream",
     "text": [
      "\n",
      "Get Data for :  VERI\n",
      "[*********************100%***********************]  1 of 1 completed\n",
      "Get Data for :  VERU\n",
      "[*********************100%***********************]  1 of 1 completed\n",
      "Get Data for :  VFC\n",
      "[*********************100%***********************]  1 of 1 completed\n",
      "Get Data for :  VG\n",
      "[*********************100%***********************]  1 of 1 completed"
     ]
    },
    {
     "name": "stderr",
     "output_type": "stream",
     "text": [
      "\n",
      "1 Failed download:\n",
      "['VG']: Exception('%ticker%: No timezone found, symbol may be delisted')\n"
     ]
    },
    {
     "name": "stdout",
     "output_type": "stream",
     "text": [
      "\n",
      "Get Data for :  VGR\n",
      "[*********************100%***********************]  1 of 1 completed\n",
      "Get Data for :  VHC\n",
      "[*********************100%***********************]  1 of 1 completed\n",
      "Get Data for :  VIAV\n",
      "[*********************100%***********************]  1 of 1 completed\n",
      "Get Data for :  VICI\n",
      "[*********************100%***********************]  1 of 1 completed\n",
      "Get Data for :  VICR\n",
      "[*********************100%***********************]  1 of 1 completed\n",
      "Get Data for :  VIRC\n",
      "[*********************100%***********************]  1 of 1 completed\n",
      "Get Data for :  VIRT\n",
      "[*********************100%***********************]  1 of 1 completed\n",
      "Get Data for :  VIVO\n",
      "[*********************100%***********************]  1 of 1 completed"
     ]
    },
    {
     "name": "stderr",
     "output_type": "stream",
     "text": [
      "\n",
      "1 Failed download:\n",
      "['VIVO']: Exception('%ticker%: No timezone found, symbol may be delisted')\n"
     ]
    },
    {
     "name": "stdout",
     "output_type": "stream",
     "text": [
      "\n",
      "Get Data for :  VKTX\n",
      "[*********************100%***********************]  1 of 1 completed\n",
      "Get Data for :  VLGEA\n",
      "[*********************100%***********************]  1 of 1 completed\n",
      "Get Data for :  VLO\n",
      "[*********************100%***********************]  1 of 1 completed\n",
      "Get Data for :  VLY\n",
      "[*********************100%***********************]  1 of 1 completed\n",
      "Get Data for :  VMC\n",
      "[*********************100%***********************]  1 of 1 completed\n",
      "Get Data for :  VMI\n",
      "[*********************100%***********************]  1 of 1 completed\n",
      "Get Data for :  VMW\n",
      "[*********************100%***********************]  1 of 1 completed\n",
      "Get Data for :  VNCE\n",
      "[*********************100%***********************]  1 of 1 completed\n",
      "Get Data for :  VNDA\n",
      "[*********************100%***********************]  1 of 1 completed\n",
      "Get Data for :  VNE\n",
      "[*********************100%***********************]  1 of 1 completed"
     ]
    },
    {
     "name": "stderr",
     "output_type": "stream",
     "text": [
      "\n",
      "1 Failed download:\n",
      "['VNE']: Exception('%ticker%: No timezone found, symbol may be delisted')\n"
     ]
    },
    {
     "name": "stdout",
     "output_type": "stream",
     "text": [
      "\n",
      "Get Data for :  VNO\n",
      "[*********************100%***********************]  1 of 1 completed\n",
      "Get Data for :  VNRX\n",
      "[*********************100%***********************]  1 of 1 completed\n",
      "Get Data for :  VNTR\n",
      "[*********************100%***********************]  1 of 1 completed\n",
      "Get Data for :  VOXX\n",
      "[*********************100%***********************]  1 of 1 completed\n",
      "Get Data for :  VOYA\n",
      "[*********************100%***********************]  1 of 1 completed\n",
      "Get Data for :  VPG\n",
      "[*********************100%***********************]  1 of 1 completed\n",
      "Get Data for :  VRA\n",
      "[*********************100%***********************]  1 of 1 completed\n",
      "Get Data for :  VRAY\n",
      "[*********************100%***********************]  1 of 1 completed\n",
      "Get Data for :  VREX\n",
      "[*********************100%***********************]  1 of 1 completed\n",
      "Get Data for :  VRNS\n",
      "[*********************100%***********************]  1 of 1 completed\n",
      "Get Data for :  VRNT\n",
      "[*********************100%***********************]  1 of 1 completed\n",
      "Get Data for :  VRRM\n",
      "[*********************100%***********************]  1 of 1 completed\n",
      "Get Data for :  VRS\n",
      "[*********************100%***********************]  1 of 1 completed"
     ]
    },
    {
     "name": "stderr",
     "output_type": "stream",
     "text": [
      "\n",
      "1 Failed download:\n",
      "['VRS']: Exception('%ticker%: No timezone found, symbol may be delisted')\n"
     ]
    },
    {
     "name": "stdout",
     "output_type": "stream",
     "text": [
      "\n",
      "Get Data for :  VRSK\n",
      "[*********************100%***********************]  1 of 1 completed\n",
      "Get Data for :  VRSN\n",
      "[*********************100%***********************]  1 of 1 completed\n",
      "Get Data for :  VRTS\n",
      "[*********************100%***********************]  1 of 1 completed\n",
      "Get Data for :  VRTU\n",
      "[*********************100%***********************]  1 of 1 completed"
     ]
    },
    {
     "name": "stderr",
     "output_type": "stream",
     "text": [
      "\n",
      "1 Failed download:\n",
      "['VRTU']: Exception('%ticker%: No timezone found, symbol may be delisted')\n"
     ]
    },
    {
     "name": "stdout",
     "output_type": "stream",
     "text": [
      "\n",
      "Get Data for :  VRTV\n",
      "[*********************100%***********************]  1 of 1 completed\n",
      "Get Data for :  VRTX\n",
      "[*********************100%***********************]  1 of 1 completed\n",
      "Get Data for :  VSAT\n",
      "[*********************100%***********************]  1 of 1 completed\n",
      "Get Data for :  VSEC\n",
      "[*********************100%***********************]  1 of 1 completed\n",
      "Get Data for :  VSH\n",
      "[*********************100%***********************]  1 of 1 completed\n",
      "Get Data for :  VSLR\n",
      "[*********************100%***********************]  1 of 1 completed"
     ]
    },
    {
     "name": "stderr",
     "output_type": "stream",
     "text": [
      "\n",
      "1 Failed download:\n",
      "['VSLR']: Exception('%ticker%: No timezone found, symbol may be delisted')\n"
     ]
    },
    {
     "name": "stdout",
     "output_type": "stream",
     "text": [
      "\n",
      "Get Data for :  VST\n",
      "[*********************100%***********************]  1 of 1 completed\n",
      "Get Data for :  VSTM\n",
      "[*********************100%***********************]  1 of 1 completed\n",
      "Get Data for :  VSTO\n",
      "[*********************100%***********************]  1 of 1 completed\n",
      "Get Data for :  VTNR\n",
      "[*********************100%***********************]  1 of 1 completed\n",
      "Get Data for :  VTR\n",
      "[*********************100%***********************]  1 of 1 completed\n",
      "Get Data for :  VTVT\n",
      "[*********************100%***********************]  1 of 1 completed\n",
      "Get Data for :  VUZI\n",
      "[*********************100%***********************]  1 of 1 completed\n",
      "Get Data for :  VVI\n",
      "[*********************100%***********************]  1 of 1 completed\n",
      "Get Data for :  VVUS\n",
      "[*********************100%***********************]  1 of 1 completed"
     ]
    },
    {
     "name": "stderr",
     "output_type": "stream",
     "text": [
      "\n",
      "1 Failed download:\n",
      "['VVUS']: Exception('%ticker%: No timezone found, symbol may be delisted')\n"
     ]
    },
    {
     "name": "stdout",
     "output_type": "stream",
     "text": [
      "\n",
      "Get Data for :  VVV\n"
     ]
    },
    {
     "name": "stderr",
     "output_type": "stream",
     "text": [
      "Failed to get ticker 'VVV' reason: HTTPSConnectionPool(host='query2.finance.yahoo.com', port=443): Read timed out. (read timeout=10)\n"
     ]
    },
    {
     "name": "stdout",
     "output_type": "stream",
     "text": [
      "\r",
      "[*********************100%***********************]  1 of 1 completed"
     ]
    },
    {
     "name": "stderr",
     "output_type": "stream",
     "text": [
      "\n",
      "1 Failed download:\n",
      "['VVV']: Exception('%ticker%: No timezone found, symbol may be delisted')\n"
     ]
    },
    {
     "name": "stdout",
     "output_type": "stream",
     "text": [
      "\n",
      "Get Data for :  VXRT\n",
      "[*********************100%***********************]  1 of 1 completed\n",
      "Get Data for :  VYGR\n",
      "[*********************100%***********************]  1 of 1 completed\n",
      "Get Data for :  VZ\n",
      "[*********************100%***********************]  1 of 1 completed\n",
      "Get Data for :  W\n",
      "[*********************100%***********************]  1 of 1 completed\n",
      "Get Data for :  WAB\n",
      "[*********************100%***********************]  1 of 1 completed\n",
      "Get Data for :  WABC\n",
      "[*********************100%***********************]  1 of 1 completed\n",
      "Get Data for :  WAFD\n",
      "[*********************100%***********************]  1 of 1 completed\n",
      "Get Data for :  WAL\n",
      "[*********************100%***********************]  1 of 1 completed\n",
      "Get Data for :  WASH\n",
      "[*********************100%***********************]  1 of 1 completed\n",
      "Get Data for :  WAT\n",
      "[*********************100%***********************]  1 of 1 completed\n",
      "Get Data for :  WATT\n",
      "[*********************100%***********************]  1 of 1 completed\n",
      "Get Data for :  WBA\n",
      "[*********************100%***********************]  1 of 1 completed\n",
      "Get Data for :  WBS\n",
      "[*********************100%***********************]  1 of 1 completed\n",
      "Get Data for :  WBT\n",
      "[*********************100%***********************]  1 of 1 completed"
     ]
    },
    {
     "name": "stderr",
     "output_type": "stream",
     "text": [
      "\n",
      "1 Failed download:\n",
      "['WBT']: Exception('%ticker%: No timezone found, symbol may be delisted')\n"
     ]
    },
    {
     "name": "stdout",
     "output_type": "stream",
     "text": [
      "\n",
      "Get Data for :  WCC\n",
      "[*********************100%***********************]  1 of 1 completed\n",
      "Get Data for :  WD\n",
      "[*********************100%***********************]  1 of 1 completed\n",
      "Get Data for :  WDAY\n",
      "[*********************100%***********************]  1 of 1 completed\n",
      "Get Data for :  WDC\n",
      "[*********************100%***********************]  1 of 1 completed\n",
      "Get Data for :  WDFC\n",
      "[*********************100%***********************]  1 of 1 completed\n",
      "Get Data for :  WDR\n",
      "[*********************100%***********************]  1 of 1 completed"
     ]
    },
    {
     "name": "stderr",
     "output_type": "stream",
     "text": [
      "\n",
      "1 Failed download:\n",
      "['WDR']: Exception('%ticker%: No timezone found, symbol may be delisted')\n"
     ]
    },
    {
     "name": "stdout",
     "output_type": "stream",
     "text": [
      "\n",
      "Get Data for :  WEC\n",
      "[*********************100%***********************]  1 of 1 completed\n",
      "Get Data for :  WELL\n",
      "[*********************100%***********************]  1 of 1 completed\n",
      "Get Data for :  WEN\n",
      "[*********************100%***********************]  1 of 1 completed\n",
      "Get Data for :  WERN\n",
      "[*********************100%***********************]  1 of 1 completed\n",
      "Get Data for :  WETF\n",
      "[*********************100%***********************]  1 of 1 completed"
     ]
    },
    {
     "name": "stderr",
     "output_type": "stream",
     "text": [
      "\n",
      "1 Failed download:\n",
      "['WETF']: Exception('%ticker%: No timezone found, symbol may be delisted')\n"
     ]
    },
    {
     "name": "stdout",
     "output_type": "stream",
     "text": [
      "\n",
      "Get Data for :  WEX\n",
      "[*********************100%***********************]  1 of 1 completed\n",
      "Get Data for :  WEYS\n",
      "[*********************100%***********************]  1 of 1 completed\n",
      "Get Data for :  WFC\n",
      "[*********************100%***********************]  1 of 1 completed\n",
      "Get Data for :  WGO\n",
      "[*********************100%***********************]  1 of 1 completed\n",
      "Get Data for :  WH\n",
      "[*********************100%***********************]  1 of 1 completed\n",
      "Get Data for :  WHD\n",
      "[*********************100%***********************]  1 of 1 completed\n",
      "Get Data for :  WHG\n",
      "[*********************100%***********************]  1 of 1 completed\n",
      "Get Data for :  WHLM\n",
      "[*********************100%***********************]  1 of 1 completed\n",
      "Get Data for :  WHLR\n",
      "[*********************100%***********************]  1 of 1 completed\n",
      "Get Data for :  WHR\n",
      "[*********************100%***********************]  1 of 1 completed\n",
      "Get Data for :  WIFI\n",
      "[*********************100%***********************]  1 of 1 completed"
     ]
    },
    {
     "name": "stderr",
     "output_type": "stream",
     "text": [
      "\n",
      "1 Failed download:\n",
      "['WIFI']: Exception('%ticker%: No timezone found, symbol may be delisted')\n"
     ]
    },
    {
     "name": "stdout",
     "output_type": "stream",
     "text": [
      "\n",
      "Get Data for :  WINA\n",
      "[*********************100%***********************]  1 of 1 completed\n",
      "Get Data for :  WING\n",
      "[*********************100%***********************]  1 of 1 completed\n",
      "Get Data for :  WIRE\n",
      "[*********************100%***********************]  1 of 1 completed\n",
      "Get Data for :  WK\n",
      "[*********************100%***********************]  1 of 1 completed\n",
      "Get Data for :  WKHS\n",
      "[*********************100%***********************]  1 of 1 completed\n",
      "Get Data for :  WLDN\n",
      "[*********************100%***********************]  1 of 1 completed\n",
      "Get Data for :  WLFC\n",
      "[*********************100%***********************]  1 of 1 completed"
     ]
    },
    {
     "name": "stderr",
     "output_type": "stream",
     "text": [
      "\n",
      "1 Failed download:\n",
      "['WLFC']: Exception('%ticker%: No price data found, symbol may be delisted (1d 2020-01-01 00:00:00 -> 2023-07-07 00:00:00)')\n"
     ]
    },
    {
     "name": "stdout",
     "output_type": "stream",
     "text": [
      "\n",
      "Get Data for :  WLK\n",
      "[*********************100%***********************]  1 of 1 completed\n",
      "Get Data for :  WLL\n",
      "[*********************100%***********************]  1 of 1 completed"
     ]
    },
    {
     "name": "stderr",
     "output_type": "stream",
     "text": [
      "\n",
      "1 Failed download:\n",
      "['WLL']: Exception('%ticker%: No timezone found, symbol may be delisted')\n"
     ]
    },
    {
     "name": "stdout",
     "output_type": "stream",
     "text": [
      "\n",
      "Get Data for :  WLTW\n",
      "[*********************100%***********************]  1 of 1 completed"
     ]
    },
    {
     "name": "stderr",
     "output_type": "stream",
     "text": [
      "\n",
      "1 Failed download:\n",
      "['WLTW']: Exception('%ticker%: No timezone found, symbol may be delisted')\n"
     ]
    },
    {
     "name": "stdout",
     "output_type": "stream",
     "text": [
      "\n",
      "Get Data for :  WM\n",
      "[*********************100%***********************]  1 of 1 completed\n",
      "Get Data for :  WMB\n",
      "[*********************100%***********************]  1 of 1 completed\n",
      "Get Data for :  WMC\n",
      "[*********************100%***********************]  1 of 1 completed\n",
      "Get Data for :  WMGI\n",
      "[*********************100%***********************]  1 of 1 completed"
     ]
    },
    {
     "name": "stderr",
     "output_type": "stream",
     "text": [
      "\n",
      "1 Failed download:\n",
      "['WMGI']: Exception('%ticker%: No timezone found, symbol may be delisted')\n"
     ]
    },
    {
     "name": "stdout",
     "output_type": "stream",
     "text": [
      "\n",
      "Get Data for :  WMK\n",
      "[*********************100%***********************]  1 of 1 completed"
     ]
    },
    {
     "name": "stderr",
     "output_type": "stream",
     "text": [
      "\n",
      "1 Failed download:\n",
      "['WMK']: Exception('%ticker%: No price data found, symbol may be delisted (1d 2020-01-01 00:00:00 -> 2023-07-07 00:00:00)')\n"
     ]
    },
    {
     "name": "stdout",
     "output_type": "stream",
     "text": [
      "\n",
      "Get Data for :  WMS\n",
      "[*********************100%***********************]  1 of 1 completed\n",
      "Get Data for :  WMT\n",
      "[*********************100%***********************]  1 of 1 completed\n",
      "Get Data for :  WNC\n",
      "[*********************100%***********************]  1 of 1 completed\n",
      "Get Data for :  WNEB\n",
      "[*********************100%***********************]  1 of 1 completed\n",
      "Get Data for :  WOR\n",
      "[*********************100%***********************]  1 of 1 completed\n",
      "Get Data for :  WOW\n",
      "[*********************100%***********************]  1 of 1 completed\n",
      "Get Data for :  WPC\n",
      "[*********************100%***********************]  1 of 1 completed\n",
      "Get Data for :  WPG\n",
      "[*********************100%***********************]  1 of 1 completed"
     ]
    },
    {
     "name": "stderr",
     "output_type": "stream",
     "text": [
      "\n",
      "1 Failed download:\n",
      "['WPG']: Exception('%ticker%: No timezone found, symbol may be delisted')\n"
     ]
    },
    {
     "name": "stdout",
     "output_type": "stream",
     "text": [
      "\n",
      "Get Data for :  WPX\n",
      "[*********************100%***********************]  1 of 1 completed"
     ]
    },
    {
     "name": "stderr",
     "output_type": "stream",
     "text": [
      "\n",
      "1 Failed download:\n",
      "['WPX']: Exception('%ticker%: No timezone found, symbol may be delisted')\n"
     ]
    },
    {
     "name": "stdout",
     "output_type": "stream",
     "text": [
      "\n",
      "Get Data for :  WRB\n",
      "[*********************100%***********************]  1 of 1 completed\n",
      "Get Data for :  WRE\n",
      "[*********************100%***********************]  1 of 1 completed"
     ]
    },
    {
     "name": "stderr",
     "output_type": "stream",
     "text": [
      "\n",
      "1 Failed download:\n",
      "['WRE']: Exception('%ticker%: No timezone found, symbol may be delisted')\n"
     ]
    },
    {
     "name": "stdout",
     "output_type": "stream",
     "text": [
      "\n",
      "Get Data for :  WRI\n",
      "[*********************100%***********************]  1 of 1 completed"
     ]
    },
    {
     "name": "stderr",
     "output_type": "stream",
     "text": [
      "\n",
      "1 Failed download:\n",
      "['WRI']: Exception('%ticker%: No timezone found, symbol may be delisted')\n"
     ]
    },
    {
     "name": "stdout",
     "output_type": "stream",
     "text": [
      "\n",
      "Get Data for :  WRK\n",
      "[*********************100%***********************]  1 of 1 completed\n",
      "Get Data for :  WRLD\n",
      "[*********************100%***********************]  1 of 1 completed\n",
      "Get Data for :  WRTC\n",
      "[*********************100%***********************]  1 of 1 completed"
     ]
    },
    {
     "name": "stderr",
     "output_type": "stream",
     "text": [
      "\n",
      "1 Failed download:\n",
      "['WRTC']: Exception('%ticker%: No timezone found, symbol may be delisted')\n"
     ]
    },
    {
     "name": "stdout",
     "output_type": "stream",
     "text": [
      "\n",
      "Get Data for :  WSBC\n",
      "[*********************100%***********************]  1 of 1 completed\n",
      "Get Data for :  WSBF\n",
      "[*********************100%***********************]  1 of 1 completed\n",
      "Get Data for :  WSC\n",
      "[*********************100%***********************]  1 of 1 completed\n",
      "Get Data for :  WSFS\n",
      "[*********************100%***********************]  1 of 1 completed\n",
      "Get Data for :  WSM\n",
      "[*********************100%***********************]  1 of 1 completed\n",
      "Get Data for :  WSO\n",
      "[*********************100%***********************]  1 of 1 completed\n",
      "Get Data for :  WSR\n",
      "[*********************100%***********************]  1 of 1 completed\n",
      "Get Data for :  WST\n",
      "[*********************100%***********************]  1 of 1 completed\n",
      "Get Data for :  WSTG\n",
      "[*********************100%***********************]  1 of 1 completed"
     ]
    },
    {
     "name": "stderr",
     "output_type": "stream",
     "text": [
      "\n",
      "1 Failed download:\n",
      "['WSTG']: Exception('%ticker%: No timezone found, symbol may be delisted')\n"
     ]
    },
    {
     "name": "stdout",
     "output_type": "stream",
     "text": [
      "\n",
      "Get Data for :  WSTL\n",
      "[*********************100%***********************]  1 of 1 completed\n",
      "Get Data for :  WTBA\n",
      "[*********************100%***********************]  1 of 1 completed\n",
      "Get Data for :  WTFC\n",
      "[*********************100%***********************]  1 of 1 completed\n",
      "Get Data for :  WTI\n",
      "[*********************100%***********************]  1 of 1 completed\n",
      "Get Data for :  WTM\n",
      "[*********************100%***********************]  1 of 1 completed\n",
      "Get Data for :  WTRH\n",
      "[*********************100%***********************]  1 of 1 completed"
     ]
    },
    {
     "name": "stderr",
     "output_type": "stream",
     "text": [
      "\n",
      "1 Failed download:\n",
      "['WTRH']: Exception('%ticker%: No timezone found, symbol may be delisted')\n"
     ]
    },
    {
     "name": "stdout",
     "output_type": "stream",
     "text": [
      "\n",
      "Get Data for :  WTS\n",
      "[*********************100%***********************]  1 of 1 completed\n",
      "Get Data for :  WTT\n",
      "[*********************100%***********************]  1 of 1 completed\n",
      "Get Data for :  WTTR\n",
      "[*********************100%***********************]  1 of 1 completed\n",
      "Get Data for :  WU\n",
      "[*********************100%***********************]  1 of 1 completed\n",
      "Get Data for :  WVE\n",
      "[*********************100%***********************]  1 of 1 completed\n",
      "Get Data for :  WVFC\n",
      "[*********************100%***********************]  1 of 1 completed\n",
      "Get Data for :  WVVI\n",
      "[*********************100%***********************]  1 of 1 completed\n",
      "Get Data for :  WWD\n",
      "[*********************100%***********************]  1 of 1 completed\n",
      "Get Data for :  WWE\n",
      "[*********************100%***********************]  1 of 1 completed\n",
      "Get Data for :  WWR\n",
      "[*********************100%***********************]  1 of 1 completed\n",
      "Get Data for :  WWW\n",
      "[*********************100%***********************]  1 of 1 completed\n",
      "Get Data for :  WY\n",
      "[*********************100%***********************]  1 of 1 completed\n",
      "Get Data for :  WYND\n",
      "[*********************100%***********************]  1 of 1 completed"
     ]
    },
    {
     "name": "stderr",
     "output_type": "stream",
     "text": [
      "\n",
      "1 Failed download:\n",
      "['WYND']: Exception('%ticker%: No timezone found, symbol may be delisted')\n"
     ]
    },
    {
     "name": "stdout",
     "output_type": "stream",
     "text": [
      "\n",
      "Get Data for :  WYNN\n",
      "[*********************100%***********************]  1 of 1 completed\n",
      "Get Data for :  WYY\n",
      "[*********************100%***********************]  1 of 1 completed\n",
      "Get Data for :  X\n",
      "[*********************100%***********************]  1 of 1 completed\n",
      "Get Data for :  XAN\n",
      "[*********************100%***********************]  1 of 1 completed"
     ]
    },
    {
     "name": "stderr",
     "output_type": "stream",
     "text": [
      "\n",
      "1 Failed download:\n",
      "['XAN']: Exception('%ticker%: No timezone found, symbol may be delisted')\n"
     ]
    },
    {
     "name": "stdout",
     "output_type": "stream",
     "text": [
      "\n",
      "Get Data for :  XBIT\n",
      "[*********************100%***********************]  1 of 1 completed\n",
      "Get Data for :  XEC\n",
      "[*********************100%***********************]  1 of 1 completed"
     ]
    },
    {
     "name": "stderr",
     "output_type": "stream",
     "text": [
      "\n",
      "1 Failed download:\n",
      "['XEC']: Exception('%ticker%: No timezone found, symbol may be delisted')\n"
     ]
    },
    {
     "name": "stdout",
     "output_type": "stream",
     "text": [
      "\n",
      "Get Data for :  XEL\n",
      "[*********************100%***********************]  1 of 1 completed\n",
      "Get Data for :  XELA\n",
      "[*********************100%***********************]  1 of 1 completed\n",
      "Get Data for :  XELB\n",
      "[*********************100%***********************]  1 of 1 completed\n",
      "Get Data for :  XENT\n",
      "[*********************100%***********************]  1 of 1 completed"
     ]
    },
    {
     "name": "stderr",
     "output_type": "stream",
     "text": [
      "\n",
      "1 Failed download:\n",
      "['XENT']: Exception('%ticker%: No timezone found, symbol may be delisted')\n"
     ]
    },
    {
     "name": "stdout",
     "output_type": "stream",
     "text": [
      "\n",
      "Get Data for :  XERS\n",
      "[*********************100%***********************]  1 of 1 completed\n",
      "Get Data for :  XHR\n",
      "[*********************100%***********************]  1 of 1 completed\n",
      "Get Data for :  XLNX\n",
      "[*********************100%***********************]  1 of 1 completed"
     ]
    },
    {
     "name": "stderr",
     "output_type": "stream",
     "text": [
      "\n",
      "1 Failed download:\n",
      "['XLNX']: Exception('%ticker%: No timezone found, symbol may be delisted')\n"
     ]
    },
    {
     "name": "stdout",
     "output_type": "stream",
     "text": [
      "\n",
      "Get Data for :  XLRN\n",
      "[*********************100%***********************]  1 of 1 completed"
     ]
    },
    {
     "name": "stderr",
     "output_type": "stream",
     "text": [
      "\n",
      "1 Failed download:\n",
      "['XLRN']: Exception('%ticker%: No timezone found, symbol may be delisted')\n"
     ]
    },
    {
     "name": "stdout",
     "output_type": "stream",
     "text": [
      "\n",
      "Get Data for :  XNCR\n",
      "[*********************100%***********************]  1 of 1 completed\n",
      "Get Data for :  XOG\n",
      "[*********************100%***********************]  1 of 1 completed"
     ]
    },
    {
     "name": "stderr",
     "output_type": "stream",
     "text": [
      "\n",
      "1 Failed download:\n",
      "['XOG']: Exception('%ticker%: No timezone found, symbol may be delisted')\n"
     ]
    },
    {
     "name": "stdout",
     "output_type": "stream",
     "text": [
      "\n",
      "Get Data for :  XOM\n",
      "[*********************100%***********************]  1 of 1 completed\n",
      "Get Data for :  XOMA\n",
      "[*********************100%***********************]  1 of 1 completed\n",
      "Get Data for :  XONE\n",
      "[*********************100%***********************]  1 of 1 completed\n",
      "Get Data for :  XPER\n",
      "[*********************100%***********************]  1 of 1 completed\n",
      "Get Data for :  XPL\n",
      "[*********************100%***********************]  1 of 1 completed\n",
      "Get Data for :  XPO\n",
      "[*********************100%***********************]  1 of 1 completed\n",
      "Get Data for :  XRAY\n",
      "[*********************100%***********************]  1 of 1 completed\n",
      "Get Data for :  XRX\n",
      "[*********************100%***********************]  1 of 1 completed\n",
      "Get Data for :  XSPA\n",
      "[*********************100%***********************]  1 of 1 completed"
     ]
    },
    {
     "name": "stderr",
     "output_type": "stream",
     "text": [
      "\n",
      "1 Failed download:\n",
      "['XSPA']: Exception('%ticker%: No timezone found, symbol may be delisted')\n"
     ]
    },
    {
     "name": "stdout",
     "output_type": "stream",
     "text": [
      "\n",
      "Get Data for :  XTNT\n",
      "[*********************100%***********************]  1 of 1 completed\n",
      "Get Data for :  XXII\n",
      "[*********************100%***********************]  1 of 1 completed\n",
      "Get Data for :  XYL\n",
      "[*********************100%***********************]  1 of 1 completed\n",
      "Get Data for :  Y\n",
      "[*********************100%***********************]  1 of 1 completed"
     ]
    },
    {
     "name": "stderr",
     "output_type": "stream",
     "text": [
      "\n",
      "1 Failed download:\n",
      "['Y']: Exception('%ticker%: No timezone found, symbol may be delisted')\n"
     ]
    },
    {
     "name": "stdout",
     "output_type": "stream",
     "text": [
      "\n",
      "Get Data for :  YELP\n",
      "[*********************100%***********************]  1 of 1 completed\n",
      "Get Data for :  YETI\n",
      "[*********************100%***********************]  1 of 1 completed\n",
      "Get Data for :  YEXT\n",
      "[*********************100%***********************]  1 of 1 completed\n",
      "Get Data for :  YMAB\n",
      "[*********************100%***********************]  1 of 1 completed\n",
      "Get Data for :  YORW\n",
      "[*********************100%***********************]  1 of 1 completed\n",
      "Get Data for :  YRCW\n",
      "[*********************100%***********************]  1 of 1 completed"
     ]
    },
    {
     "name": "stderr",
     "output_type": "stream",
     "text": [
      "\n",
      "1 Failed download:\n",
      "['YRCW']: Exception('%ticker%: No timezone found, symbol may be delisted')\n"
     ]
    },
    {
     "name": "stdout",
     "output_type": "stream",
     "text": [
      "\n",
      "Get Data for :  YTEN\n",
      "[*********************100%***********************]  1 of 1 completed\n",
      "Get Data for :  YUM\n",
      "[*********************100%***********************]  1 of 1 completed\n",
      "Get Data for :  Z\n",
      "[*********************100%***********************]  1 of 1 completed\n",
      "Get Data for :  ZAGG\n",
      "[*********************100%***********************]  1 of 1 completed"
     ]
    },
    {
     "name": "stderr",
     "output_type": "stream",
     "text": [
      "\n",
      "1 Failed download:\n",
      "['ZAGG']: Exception('%ticker%: No timezone found, symbol may be delisted')\n"
     ]
    },
    {
     "name": "stdout",
     "output_type": "stream",
     "text": [
      "\n",
      "Get Data for :  ZBH\n",
      "[*********************100%***********************]  1 of 1 completed\n",
      "Get Data for :  ZBRA\n",
      "[*********************100%***********************]  1 of 1 completed\n",
      "Get Data for :  ZDGE\n",
      "[*********************100%***********************]  1 of 1 completed\n",
      "Get Data for :  ZEN\n",
      "[*********************100%***********************]  1 of 1 completed"
     ]
    },
    {
     "name": "stderr",
     "output_type": "stream",
     "text": [
      "\n",
      "1 Failed download:\n",
      "['ZEN']: Exception('%ticker%: No timezone found, symbol may be delisted')\n"
     ]
    },
    {
     "name": "stdout",
     "output_type": "stream",
     "text": [
      "\n",
      "Get Data for :  ZEUS\n",
      "[*********************100%***********************]  1 of 1 completed\n",
      "Get Data for :  ZG\n",
      "[*********************100%***********************]  1 of 1 completed\n",
      "Get Data for :  ZGNX\n",
      "[*********************100%***********************]  1 of 1 completed"
     ]
    },
    {
     "name": "stderr",
     "output_type": "stream",
     "text": [
      "\n",
      "1 Failed download:\n",
      "['ZGNX']: Exception('%ticker%: No timezone found, symbol may be delisted')\n"
     ]
    },
    {
     "name": "stdout",
     "output_type": "stream",
     "text": [
      "\n",
      "Get Data for :  ZION\n",
      "[*********************100%***********************]  1 of 1 completed\n",
      "Get Data for :  ZIOP\n",
      "[*********************100%***********************]  1 of 1 completed"
     ]
    },
    {
     "name": "stderr",
     "output_type": "stream",
     "text": [
      "\n",
      "1 Failed download:\n",
      "['ZIOP']: Exception('%ticker%: No timezone found, symbol may be delisted')\n"
     ]
    },
    {
     "name": "stdout",
     "output_type": "stream",
     "text": [
      "\n",
      "Get Data for :  ZIXI\n",
      "[*********************100%***********************]  1 of 1 completed"
     ]
    },
    {
     "name": "stderr",
     "output_type": "stream",
     "text": [
      "\n",
      "1 Failed download:\n",
      "['ZIXI']: Exception('%ticker%: No timezone found, symbol may be delisted')\n"
     ]
    },
    {
     "name": "stdout",
     "output_type": "stream",
     "text": [
      "\n",
      "Get Data for :  ZM\n",
      "[*********************100%***********************]  1 of 1 completed\n",
      "Get Data for :  ZN\n",
      "[*********************100%***********************]  1 of 1 completed"
     ]
    },
    {
     "name": "stderr",
     "output_type": "stream",
     "text": [
      "\n",
      "1 Failed download:\n",
      "['ZN']: Exception('%ticker%: No timezone found, symbol may be delisted')\n"
     ]
    },
    {
     "name": "stdout",
     "output_type": "stream",
     "text": [
      "\n",
      "Get Data for :  ZNGA\n",
      "[*********************100%***********************]  1 of 1 completed"
     ]
    },
    {
     "name": "stderr",
     "output_type": "stream",
     "text": [
      "\n",
      "1 Failed download:\n",
      "['ZNGA']: Exception('%ticker%: No timezone found, symbol may be delisted')\n"
     ]
    },
    {
     "name": "stdout",
     "output_type": "stream",
     "text": [
      "\n",
      "Get Data for :  ZS\n",
      "[*********************100%***********************]  1 of 1 completed\n",
      "Get Data for :  ZSAN\n",
      "[*********************100%***********************]  1 of 1 completed"
     ]
    },
    {
     "name": "stderr",
     "output_type": "stream",
     "text": [
      "\n",
      "1 Failed download:\n",
      "['ZSAN']: Exception('%ticker%: No timezone found, symbol may be delisted')\n"
     ]
    },
    {
     "name": "stdout",
     "output_type": "stream",
     "text": [
      "\n",
      "Get Data for :  ZTS\n",
      "[*********************100%***********************]  1 of 1 completed\n",
      "Get Data for :  ZUMZ\n",
      "[*********************100%***********************]  1 of 1 completed\n",
      "Get Data for :  ZUO\n",
      "[*********************100%***********************]  1 of 1 completed\n",
      "Get Data for :  ZYNE\n",
      "[*********************100%***********************]  1 of 1 completed\n",
      "Get Data for :  UONEK\n",
      "[*********************100%***********************]  1 of 1 completed\n",
      "Get Data for :  URBN\n",
      "[*********************100%***********************]  1 of 1 completed\n",
      "Get Data for :  UROV\n",
      "[*********************100%***********************]  1 of 1 completed"
     ]
    },
    {
     "name": "stderr",
     "output_type": "stream",
     "text": [
      "\n",
      "1 Failed download:\n",
      "['UROV']: Exception('%ticker%: No timezone found, symbol may be delisted')\n"
     ]
    },
    {
     "name": "stdout",
     "output_type": "stream",
     "text": [
      "\n",
      "Get Data for :  UBA\n",
      "[*********************100%***********************]  1 of 1 completed\n",
      "Get Data for :  ECOL\n",
      "[*********************100%***********************]  1 of 1 completed"
     ]
    },
    {
     "name": "stderr",
     "output_type": "stream",
     "text": [
      "\n",
      "1 Failed download:\n",
      "['ECOL']: Exception('%ticker%: No timezone found, symbol may be delisted')\n"
     ]
    },
    {
     "name": "stdout",
     "output_type": "stream",
     "text": [
      "\n",
      "Get Data for :  USEG\n",
      "[*********************100%***********************]  1 of 1 completed\n",
      "Get Data for :  USFD\n",
      "[*********************100%***********************]  1 of 1 completed\n",
      "Get Data for :  USWS\n",
      "[*********************100%***********************]  1 of 1 completed"
     ]
    },
    {
     "name": "stderr",
     "output_type": "stream",
     "text": [
      "\n",
      "1 Failed download:\n",
      "['USWS']: Exception('%ticker%: No timezone found, symbol may be delisted')\n"
     ]
    },
    {
     "name": "stdout",
     "output_type": "stream",
     "text": [
      "\n",
      "Get Data for :  USX\n",
      "[*********************100%***********************]  1 of 1 completed\n",
      "Get Data for :  USAT\n",
      "[*********************100%***********************]  1 of 1 completed"
     ]
    },
    {
     "name": "stderr",
     "output_type": "stream",
     "text": [
      "\n",
      "1 Failed download:\n",
      "['USAT']: Exception('%ticker%: No timezone found, symbol may be delisted')\n"
     ]
    },
    {
     "name": "stdout",
     "output_type": "stream",
     "text": [
      "\n",
      "Get Data for :  USAK\n",
      "[*********************100%***********************]  1 of 1 completed"
     ]
    },
    {
     "name": "stderr",
     "output_type": "stream",
     "text": [
      "\n",
      "1 Failed download:\n",
      "['USAK']: Exception('%ticker%: No timezone found, symbol may be delisted')\n"
     ]
    },
    {
     "name": "stdout",
     "output_type": "stream",
     "text": [
      "\n",
      "Get Data for :  USNA\n",
      "[*********************100%***********************]  1 of 1 completed\n",
      "Get Data for :  USIO\n",
      "[*********************100%***********************]  1 of 1 completed\n",
      "Get Data for :  UTMD\n",
      "[*********************100%***********************]  1 of 1 completed\n",
      "Get Data for :  EGY\n",
      "[*********************100%***********************]  1 of 1 completed\n",
      "Get Data for :  MTN\n",
      "[*********************100%***********************]  1 of 1 completed\n",
      "Get Data for :  VAL\n",
      "[*********************100%***********************]  1 of 1 completed\n",
      "Get Data for :  VLO\n",
      "[*********************100%***********************]  1 of 1 completed\n",
      "Get Data for :  VLY\n",
      "[*********************100%***********************]  1 of 1 completed\n",
      "Get Data for :  VMI\n",
      "[*********************100%***********************]  1 of 1 completed\n",
      "Get Data for :  VALU\n",
      "[*********************100%***********************]  1 of 1 completed\n",
      "Get Data for :  VVV\n",
      "[*********************100%***********************]  1 of 1 completed\n",
      "Get Data for :  VNDA\n",
      "[*********************100%***********************]  1 of 1 completed\n",
      "Get Data for :  VAPO\n",
      "[*********************100%***********************]  1 of 1 completed\n",
      "Get Data for :  VREX\n",
      "[*********************100%***********************]  1 of 1 completed\n",
      "Get Data for :  VAR\n",
      "[*********************100%***********************]  1 of 1 completed"
     ]
    },
    {
     "name": "stderr",
     "output_type": "stream",
     "text": [
      "\n",
      "1 Failed download:\n",
      "['VAR']: Exception('%ticker%: No timezone found, symbol may be delisted')\n"
     ]
    },
    {
     "name": "stdout",
     "output_type": "stream",
     "text": [
      "\n",
      "Get Data for :  VRNS\n",
      "[*********************100%***********************]  1 of 1 completed\n",
      "Get Data for :  VXRT\n",
      "[*********************100%***********************]  1 of 1 completed\n",
      "Get Data for :  VBIV\n",
      "[*********************100%***********************]  1 of 1 completed\n",
      "Get Data for :  VGR\n",
      "[*********************100%***********************]  1 of 1 completed\n",
      "Get Data for :  VEC\n",
      "[*********************100%***********************]  1 of 1 completed"
     ]
    },
    {
     "name": "stderr",
     "output_type": "stream",
     "text": [
      "\n",
      "1 Failed download:\n",
      "['VEC']: Exception('%ticker%: No timezone found, symbol may be delisted')\n"
     ]
    },
    {
     "name": "stdout",
     "output_type": "stream",
     "text": [
      "\n",
      "Get Data for :  VECO\n",
      "[*********************100%***********************]  1 of 1 completed\n",
      "Get Data for :  VEEV\n",
      "[*********************100%***********************]  1 of 1 completed\n",
      "Get Data for :  VNTR\n",
      "[*********************100%***********************]  1 of 1 completed\n",
      "Get Data for :  VTR\n",
      "[*********************100%***********************]  1 of 1 completed\n",
      "Get Data for :  VNE\n",
      "[*********************100%***********************]  1 of 1 completed"
     ]
    },
    {
     "name": "stderr",
     "output_type": "stream",
     "text": [
      "\n",
      "1 Failed download:\n",
      "['VNE']: Exception('%ticker%: No timezone found, symbol may be delisted')\n"
     ]
    },
    {
     "name": "stdout",
     "output_type": "stream",
     "text": [
      "\n",
      "Get Data for :  VRA\n",
      "[*********************100%***********************]  1 of 1 completed\n",
      "Get Data for :  VCYT\n",
      "[*********************100%***********************]  1 of 1 completed\n",
      "Get Data for :  VSTM\n",
      "[*********************100%***********************]  1 of 1 completed\n",
      "Get Data for :  VER\n",
      "[*********************100%***********************]  1 of 1 completed"
     ]
    },
    {
     "name": "stderr",
     "output_type": "stream",
     "text": [
      "\n",
      "1 Failed download:\n",
      "['VER']: Exception('%ticker%: No timezone found, symbol may be delisted')\n"
     ]
    },
    {
     "name": "stdout",
     "output_type": "stream",
     "text": [
      "\n",
      "Get Data for :  VCEL\n",
      "[*********************100%***********************]  1 of 1 completed\n",
      "Get Data for :  VRNT\n",
      "[*********************100%***********************]  1 of 1 completed\n",
      "Get Data for :  VRSN\n",
      "[*********************100%***********************]  1 of 1 completed\n",
      "Get Data for :  VRSK\n",
      "[*********************100%***********************]  1 of 1 completed\n",
      "Get Data for :  VBTX\n",
      "[*********************100%***********************]  1 of 1 completed\n",
      "Get Data for :  VRTV\n",
      "[*********************100%***********************]  1 of 1 completed\n",
      "Get Data for :  VERI\n",
      "[*********************100%***********************]  1 of 1 completed\n",
      "Get Data for :  VZ\n",
      "[*********************100%***********************]  1 of 1 completed\n",
      "Get Data for :  VRML\n",
      "[*********************100%***********************]  1 of 1 completed"
     ]
    },
    {
     "name": "stderr",
     "output_type": "stream",
     "text": [
      "\n",
      "1 Failed download:\n",
      "['VRML']: Exception('%ticker%: No timezone found, symbol may be delisted')\n"
     ]
    },
    {
     "name": "stdout",
     "output_type": "stream",
     "text": [
      "\n",
      "Get Data for :  VRRM\n",
      "[*********************100%***********************]  1 of 1 completed\n",
      "Get Data for :  VRS\n",
      "[*********************100%***********************]  1 of 1 completed"
     ]
    },
    {
     "name": "stderr",
     "output_type": "stream",
     "text": [
      "\n",
      "1 Failed download:\n",
      "['VRS']: Exception('%ticker%: No timezone found, symbol may be delisted')\n"
     ]
    },
    {
     "name": "stdout",
     "output_type": "stream",
     "text": [
      "\n",
      "Get Data for :  VTNR\n",
      "[*********************100%***********************]  1 of 1 completed\n",
      "Get Data for :  VRTX\n",
      "[*********************100%***********************]  1 of 1 completed\n",
      "Get Data for :  VERU\n",
      "[*********************100%***********************]  1 of 1 completed\n",
      "Get Data for :  VFC\n",
      "[*********************100%***********************]  1 of 1 completed\n",
      "Get Data for :  CBS\n",
      "[*********************100%***********************]  1 of 1 completed"
     ]
    },
    {
     "name": "stderr",
     "output_type": "stream",
     "text": [
      "\n",
      "1 Failed download:\n",
      "['CBS']: Exception('%ticker%: No timezone found, symbol may be delisted')\n"
     ]
    },
    {
     "name": "stdout",
     "output_type": "stream",
     "text": [
      "\n",
      "Get Data for :  VVI\n",
      "[*********************100%***********************]  1 of 1 completed\n",
      "Get Data for :  VSAT\n",
      "[*********************100%***********************]  1 of 1 completed\n",
      "Get Data for :  VIAV\n",
      "[*********************100%***********************]  1 of 1 completed\n",
      "Get Data for :  VICL\n",
      "[*********************100%***********************]  1 of 1 completed"
     ]
    },
    {
     "name": "stderr",
     "output_type": "stream",
     "text": [
      "\n",
      "1 Failed download:\n",
      "['VICL']: Exception('%ticker%: No timezone found, symbol may be delisted')\n"
     ]
    },
    {
     "name": "stdout",
     "output_type": "stream",
     "text": [
      "\n",
      "Get Data for :  VICI\n",
      "[*********************100%***********************]  1 of 1 completed\n",
      "Get Data for :  VICR\n",
      "[*********************100%***********************]  1 of 1 completed\n",
      "Get Data for :  VCTR\n",
      "[*********************100%***********************]  1 of 1 completed\n",
      "Get Data for :  VRAY\n",
      "[*********************100%***********************]  1 of 1 completed\n",
      "Get Data for :  VKTX\n",
      "[*********************100%***********************]  1 of 1 completed\n",
      "Get Data for :  VBFC\n",
      "[*********************100%***********************]  1 of 1 completed\n",
      "Get Data for :  VLGEA\n",
      "[*********************100%***********************]  1 of 1 completed\n",
      "Get Data for :  VNCE\n",
      "[*********************100%***********************]  1 of 1 completed\n",
      "Get Data for :  VIRC\n",
      "[*********************100%***********************]  1 of 1 completed\n",
      "Get Data for :  VHC\n",
      "[*********************100%***********************]  1 of 1 completed\n",
      "Get Data for :  VIRT\n",
      "[*********************100%***********************]  1 of 1 completed\n",
      "Get Data for :  VRTS\n",
      "[*********************100%***********************]  1 of 1 completed\n",
      "Get Data for :  VRTU\n",
      "[*********************100%***********************]  1 of 1 completed"
     ]
    },
    {
     "name": "stderr",
     "output_type": "stream",
     "text": [
      "\n",
      "1 Failed download:\n",
      "['VRTU']: Exception('%ticker%: No timezone found, symbol may be delisted')\n"
     ]
    },
    {
     "name": "stdout",
     "output_type": "stream",
     "text": [
      "\n",
      "Get Data for :  V\n",
      "[*********************100%***********************]  1 of 1 completed\n",
      "Get Data for :  VSH\n",
      "[*********************100%***********************]  1 of 1 completed\n",
      "Get Data for :  VPG\n",
      "[*********************100%***********************]  1 of 1 completed\n",
      "Get Data for :  VISL\n",
      "[*********************100%***********************]  1 of 1 completed\n",
      "Get Data for :  VSTO\n",
      "[*********************100%***********************]  1 of 1 completed\n",
      "Get Data for :  VC\n",
      "[*********************100%***********************]  1 of 1 completed\n",
      "Get Data for :  VST\n",
      "[*********************100%***********************]  1 of 1 completed\n",
      "Get Data for :  VSI\n",
      "[*********************100%***********************]  1 of 1 completed"
     ]
    },
    {
     "name": "stderr",
     "output_type": "stream",
     "text": [
      "\n",
      "1 Failed download:\n",
      "['VSI']: Exception('%ticker%: No timezone found, symbol may be delisted')\n"
     ]
    },
    {
     "name": "stdout",
     "output_type": "stream",
     "text": [
      "\n",
      "Get Data for :  VSLR\n",
      "[*********************100%***********************]  1 of 1 completed"
     ]
    },
    {
     "name": "stderr",
     "output_type": "stream",
     "text": [
      "\n",
      "1 Failed download:\n",
      "['VSLR']: Exception('%ticker%: No timezone found, symbol may be delisted')\n"
     ]
    },
    {
     "name": "stdout",
     "output_type": "stream",
     "text": [
      "\n",
      "Get Data for :  VVUS\n",
      "[*********************100%***********************]  1 of 1 completed"
     ]
    },
    {
     "name": "stderr",
     "output_type": "stream",
     "text": [
      "\n",
      "1 Failed download:\n",
      "['VVUS']: Exception('%ticker%: No timezone found, symbol may be delisted')\n"
     ]
    },
    {
     "name": "stdout",
     "output_type": "stream",
     "text": [
      "\n",
      "Get Data for :  VMW\n",
      "[*********************100%***********************]  1 of 1 completed\n",
      "Get Data for :  VCRA\n",
      "[*********************100%***********************]  1 of 1 completed"
     ]
    },
    {
     "name": "stderr",
     "output_type": "stream",
     "text": [
      "\n",
      "1 Failed download:\n",
      "['VCRA']: Exception('%ticker%: No timezone found, symbol may be delisted')\n"
     ]
    },
    {
     "name": "stdout",
     "output_type": "stream",
     "text": [
      "\n",
      "Get Data for :  VNRX\n",
      "[*********************100%***********************]  1 of 1 completed\n",
      "Get Data for :  VISI\n",
      "[*********************100%***********************]  1 of 1 completed"
     ]
    },
    {
     "name": "stderr",
     "output_type": "stream",
     "text": [
      "\n",
      "1 Failed download:\n",
      "['VISI']: Exception('%ticker%: No timezone found, symbol may be delisted')\n"
     ]
    },
    {
     "name": "stdout",
     "output_type": "stream",
     "text": [
      "\n",
      "Get Data for :  VG\n",
      "[*********************100%***********************]  1 of 1 completed"
     ]
    },
    {
     "name": "stderr",
     "output_type": "stream",
     "text": [
      "\n",
      "1 Failed download:\n",
      "['VG']: Exception('%ticker%: No timezone found, symbol may be delisted')\n"
     ]
    },
    {
     "name": "stdout",
     "output_type": "stream",
     "text": [
      "\n",
      "Get Data for :  VNO\n",
      "[*********************100%***********************]  1 of 1 completed\n",
      "Get Data for :  VOXX\n",
      "[*********************100%***********************]  1 of 1 completed\n",
      "Get Data for :  VOYA\n",
      "[*********************100%***********************]  1 of 1 completed\n",
      "Get Data for :  VYGR\n",
      "[*********************100%***********************]  1 of 1 completed\n",
      "Get Data for :  VSEC\n",
      "[*********************100%***********************]  1 of 1 completed\n",
      "Get Data for :  VTVT\n",
      "[*********************100%***********************]  1 of 1 completed\n",
      "Get Data for :  VMC\n",
      "[*********************100%***********************]  1 of 1 completed\n",
      "Get Data for :  VUZI\n",
      "[*********************100%***********************]  1 of 1 completed\n",
      "Get Data for :  WTI\n",
      "[*********************100%***********************]  1 of 1 completed\n",
      "Get Data for :  WPC\n",
      "[*********************100%***********************]  1 of 1 completed\n",
      "Get Data for :  WRB\n",
      "[*********************100%***********************]  1 of 1 completed\n",
      "Get Data for :  GRA\n",
      "[*********************100%***********************]  1 of 1 completed"
     ]
    },
    {
     "name": "stderr",
     "output_type": "stream",
     "text": [
      "\n",
      "1 Failed download:\n",
      "['GRA']: Exception('%ticker%: No timezone found, symbol may be delisted')\n"
     ]
    },
    {
     "name": "stdout",
     "output_type": "stream",
     "text": [
      "\n",
      "Get Data for :  GWW\n",
      "[*********************100%***********************]  1 of 1 completed\n",
      "Get Data for :  WNC\n",
      "[*********************100%***********************]  1 of 1 completed\n",
      "Get Data for :  WBC\n",
      "[*********************100%***********************]  1 of 1 completed"
     ]
    },
    {
     "name": "stderr",
     "output_type": "stream",
     "text": [
      "\n",
      "1 Failed download:\n",
      "['WBC']: Exception('%ticker%: No timezone found, symbol may be delisted')\n"
     ]
    },
    {
     "name": "stdout",
     "output_type": "stream",
     "text": [
      "\n",
      "Get Data for :  WDR\n",
      "[*********************100%***********************]  1 of 1 completed"
     ]
    },
    {
     "name": "stderr",
     "output_type": "stream",
     "text": [
      "\n",
      "1 Failed download:\n",
      "['WDR']: Exception('%ticker%: No timezone found, symbol may be delisted')\n"
     ]
    },
    {
     "name": "stdout",
     "output_type": "stream",
     "text": [
      "\n",
      "Get Data for :  WTRH\n",
      "[*********************100%***********************]  1 of 1 completed"
     ]
    },
    {
     "name": "stderr",
     "output_type": "stream",
     "text": [
      "\n",
      "1 Failed download:\n",
      "['WTRH']: Exception('%ticker%: No timezone found, symbol may be delisted')\n"
     ]
    },
    {
     "name": "stdout",
     "output_type": "stream",
     "text": [
      "\n",
      "Get Data for :  WBA\n",
      "[*********************100%***********************]  1 of 1 completed\n",
      "Get Data for :  WD\n",
      "[*********************100%***********************]  1 of 1 completed\n",
      "Get Data for :  WMT\n",
      "[*********************100%***********************]  1 of 1 completed\n",
      "Get Data for :  HCC\n",
      "[*********************100%***********************]  1 of 1 completed\n",
      "Get Data for :  WAFD\n",
      "[*********************100%***********************]  1 of 1 completed\n",
      "Get Data for :  WPG\n",
      "[*********************100%***********************]  1 of 1 completed"
     ]
    },
    {
     "name": "stderr",
     "output_type": "stream",
     "text": [
      "\n",
      "1 Failed download:\n",
      "['WPG']: Exception('%ticker%: No timezone found, symbol may be delisted')\n"
     ]
    },
    {
     "name": "stdout",
     "output_type": "stream",
     "text": [
      "\n",
      "Get Data for :  WRE\n",
      "[*********************100%***********************]  1 of 1 completed"
     ]
    },
    {
     "name": "stderr",
     "output_type": "stream",
     "text": [
      "\n",
      "1 Failed download:\n",
      "['WRE']: Exception('%ticker%: No timezone found, symbol may be delisted')\n"
     ]
    },
    {
     "name": "stdout",
     "output_type": "stream",
     "text": [
      "\n",
      "Get Data for :  WASH\n",
      "[*********************100%***********************]  1 of 1 completed\n",
      "Get Data for :  WM\n",
      "[*********************100%***********************]  1 of 1 completed\n",
      "Get Data for :  WAT\n",
      "[*********************100%***********************]  1 of 1 completed\n",
      "Get Data for :  WSBF\n",
      "[*********************100%***********************]  1 of 1 completed\n",
      "Get Data for :  WSO\n",
      "[*********************100%***********************]  1 of 1 completed\n",
      "Get Data for :  WTS\n",
      "[*********************100%***********************]  1 of 1 completed\n",
      "Get Data for :  WVE\n",
      "[*********************100%***********************]  1 of 1 completed\n",
      "Get Data for :  W\n",
      "[*********************100%***********************]  1 of 1 completed\n",
      "Get Data for :  WSTG\n",
      "[*********************100%***********************]  1 of 1 completed"
     ]
    },
    {
     "name": "stderr",
     "output_type": "stream",
     "text": [
      "\n",
      "1 Failed download:\n",
      "['WSTG']: Exception('%ticker%: No timezone found, symbol may be delisted')\n"
     ]
    },
    {
     "name": "stdout",
     "output_type": "stream",
     "text": [
      "\n",
      "Get Data for :  WDFC\n",
      "[*********************100%***********************]  1 of 1 completed\n",
      "Get Data for :  WBS\n",
      "[*********************100%***********************]  1 of 1 completed\n",
      "Get Data for :  WEC\n",
      "[*********************100%***********************]  1 of 1 completed\n",
      "Get Data for :  WRI\n",
      "[*********************100%***********************]  1 of 1 completed"
     ]
    },
    {
     "name": "stderr",
     "output_type": "stream",
     "text": [
      "\n",
      "1 Failed download:\n",
      "['WRI']: Exception('%ticker%: No timezone found, symbol may be delisted')\n"
     ]
    },
    {
     "name": "stdout",
     "output_type": "stream",
     "text": [
      "\n",
      "Get Data for :  WMK\n",
      "[*********************100%***********************]  1 of 1 completed\n",
      "Get Data for :  WBT\n",
      "[*********************100%***********************]  1 of 1 completed"
     ]
    },
    {
     "name": "stderr",
     "output_type": "stream",
     "text": [
      "\n",
      "1 Failed download:\n",
      "['WBT']: Exception('%ticker%: No timezone found, symbol may be delisted')\n"
     ]
    },
    {
     "name": "stdout",
     "output_type": "stream",
     "text": [
      "\n",
      "Get Data for :  WCG\n",
      "[*********************100%***********************]  1 of 1 completed"
     ]
    },
    {
     "name": "stderr",
     "output_type": "stream",
     "text": [
      "\n",
      "1 Failed download:\n",
      "['WCG']: Exception('%ticker%: No timezone found, symbol may be delisted')\n"
     ]
    },
    {
     "name": "stdout",
     "output_type": "stream",
     "text": [
      "\n",
      "Get Data for :  WEBK\n",
      "[*********************100%***********************]  1 of 1 completed"
     ]
    },
    {
     "name": "stderr",
     "output_type": "stream",
     "text": [
      "\n",
      "1 Failed download:\n",
      "['WEBK']: Exception('%ticker%: No timezone found, symbol may be delisted')\n"
     ]
    },
    {
     "name": "stdout",
     "output_type": "stream",
     "text": [
      "\n",
      "Get Data for :  WFC\n",
      "[*********************100%***********************]  1 of 1 completed\n",
      "Get Data for :  WELL\n",
      "[*********************100%***********************]  1 of 1 completed\n",
      "Get Data for :  WERN\n",
      "[*********************100%***********************]  1 of 1 completed\n",
      "Get Data for :  WSBC\n",
      "[*********************100%***********************]  1 of 1 completed\n",
      "Get Data for :  WAIR\n",
      "[*********************100%***********************]  1 of 1 completed"
     ]
    },
    {
     "name": "stderr",
     "output_type": "stream",
     "text": [
      "\n",
      "1 Failed download:\n",
      "['WAIR']: Exception('%ticker%: No timezone found, symbol may be delisted')\n"
     ]
    },
    {
     "name": "stdout",
     "output_type": "stream",
     "text": [
      "\n",
      "Get Data for :  WCC\n",
      "[*********************100%***********************]  1 of 1 completed\n",
      "Get Data for :  WTBA\n",
      "[*********************100%***********************]  1 of 1 completed\n",
      "Get Data for :  WST\n",
      "[*********************100%***********************]  1 of 1 completed\n",
      "Get Data for :  WABC\n",
      "[*********************100%***********************]  1 of 1 completed\n",
      "Get Data for :  WSTL\n",
      "[*********************100%***********************]  1 of 1 completed\n",
      "Get Data for :  WAL\n",
      "[*********************100%***********************]  1 of 1 completed\n",
      "Get Data for :  WMC\n",
      "[*********************100%***********************]  1 of 1 completed\n",
      "Get Data for :  WDC\n",
      "[*********************100%***********************]  1 of 1 completed\n",
      "Get Data for :  WNEB\n",
      "[*********************100%***********************]  1 of 1 completed\n",
      "Get Data for :  WAB\n",
      "[*********************100%***********************]  1 of 1 completed\n",
      "Get Data for :  WLK\n",
      "[*********************100%***********************]  1 of 1 completed\n",
      "Get Data for :  WRK\n",
      "[*********************100%***********************]  1 of 1 completed\n",
      "Get Data for :  WWR\n",
      "[*********************100%***********************]  1 of 1 completed\n",
      "Get Data for :  WHG\n",
      "[*********************100%***********************]  1 of 1 completed\n",
      "Get Data for :  WEX\n",
      "[*********************100%***********************]  1 of 1 completed\n",
      "Get Data for :  WEYS\n",
      "[*********************100%***********************]  1 of 1 completed\n",
      "Get Data for :  WY\n",
      "[*********************100%***********************]  1 of 1 completed\n",
      "Get Data for :  WHLR\n",
      "[*********************100%***********************]  1 of 1 completed\n",
      "Get Data for :  WHR\n",
      "[*********************100%***********************]  1 of 1 completed\n",
      "Get Data for :  WTM\n",
      "[*********************100%***********************]  1 of 1 completed\n",
      "Get Data for :  WSR\n",
      "[*********************100%***********************]  1 of 1 completed\n",
      "Get Data for :  WLL\n",
      "[*********************100%***********************]  1 of 1 completed"
     ]
    },
    {
     "name": "stderr",
     "output_type": "stream",
     "text": [
      "\n",
      "1 Failed download:\n",
      "['WLL']: Exception('%ticker%: No timezone found, symbol may be delisted')\n"
     ]
    },
    {
     "name": "stdout",
     "output_type": "stream",
     "text": [
      "\n",
      "Get Data for :  WOW\n",
      "[*********************100%***********************]  1 of 1 completed\n",
      "Get Data for :  WYY\n",
      "[*********************100%***********************]  1 of 1 completed\n",
      "Get Data for :  WHLM\n",
      "[*********************100%***********************]  1 of 1 completed\n",
      "Get Data for :  WVVI\n",
      "[*********************100%***********************]  1 of 1 completed\n",
      "Get Data for :  WLDN\n",
      "[*********************100%***********************]  1 of 1 completed\n",
      "Get Data for :  WLH\n",
      "[*********************100%***********************]  1 of 1 completed"
     ]
    },
    {
     "name": "stderr",
     "output_type": "stream",
     "text": [
      "\n",
      "1 Failed download:\n",
      "['WLH']: Exception('%ticker%: No timezone found, symbol may be delisted')\n"
     ]
    },
    {
     "name": "stdout",
     "output_type": "stream",
     "text": [
      "\n",
      "Get Data for :  WSM\n",
      "[*********************100%***********************]  1 of 1 completed\n",
      "Get Data for :  WLFC\n",
      "[*********************100%***********************]  1 of 1 completed\n",
      "Get Data for :  WLTW\n",
      "[*********************100%***********************]  1 of 1 completed"
     ]
    },
    {
     "name": "stderr",
     "output_type": "stream",
     "text": [
      "\n",
      "1 Failed download:\n",
      "['WLTW']: Exception('%ticker%: No timezone found, symbol may be delisted')\n"
     ]
    },
    {
     "name": "stdout",
     "output_type": "stream",
     "text": [
      "\n",
      "Get Data for :  WSC\n",
      "[*********************100%***********************]  1 of 1 completed\n",
      "Get Data for :  WING\n",
      "[*********************100%***********************]  1 of 1 completed\n",
      "Get Data for :  WINA\n",
      "[*********************100%***********************]  1 of 1 completed\n",
      "Get Data for :  WGO\n",
      "[*********************100%***********************]  1 of 1 completed\n",
      "Get Data for :  WTFC\n",
      "[*********************100%***********************]  1 of 1 completed\n",
      "Get Data for :  WTT\n",
      "[*********************100%***********************]  1 of 1 completed\n",
      "Get Data for :  WETF\n",
      "[*********************100%***********************]  1 of 1 completed"
     ]
    },
    {
     "name": "stderr",
     "output_type": "stream",
     "text": [
      "\n",
      "1 Failed download:\n",
      "['WETF']: Exception('%ticker%: No timezone found, symbol may be delisted')\n"
     ]
    },
    {
     "name": "stdout",
     "output_type": "stream",
     "text": [
      "\n",
      "Get Data for :  WWW\n",
      "[*********************100%***********************]  1 of 1 completed\n",
      "Get Data for :  WWD\n",
      "[*********************100%***********************]  1 of 1 completed\n",
      "Get Data for :  WDAY\n",
      "[*********************100%***********************]  1 of 1 completed\n",
      "Get Data for :  WKHS\n",
      "[*********************100%***********************]  1 of 1 completed\n",
      "Get Data for :  WK\n",
      "[*********************100%***********************]  1 of 1 completed\n",
      "Get Data for :  WRLD\n",
      "[*********************100%***********************]  1 of 1 completed\n",
      "Get Data for :  INT\n",
      "[*********************100%***********************]  1 of 1 completed\n",
      "Get Data for :  WWE\n",
      "[*********************100%***********************]  1 of 1 completed\n",
      "Get Data for :  WOR\n",
      "[*********************100%***********************]  1 of 1 completed\n",
      "Get Data for :  WPX\n",
      "[*********************100%***********************]  1 of 1 completed"
     ]
    },
    {
     "name": "stderr",
     "output_type": "stream",
     "text": [
      "\n",
      "1 Failed download:\n",
      "['WPX']: Exception('%ticker%: No timezone found, symbol may be delisted')\n"
     ]
    },
    {
     "name": "stdout",
     "output_type": "stream",
     "text": [
      "\n",
      "Get Data for :  WRTC\n",
      "[*********************100%***********************]  1 of 1 completed"
     ]
    },
    {
     "name": "stderr",
     "output_type": "stream",
     "text": [
      "\n",
      "1 Failed download:\n",
      "['WRTC']: Exception('%ticker%: No timezone found, symbol may be delisted')\n"
     ]
    },
    {
     "name": "stdout",
     "output_type": "stream",
     "text": [
      "\n",
      "Get Data for :  WMGI\n",
      "[*********************100%***********************]  1 of 1 completed"
     ]
    },
    {
     "name": "stderr",
     "output_type": "stream",
     "text": [
      "\n",
      "1 Failed download:\n",
      "['WMGI']: Exception('%ticker%: No timezone found, symbol may be delisted')\n"
     ]
    },
    {
     "name": "stdout",
     "output_type": "stream",
     "text": [
      "\n",
      "Get Data for :  WSFS\n",
      "[*********************100%***********************]  1 of 1 completed\n",
      "Get Data for :  WVFC\n",
      "[*********************100%***********************]  1 of 1 completed\n",
      "Get Data for :  WW\n",
      "[*********************100%***********************]  1 of 1 completed\n",
      "Get Data for :  WYND\n",
      "[*********************100%***********************]  1 of 1 completed"
     ]
    },
    {
     "name": "stderr",
     "output_type": "stream",
     "text": [
      "\n",
      "1 Failed download:\n",
      "['WYND']: Exception('%ticker%: No timezone found, symbol may be delisted')\n"
     ]
    },
    {
     "name": "stdout",
     "output_type": "stream",
     "text": [
      "\n",
      "Get Data for :  WH\n",
      "[*********************100%***********************]  1 of 1 completed\n",
      "Get Data for :  WYNN\n",
      "[*********************100%***********************]  1 of 1 completed\n",
      "Get Data for :  XFOR\n",
      "[*********************100%***********************]  1 of 1 completed\n",
      "Get Data for :  XBIT\n",
      "[*********************100%***********************]  1 of 1 completed\n",
      "Get Data for :  XELB\n",
      "[*********************100%***********************]  1 of 1 completed\n",
      "Get Data for :  XEL\n",
      "[*********************100%***********************]  1 of 1 completed\n",
      "Get Data for :  XNCR\n",
      "[*********************100%***********************]  1 of 1 completed\n",
      "Get Data for :  XHR\n",
      "[*********************100%***********************]  1 of 1 completed\n",
      "Get Data for :  XERS\n",
      "[*********************100%***********************]  1 of 1 completed\n",
      "Get Data for :  XRX\n",
      "[*********************100%***********************]  1 of 1 completed\n",
      "Get Data for :  XLNX\n",
      "[*********************100%***********************]  1 of 1 completed"
     ]
    },
    {
     "name": "stderr",
     "output_type": "stream",
     "text": [
      "\n",
      "1 Failed download:\n",
      "['XLNX']: Exception('%ticker%: No timezone found, symbol may be delisted')\n"
     ]
    },
    {
     "name": "stdout",
     "output_type": "stream",
     "text": [
      "\n",
      "Get Data for :  XOMA\n",
      "[*********************100%***********************]  1 of 1 completed\n",
      "Get Data for :  XPER\n",
      "[*********************100%***********************]  1 of 1 completed\n",
      "Get Data for :  XPO\n",
      "[*********************100%***********************]  1 of 1 completed\n",
      "Get Data for :  XSPA\n",
      "[*********************100%***********************]  1 of 1 completed"
     ]
    },
    {
     "name": "stderr",
     "output_type": "stream",
     "text": [
      "\n",
      "1 Failed download:\n",
      "['XSPA']: Exception('%ticker%: No timezone found, symbol may be delisted')\n"
     ]
    },
    {
     "name": "stdout",
     "output_type": "stream",
     "text": [
      "\n",
      "Get Data for :  XTNT\n",
      "[*********************100%***********************]  1 of 1 completed\n",
      "Get Data for :  XYL\n",
      "[*********************100%***********************]  1 of 1 completed\n",
      "Get Data for :  YELP\n",
      "[*********************100%***********************]  1 of 1 completed\n",
      "Get Data for :  YETI\n",
      "[*********************100%***********************]  1 of 1 completed\n",
      "Get Data for :  YEXT\n",
      "[*********************100%***********************]  1 of 1 completed\n",
      "Get Data for :  YTEN\n",
      "[*********************100%***********************]  1 of 1 completed\n",
      "Get Data for :  YMAB\n",
      "[*********************100%***********************]  1 of 1 completed\n",
      "Get Data for :  YORW\n",
      "[*********************100%***********************]  1 of 1 completed\n",
      "Get Data for :  YRCW\n",
      "[*********************100%***********************]  1 of 1 completed"
     ]
    },
    {
     "name": "stderr",
     "output_type": "stream",
     "text": [
      "\n",
      "1 Failed download:\n",
      "['YRCW']: Exception('%ticker%: No timezone found, symbol may be delisted')\n"
     ]
    },
    {
     "name": "stdout",
     "output_type": "stream",
     "text": [
      "\n",
      "Get Data for :  YUM\n",
      "[*********************100%***********************]  1 of 1 completed\n",
      "Get Data for :  YUMA\n",
      "[*********************100%***********************]  1 of 1 completed"
     ]
    },
    {
     "name": "stderr",
     "output_type": "stream",
     "text": [
      "\n",
      "1 Failed download:\n",
      "['YUMA']: Exception('%ticker%: No timezone found, symbol may be delisted')\n"
     ]
    },
    {
     "name": "stdout",
     "output_type": "stream",
     "text": [
      "\n",
      "Get Data for :  CTIB\n",
      "[*********************100%***********************]  1 of 1 completed\n",
      "Get Data for :  ZFGN\n",
      "[*********************100%***********************]  1 of 1 completed"
     ]
    },
    {
     "name": "stderr",
     "output_type": "stream",
     "text": [
      "\n",
      "1 Failed download:\n",
      "['ZFGN']: Exception('%ticker%: No timezone found, symbol may be delisted')\n"
     ]
    },
    {
     "name": "stdout",
     "output_type": "stream",
     "text": [
      "\n",
      "Get Data for :  ZAGG\n",
      "[*********************100%***********************]  1 of 1 completed"
     ]
    },
    {
     "name": "stderr",
     "output_type": "stream",
     "text": [
      "\n",
      "1 Failed download:\n",
      "['ZAGG']: Exception('%ticker%: No timezone found, symbol may be delisted')\n"
     ]
    },
    {
     "name": "stdout",
     "output_type": "stream",
     "text": [
      "\n",
      "Get Data for :  ZAYO\n",
      "[*********************100%***********************]  1 of 1 completed"
     ]
    },
    {
     "name": "stderr",
     "output_type": "stream",
     "text": [
      "\n",
      "1 Failed download:\n",
      "['ZAYO']: Exception('%ticker%: No timezone found, symbol may be delisted')\n"
     ]
    },
    {
     "name": "stdout",
     "output_type": "stream",
     "text": [
      "\n",
      "Get Data for :  ZBRA\n",
      "[*********************100%***********************]  1 of 1 completed\n",
      "Get Data for :  ZDGE\n",
      "[*********************100%***********************]  1 of 1 completed\n",
      "Get Data for :  ZEN\n",
      "[*********************100%***********************]  1 of 1 completed"
     ]
    },
    {
     "name": "stderr",
     "output_type": "stream",
     "text": [
      "\n",
      "1 Failed download:\n",
      "['ZEN']: Exception('%ticker%: No timezone found, symbol may be delisted')\n"
     ]
    },
    {
     "name": "stdout",
     "output_type": "stream",
     "text": [
      "\n",
      "Get Data for :  Z\n",
      "[*********************100%***********************]  1 of 1 completed\n",
      "Get Data for :  ZG\n",
      "[*********************100%***********************]  1 of 1 completed\n",
      "Get Data for :  ZBH\n",
      "[*********************100%***********************]  1 of 1 completed\n",
      "Get Data for :  ZN\n",
      "[*********************100%***********************]  1 of 1 completed"
     ]
    },
    {
     "name": "stderr",
     "output_type": "stream",
     "text": [
      "\n",
      "1 Failed download:\n",
      "['ZN']: Exception('%ticker%: No timezone found, symbol may be delisted')\n"
     ]
    },
    {
     "name": "stdout",
     "output_type": "stream",
     "text": [
      "\n",
      "Get Data for :  ZION\n",
      "[*********************100%***********************]  1 of 1 completed\n",
      "Get Data for :  ZIOP\n",
      "[*********************100%***********************]  1 of 1 completed"
     ]
    },
    {
     "name": "stderr",
     "output_type": "stream",
     "text": [
      "\n",
      "1 Failed download:\n",
      "['ZIOP']: Exception('%ticker%: No timezone found, symbol may be delisted')\n"
     ]
    },
    {
     "name": "stdout",
     "output_type": "stream",
     "text": [
      "\n",
      "Get Data for :  ZIXI\n",
      "[*********************100%***********************]  1 of 1 completed"
     ]
    },
    {
     "name": "stderr",
     "output_type": "stream",
     "text": [
      "\n",
      "1 Failed download:\n",
      "['ZIXI']: Exception('%ticker%: No timezone found, symbol may be delisted')\n"
     ]
    },
    {
     "name": "stdout",
     "output_type": "stream",
     "text": [
      "\n",
      "Get Data for :  ZTS\n",
      "[*********************100%***********************]  1 of 1 completed\n",
      "Get Data for :  ZGNX\n",
      "[*********************100%***********************]  1 of 1 completed"
     ]
    },
    {
     "name": "stderr",
     "output_type": "stream",
     "text": [
      "\n",
      "1 Failed download:\n",
      "['ZGNX']: Exception('%ticker%: No timezone found, symbol may be delisted')\n"
     ]
    },
    {
     "name": "stdout",
     "output_type": "stream",
     "text": [
      "\n",
      "Get Data for :  ZM\n",
      "[*********************100%***********************]  1 of 1 completed\n",
      "Get Data for :  ZSAN\n",
      "[*********************100%***********************]  1 of 1 completed"
     ]
    },
    {
     "name": "stderr",
     "output_type": "stream",
     "text": [
      "\n",
      "1 Failed download:\n",
      "['ZSAN']: Exception('%ticker%: No timezone found, symbol may be delisted')\n"
     ]
    },
    {
     "name": "stdout",
     "output_type": "stream",
     "text": [
      "\n",
      "Get Data for :  ZVO\n",
      "[*********************100%***********************]  1 of 1 completed"
     ]
    },
    {
     "name": "stderr",
     "output_type": "stream",
     "text": [
      "\n",
      "1 Failed download:\n",
      "['ZVO']: Exception('%ticker%: No timezone found, symbol may be delisted')\n"
     ]
    },
    {
     "name": "stdout",
     "output_type": "stream",
     "text": [
      "\n",
      "Get Data for :  ZS\n",
      "[*********************100%***********************]  1 of 1 completed\n",
      "Get Data for :  ZUMZ\n",
      "[*********************100%***********************]  1 of 1 completed\n",
      "Get Data for :  ZUO\n",
      "[*********************100%***********************]  1 of 1 completed\n",
      "Get Data for :  ZYNE\n",
      "[*********************100%***********************]  1 of 1 completed\n",
      "Get Data for :  ZYXI\n",
      "[*********************100%***********************]  1 of 1 completed\n",
      "Get Data for :  ZNGA\n",
      "[*********************100%***********************]  1 of 1 completed"
     ]
    },
    {
     "name": "stderr",
     "output_type": "stream",
     "text": [
      "\n",
      "1 Failed download:\n",
      "['ZNGA']: Exception('%ticker%: No timezone found, symbol may be delisted')\n"
     ]
    },
    {
     "name": "stdout",
     "output_type": "stream",
     "text": [
      "\n"
     ]
    },
    {
     "ename": "KeyError",
     "evalue": "3481",
     "output_type": "error",
     "traceback": [
      "\u001b[0;31m---------------------------------------------------------------------------\u001b[0m",
      "\u001b[0;31mValueError\u001b[0m                                Traceback (most recent call last)",
      "\u001b[0;32m~/.local/lib/python3.10/site-packages/pandas/core/indexes/range.py\u001b[0m in \u001b[0;36mget_loc\u001b[0;34m(self, key)\u001b[0m\n\u001b[1;32m    344\u001b[0m             \u001b[0;32mtry\u001b[0m\u001b[0;34m:\u001b[0m\u001b[0;34m\u001b[0m\u001b[0;34m\u001b[0m\u001b[0m\n\u001b[0;32m--> 345\u001b[0;31m                 \u001b[0;32mreturn\u001b[0m \u001b[0mself\u001b[0m\u001b[0;34m.\u001b[0m\u001b[0m_range\u001b[0m\u001b[0;34m.\u001b[0m\u001b[0mindex\u001b[0m\u001b[0;34m(\u001b[0m\u001b[0mnew_key\u001b[0m\u001b[0;34m)\u001b[0m\u001b[0;34m\u001b[0m\u001b[0;34m\u001b[0m\u001b[0m\n\u001b[0m\u001b[1;32m    346\u001b[0m             \u001b[0;32mexcept\u001b[0m \u001b[0mValueError\u001b[0m \u001b[0;32mas\u001b[0m \u001b[0merr\u001b[0m\u001b[0;34m:\u001b[0m\u001b[0;34m\u001b[0m\u001b[0;34m\u001b[0m\u001b[0m\n",
      "\u001b[0;31mValueError\u001b[0m: 3481 is not in range",
      "\nThe above exception was the direct cause of the following exception:\n",
      "\u001b[0;31mKeyError\u001b[0m                                  Traceback (most recent call last)",
      "\u001b[0;32m/tmp/ipykernel_342755/1972092571.py\u001b[0m in \u001b[0;36m<module>\u001b[0;34m\u001b[0m\n\u001b[1;32m      1\u001b[0m \u001b[0;32mfor\u001b[0m \u001b[0mx\u001b[0m \u001b[0;32min\u001b[0m \u001b[0mrange\u001b[0m\u001b[0;34m(\u001b[0m\u001b[0;36m3001\u001b[0m\u001b[0;34m,\u001b[0m \u001b[0;36m3500\u001b[0m\u001b[0;34m)\u001b[0m\u001b[0;34m:\u001b[0m\u001b[0;34m\u001b[0m\u001b[0;34m\u001b[0m\u001b[0m\n\u001b[0;32m----> 2\u001b[0;31m     \u001b[0msave_to_csv_from_yahoo\u001b[0m\u001b[0;34m(\u001b[0m\u001b[0mfolder\u001b[0m\u001b[0;34m,\u001b[0m \u001b[0mtickers\u001b[0m\u001b[0;34m[\u001b[0m\u001b[0mx\u001b[0m\u001b[0;34m]\u001b[0m\u001b[0;34m,\u001b[0m \u001b[0;36m2020\u001b[0m\u001b[0;34m,\u001b[0m \u001b[0;36m1\u001b[0m\u001b[0;34m,\u001b[0m \u001b[0;36m1\u001b[0m\u001b[0;34m,\u001b[0m \u001b[0;36m2023\u001b[0m\u001b[0;34m,\u001b[0m \u001b[0;36m7\u001b[0m\u001b[0;34m,\u001b[0m \u001b[0;36m7\u001b[0m\u001b[0;34m)\u001b[0m\u001b[0;34m\u001b[0m\u001b[0;34m\u001b[0m\u001b[0m\n\u001b[0m\u001b[1;32m      3\u001b[0m \u001b[0mprint\u001b[0m\u001b[0;34m(\u001b[0m\u001b[0;34m\"Finished\"\u001b[0m\u001b[0;34m)\u001b[0m\u001b[0;34m\u001b[0m\u001b[0;34m\u001b[0m\u001b[0m\n\u001b[1;32m      4\u001b[0m \u001b[0mstocks_not_downloaded\u001b[0m\u001b[0;34m\u001b[0m\u001b[0;34m\u001b[0m\u001b[0m\n",
      "\u001b[0;32m~/.local/lib/python3.10/site-packages/pandas/core/series.py\u001b[0m in \u001b[0;36m__getitem__\u001b[0;34m(self, key)\u001b[0m\n\u001b[1;32m   1005\u001b[0m \u001b[0;34m\u001b[0m\u001b[0m\n\u001b[1;32m   1006\u001b[0m         \u001b[0;32melif\u001b[0m \u001b[0mkey_is_scalar\u001b[0m\u001b[0;34m:\u001b[0m\u001b[0;34m\u001b[0m\u001b[0;34m\u001b[0m\u001b[0m\n\u001b[0;32m-> 1007\u001b[0;31m             \u001b[0;32mreturn\u001b[0m \u001b[0mself\u001b[0m\u001b[0;34m.\u001b[0m\u001b[0m_get_value\u001b[0m\u001b[0;34m(\u001b[0m\u001b[0mkey\u001b[0m\u001b[0;34m)\u001b[0m\u001b[0;34m\u001b[0m\u001b[0;34m\u001b[0m\u001b[0m\n\u001b[0m\u001b[1;32m   1008\u001b[0m \u001b[0;34m\u001b[0m\u001b[0m\n\u001b[1;32m   1009\u001b[0m         \u001b[0;32mif\u001b[0m \u001b[0mis_hashable\u001b[0m\u001b[0;34m(\u001b[0m\u001b[0mkey\u001b[0m\u001b[0;34m)\u001b[0m\u001b[0;34m:\u001b[0m\u001b[0;34m\u001b[0m\u001b[0;34m\u001b[0m\u001b[0m\n",
      "\u001b[0;32m~/.local/lib/python3.10/site-packages/pandas/core/series.py\u001b[0m in \u001b[0;36m_get_value\u001b[0;34m(self, label, takeable)\u001b[0m\n\u001b[1;32m   1114\u001b[0m \u001b[0;34m\u001b[0m\u001b[0m\n\u001b[1;32m   1115\u001b[0m         \u001b[0;31m# Similar to Index.get_value, but we do not fall back to positional\u001b[0m\u001b[0;34m\u001b[0m\u001b[0;34m\u001b[0m\u001b[0m\n\u001b[0;32m-> 1116\u001b[0;31m         \u001b[0mloc\u001b[0m \u001b[0;34m=\u001b[0m \u001b[0mself\u001b[0m\u001b[0;34m.\u001b[0m\u001b[0mindex\u001b[0m\u001b[0;34m.\u001b[0m\u001b[0mget_loc\u001b[0m\u001b[0;34m(\u001b[0m\u001b[0mlabel\u001b[0m\u001b[0;34m)\u001b[0m\u001b[0;34m\u001b[0m\u001b[0;34m\u001b[0m\u001b[0m\n\u001b[0m\u001b[1;32m   1117\u001b[0m \u001b[0;34m\u001b[0m\u001b[0m\n\u001b[1;32m   1118\u001b[0m         \u001b[0;32mif\u001b[0m \u001b[0mis_integer\u001b[0m\u001b[0;34m(\u001b[0m\u001b[0mloc\u001b[0m\u001b[0;34m)\u001b[0m\u001b[0;34m:\u001b[0m\u001b[0;34m\u001b[0m\u001b[0;34m\u001b[0m\u001b[0m\n",
      "\u001b[0;32m~/.local/lib/python3.10/site-packages/pandas/core/indexes/range.py\u001b[0m in \u001b[0;36mget_loc\u001b[0;34m(self, key)\u001b[0m\n\u001b[1;32m    345\u001b[0m                 \u001b[0;32mreturn\u001b[0m \u001b[0mself\u001b[0m\u001b[0;34m.\u001b[0m\u001b[0m_range\u001b[0m\u001b[0;34m.\u001b[0m\u001b[0mindex\u001b[0m\u001b[0;34m(\u001b[0m\u001b[0mnew_key\u001b[0m\u001b[0;34m)\u001b[0m\u001b[0;34m\u001b[0m\u001b[0;34m\u001b[0m\u001b[0m\n\u001b[1;32m    346\u001b[0m             \u001b[0;32mexcept\u001b[0m \u001b[0mValueError\u001b[0m \u001b[0;32mas\u001b[0m \u001b[0merr\u001b[0m\u001b[0;34m:\u001b[0m\u001b[0;34m\u001b[0m\u001b[0;34m\u001b[0m\u001b[0m\n\u001b[0;32m--> 347\u001b[0;31m                 \u001b[0;32mraise\u001b[0m \u001b[0mKeyError\u001b[0m\u001b[0;34m(\u001b[0m\u001b[0mkey\u001b[0m\u001b[0;34m)\u001b[0m \u001b[0;32mfrom\u001b[0m \u001b[0merr\u001b[0m\u001b[0;34m\u001b[0m\u001b[0;34m\u001b[0m\u001b[0m\n\u001b[0m\u001b[1;32m    348\u001b[0m         \u001b[0;32mif\u001b[0m \u001b[0misinstance\u001b[0m\u001b[0;34m(\u001b[0m\u001b[0mkey\u001b[0m\u001b[0;34m,\u001b[0m \u001b[0mHashable\u001b[0m\u001b[0;34m)\u001b[0m\u001b[0;34m:\u001b[0m\u001b[0;34m\u001b[0m\u001b[0;34m\u001b[0m\u001b[0m\n\u001b[1;32m    349\u001b[0m             \u001b[0;32mraise\u001b[0m \u001b[0mKeyError\u001b[0m\u001b[0;34m(\u001b[0m\u001b[0mkey\u001b[0m\u001b[0;34m)\u001b[0m\u001b[0;34m\u001b[0m\u001b[0;34m\u001b[0m\u001b[0m\n",
      "\u001b[0;31mKeyError\u001b[0m: 3481"
     ]
    }
   ],
   "source": [
    "for x in range(3001, 3500):\n",
    "    save_to_csv_from_yahoo(folder, tickers[x], 2020, 1, 1, 2023, 7, 7)\n",
    "print(\"Finished\")\n",
    "stocks_not_downloaded"
   ]
  },
  {
   "cell_type": "code",
   "execution_count": 41,
   "id": "a16ffdbe",
   "metadata": {},
   "outputs": [
    {
     "data": {
      "text/plain": [
       "[]"
      ]
     },
     "execution_count": 41,
     "metadata": {},
     "output_type": "execute_result"
    }
   ],
   "source": [
    "stocks_not_downloaded"
   ]
  },
  {
   "cell_type": "markdown",
   "id": "4872f343",
   "metadata": {},
   "source": [
    "<font size = 6>Get DF from CSV</font>"
   ]
  },
  {
   "cell_type": "code",
   "execution_count": 6,
   "id": "b09fe132",
   "metadata": {},
   "outputs": [],
   "source": [
    "def get_stock_df_from_csv(folder, ticker):\n",
    "    try:\n",
    "        df = pd.read_csv(folder + ticker + '.csv')\n",
    "    except FileNotFoundError:\n",
    "        print(\"File Doesn't Exist\")\n",
    "    else:\n",
    "        return df"
   ]
  },
  {
   "cell_type": "markdown",
   "id": "f9671857",
   "metadata": {},
   "source": [
    "<font size = 6>Get Column from CSV</font>"
   ]
  },
  {
   "cell_type": "code",
   "execution_count": 17,
   "id": "91e63d71",
   "metadata": {},
   "outputs": [],
   "source": [
    "def get_column_from_csv(file, column_name):\n",
    "    try:\n",
    "        df = pd.read_csv(file)\n",
    "    except FileNotFoundError:\n",
    "        print(\"File Doesn't Exist\")\n",
    "    else:\n",
    "        return df[column_name]\n",
    "            "
   ]
  },
  {
   "cell_type": "markdown",
   "id": "64c5deaf",
   "metadata": {},
   "source": [
    "<font size = 6>Add Daily Return</font>"
   ]
  },
  {
   "cell_type": "code",
   "execution_count": 18,
   "id": "0b1f773c",
   "metadata": {},
   "outputs": [],
   "source": [
    "PATH = '/home/champ/code/Linguistics/Python/jupyter/'\n",
    "def add_daily_return_to_df(df, ticker):\n",
    "    df['daily_return'] = (df['Adj Close'] / df['Adj Close'].shift(1)) - 1\n",
    "    df.to_csv(PATH + ticker + '.csv')\n",
    "    return df"
   ]
  },
  {
   "cell_type": "markdown",
   "id": "0eafaf84",
   "metadata": {},
   "source": [
    "<font size = 6>Return ROI for Defined Time</font>"
   ]
  },
  {
   "cell_type": "code",
   "execution_count": 11,
   "id": "191f23ab",
   "metadata": {},
   "outputs": [],
   "source": [
    "def get_roi_defined_time(df):\n",
    "    df['Date'] = pd.to_datetime(df['Date'])\n",
    "    last_key = df.keys() [-1]\n",
    "    start = df[df['Date'] == S_DATE]['Adj Close'][0]\n",
    "    end = df[df['Date'] == E_DATE]['Adj Close'][877]\n",
    "    print(f\"Initial Price: {start}\")\n",
    "    print(f\"Final Price: {end}\")\n",
    "    print(f\"{last_key}\")\n",
    "    roi = (end - start) / start\n",
    "    return roi"
   ]
  },
  {
   "cell_type": "markdown",
   "id": "84582305",
   "metadata": {},
   "source": [
    "<font size = 6>Return on Investment over Time</font>"
   ]
  },
  {
   "cell_type": "code",
   "execution_count": 87,
   "id": "a21880ef",
   "metadata": {},
   "outputs": [],
   "source": [
    "def roi_between_dates(df, sdate, edate):\n",
    "    try:\n",
    "        df = df.set_index(['Date'])\n",
    "        start = df.loc[sdate, 'Adj Close']\n",
    "        end = df.loc[edate, 'Adj Close']\n",
    "        roi = ((end - start) / start)\n",
    "    except Exception:\n",
    "        print(\"Data is Bad\")\n",
    "    else:\n",
    "        return roi"
   ]
  },
  {
   "cell_type": "markdown",
   "id": "c7c5c581",
   "metadata": {},
   "source": [
    "<font size = 6>Average Between Dates</font>"
   ]
  },
  {
   "cell_type": "code",
   "execution_count": 117,
   "id": "8d3022cc",
   "metadata": {},
   "outputs": [],
   "source": [
    "def get_avg_between_dates(df, sdate, edate):\n",
    "    ski_mask = (df['Date'] > sdate) & (df['Date'] <= edate)\n",
    "    return df.loc[ski_mask]['Adj Close'].mean()"
   ]
  },
  {
   "cell_type": "markdown",
   "id": "74ffcc3f",
   "metadata": {},
   "source": [
    "<font size = 6>Standard Deviation over Time</font>"
   ]
  },
  {
   "cell_type": "code",
   "execution_count": 118,
   "id": "0ebd69b8",
   "metadata": {},
   "outputs": [],
   "source": [
    "def get_std_between_dates(df, sdate, edate):\n",
    "    mask = (df['Date'] > sdate) & (df['Date'] <= edate)\n",
    "    return df.loc[mask]['Adj Close'].std()"
   ]
  },
  {
   "cell_type": "markdown",
   "id": "1aa2bc27",
   "metadata": {},
   "source": [
    "<font size = 6>Get Covariance Between Dates</font>"
   ]
  },
  {
   "cell_type": "code",
   "execution_count": 114,
   "id": "dfe48cc6",
   "metadata": {},
   "outputs": [],
   "source": [
    "def get_cov_between_dates(df, sdate, edate):\n",
    "    avg = get_avg_between_dates(df, sdate, edate)\n",
    "    sd = get_std_between_dates(df, sdate, edate)\n",
    "    return sd / avg"
   ]
  },
  {
   "cell_type": "markdown",
   "id": "7583e1aa",
   "metadata": {},
   "source": [
    "<font size = 6>Coefficient of Variation</font>"
   ]
  },
  {
   "cell_type": "code",
   "execution_count": 24,
   "id": "7c229df6",
   "metadata": {},
   "outputs": [],
   "source": [
    "def get_cov(stock):\n",
    "    mean = stock['Adj Close'].mean()\n",
    "    sd = stock['Adj Close'].std()\n",
    "    cov = sd / mean\n",
    "    return cov"
   ]
  },
  {
   "cell_type": "markdown",
   "id": "29238eab",
   "metadata": {},
   "source": [
    "<font size = 6>Delete Unnamed Columns</font>"
   ]
  },
  {
   "cell_type": "code",
   "execution_count": 25,
   "id": "bdd5fa57",
   "metadata": {},
   "outputs": [],
   "source": [
    "def delete_unnamed_cols(df):\n",
    "    df = df.loc[:, ~df.columns.str.contains('^Unnamed')]\n",
    "    return df"
   ]
  },
  {
   "cell_type": "markdown",
   "id": "a6e2e893",
   "metadata": {},
   "source": [
    "<font size = 6>List of Stock File Names</font>"
   ]
  },
  {
   "cell_type": "code",
   "execution_count": 26,
   "id": "a7e86743",
   "metadata": {},
   "outputs": [],
   "source": [
    "tickers = get_column_from_csv(\"/home/champ/code/Python4Finance/Wilshire-5000-Stocks.csv\", \"Ticker\")\n",
    "\n",
    "files = [ x for x in listdir(folder) if isfile(join(folder, x))]\n",
    "tickers2 = [ os.path.splitext(x)[0] for x in files ]"
   ]
  },
  {
   "cell_type": "code",
   "execution_count": 51,
   "id": "693ab5fd",
   "metadata": {},
   "outputs": [
    {
     "data": {
      "text/plain": [
       "['luv.csv', 'wallstreet.ipynb', 'BanasTut.ipynb', '.ipynb_checkpoints']"
      ]
     },
     "execution_count": 51,
     "metadata": {},
     "output_type": "execute_result"
    }
   ],
   "source": [
    "listdir(PATH)"
   ]
  },
  {
   "cell_type": "code",
   "execution_count": 203,
   "id": "f5366990",
   "metadata": {},
   "outputs": [
    {
     "name": "stdout",
     "output_type": "stream",
     "text": [
      "Get Data for :  A\n",
      "[*********************100%***********************]  1 of 1 completed\n"
     ]
    },
    {
     "ename": "KeyboardInterrupt",
     "evalue": "",
     "output_type": "error",
     "traceback": [
      "\u001b[0;31m---------------------------------------------------------------------------\u001b[0m",
      "\u001b[0;31mKeyboardInterrupt\u001b[0m                         Traceback (most recent call last)",
      "\u001b[0;32m/tmp/ipykernel_202580/1836403570.py\u001b[0m in \u001b[0;36m<module>\u001b[0;34m\u001b[0m\n\u001b[1;32m      1\u001b[0m \u001b[0mfolder\u001b[0m \u001b[0;34m=\u001b[0m \u001b[0;34m\"/home/champ/code/Python4Finance/champlist/\"\u001b[0m\u001b[0;34m\u001b[0m\u001b[0;34m\u001b[0m\u001b[0m\n\u001b[1;32m      2\u001b[0m \u001b[0;32mfor\u001b[0m \u001b[0mx\u001b[0m \u001b[0;32min\u001b[0m \u001b[0mrange\u001b[0m\u001b[0;34m(\u001b[0m\u001b[0;36m20\u001b[0m\u001b[0;34m)\u001b[0m\u001b[0;34m:\u001b[0m\u001b[0;34m\u001b[0m\u001b[0;34m\u001b[0m\u001b[0m\n\u001b[0;32m----> 3\u001b[0;31m     \u001b[0msave_to_csv_from_yahoo\u001b[0m\u001b[0;34m(\u001b[0m\u001b[0mfolder\u001b[0m\u001b[0;34m,\u001b[0m \u001b[0mtickers\u001b[0m\u001b[0;34m[\u001b[0m\u001b[0mx\u001b[0m\u001b[0;34m]\u001b[0m\u001b[0;34m,\u001b[0m \u001b[0;36m2020\u001b[0m\u001b[0;34m,\u001b[0m \u001b[0;36m1\u001b[0m\u001b[0;34m,\u001b[0m \u001b[0;36m1\u001b[0m\u001b[0;34m,\u001b[0m \u001b[0;36m2023\u001b[0m\u001b[0;34m,\u001b[0m \u001b[0;36m6\u001b[0m\u001b[0;34m,\u001b[0m \u001b[0;36m29\u001b[0m\u001b[0;34m)\u001b[0m\u001b[0;34m\u001b[0m\u001b[0;34m\u001b[0m\u001b[0m\n\u001b[0m\u001b[1;32m      4\u001b[0m \u001b[0mprint\u001b[0m\u001b[0;34m(\u001b[0m\u001b[0;34m\"Finished\"\u001b[0m\u001b[0;34m)\u001b[0m\u001b[0;34m\u001b[0m\u001b[0;34m\u001b[0m\u001b[0m\n",
      "\u001b[0;32m/tmp/ipykernel_202580/1195510940.py\u001b[0m in \u001b[0;36msave_to_csv_from_yahoo\u001b[0;34m(folder, ticker, syear, smonth, sday, eyear, emonth, eday)\u001b[0m\n\u001b[1;32m     12\u001b[0m         \u001b[0mprint\u001b[0m\u001b[0;34m(\u001b[0m\u001b[0;34m\"Get Data for : \"\u001b[0m\u001b[0;34m,\u001b[0m \u001b[0mticker\u001b[0m\u001b[0;34m)\u001b[0m\u001b[0;34m\u001b[0m\u001b[0;34m\u001b[0m\u001b[0m\n\u001b[1;32m     13\u001b[0m         \u001b[0mdf\u001b[0m \u001b[0;34m=\u001b[0m \u001b[0mweb\u001b[0m\u001b[0;34m.\u001b[0m\u001b[0mget_data_yahoo\u001b[0m\u001b[0;34m(\u001b[0m\u001b[0mticker\u001b[0m\u001b[0;34m,\u001b[0m \u001b[0mstart\u001b[0m\u001b[0;34m,\u001b[0m \u001b[0mend\u001b[0m\u001b[0;34m)\u001b[0m\u001b[0;34m[\u001b[0m\u001b[0;34m'Adj Close'\u001b[0m\u001b[0;34m]\u001b[0m\u001b[0;34m\u001b[0m\u001b[0;34m\u001b[0m\u001b[0m\n\u001b[0;32m---> 14\u001b[0;31m         \u001b[0mtime\u001b[0m\u001b[0;34m.\u001b[0m\u001b[0msleep\u001b[0m\u001b[0;34m(\u001b[0m\u001b[0;36m10\u001b[0m\u001b[0;34m)\u001b[0m\u001b[0;34m\u001b[0m\u001b[0;34m\u001b[0m\u001b[0m\n\u001b[0m\u001b[1;32m     15\u001b[0m         \u001b[0mdf\u001b[0m\u001b[0;34m.\u001b[0m\u001b[0mto_csv\u001b[0m\u001b[0;34m(\u001b[0m\u001b[0mfolder\u001b[0m \u001b[0;34m+\u001b[0m \u001b[0mticker\u001b[0m \u001b[0;34m+\u001b[0m \u001b[0;34m'.csv'\u001b[0m\u001b[0;34m)\u001b[0m\u001b[0;34m\u001b[0m\u001b[0;34m\u001b[0m\u001b[0m\n\u001b[1;32m     16\u001b[0m     \u001b[0;32mexcept\u001b[0m \u001b[0mException\u001b[0m \u001b[0;32mas\u001b[0m \u001b[0mex\u001b[0m\u001b[0;34m:\u001b[0m\u001b[0;34m\u001b[0m\u001b[0;34m\u001b[0m\u001b[0m\n",
      "\u001b[0;31mKeyboardInterrupt\u001b[0m: "
     ]
    }
   ],
   "source": [
    "folder = \"/home/champ/code/Python4Finance/champlist/\"\n",
    "for x in range(20):\n",
    "    save_to_csv_from_yahoo(folder, tickers[x], 2020, 1, 1, 2023, 6, 29)\n",
    "print(\"Finished\")"
   ]
  },
  {
   "cell_type": "code",
   "execution_count": 82,
   "id": "38810560",
   "metadata": {},
   "outputs": [],
   "source": [
    "aapl = pd.read_csv(folder + \"AAPL.csv\")"
   ]
  },
  {
   "cell_type": "code",
   "execution_count": 85,
   "id": "3fc1fb3a",
   "metadata": {},
   "outputs": [
    {
     "data": {
      "text/plain": [
       "<bound method DataFrame.info of            Date   Adj Close\n",
       "0    2020-01-02   73.347939\n",
       "1    2020-01-03   72.634842\n",
       "2    2020-01-06   73.213623\n",
       "3    2020-01-07   72.869293\n",
       "4    2020-01-08   74.041496\n",
       "..          ...         ...\n",
       "873  2023-06-22  187.000000\n",
       "874  2023-06-23  186.679993\n",
       "875  2023-06-26  185.270004\n",
       "876  2023-06-27  188.059998\n",
       "877  2023-06-28  189.250000\n",
       "\n",
       "[878 rows x 2 columns]>"
      ]
     },
     "execution_count": 85,
     "metadata": {},
     "output_type": "execute_result"
    }
   ],
   "source": [
    "aapl.info"
   ]
  },
  {
   "cell_type": "code",
   "execution_count": 87,
   "id": "d34f15f6",
   "metadata": {},
   "outputs": [],
   "source": [
    "aal = get_stock_df_from_csv(folder, \"AAL\")"
   ]
  },
  {
   "cell_type": "code",
   "execution_count": 5,
   "id": "4c8bfa93",
   "metadata": {},
   "outputs": [
    {
     "name": "stdout",
     "output_type": "stream",
     "text": [
      "[*********************100%***********************]  1 of 1 completed\n"
     ]
    }
   ],
   "source": [
    "luv = web.get_data_yahoo('LUV', start='2022-01-01', end='2023-06-20')\n"
   ]
  },
  {
   "cell_type": "code",
   "execution_count": 28,
   "id": "913ed1bc",
   "metadata": {},
   "outputs": [
    {
     "data": {
      "text/plain": [
       "<bound method DataFrame.info of                  Open       High        Low      Close  Adj Close    Volume   \n",
       "Date                                                                          \n",
       "2022-01-03  43.169998  44.259998  42.509998  44.000000  43.312012  10571400  \\\n",
       "2022-01-04  44.709999  45.540001  44.480000  44.660000  43.961685  11207000   \n",
       "2022-01-05  44.950001  45.200001  43.799999  43.990002  43.302170   9702000   \n",
       "2022-01-06  44.480000  44.680000  43.070000  43.889999  43.203728   6750700   \n",
       "2022-01-07  44.189999  45.680000  44.110001  45.349998  44.640900   7479100   \n",
       "...               ...        ...        ...        ...        ...       ...   \n",
       "2023-06-12  30.990000  31.870001  30.969999  31.459999  31.294662   8837200   \n",
       "2023-06-13  31.610001  32.529999  31.580000  32.450001  32.279461   8559500   \n",
       "2023-06-14  32.709999  33.639999  32.680000  33.570000  33.393574  14745200   \n",
       "2023-06-15  33.529999  34.060001  33.459999  33.970001  33.791473  11142500   \n",
       "2023-06-16  34.189999  34.410000  33.810001  34.250000  34.070000   8741200   \n",
       "\n",
       "            daily_return  \n",
       "Date                      \n",
       "2022-01-03           NaN  \n",
       "2022-01-04      0.015000  \n",
       "2022-01-05     -0.015002  \n",
       "2022-01-06     -0.002273  \n",
       "2022-01-07      0.033265  \n",
       "...                  ...  \n",
       "2023-06-12      0.027433  \n",
       "2023-06-13      0.031469  \n",
       "2023-06-14      0.034515  \n",
       "2023-06-15      0.011915  \n",
       "2023-06-16      0.008243  \n",
       "\n",
       "[366 rows x 7 columns]>"
      ]
     },
     "execution_count": 28,
     "metadata": {},
     "output_type": "execute_result"
    }
   ],
   "source": [
    "luv.info"
   ]
  },
  {
   "cell_type": "code",
   "execution_count": 32,
   "id": "7c4da43a",
   "metadata": {},
   "outputs": [],
   "source": [
    "add_daily_return_to_df(luv, 'luv')"
   ]
  },
  {
   "cell_type": "markdown",
   "id": "783b0627",
   "metadata": {},
   "source": [
    "<font size = 6>Return Dataframe from CSV</font>"
   ]
  },
  {
   "cell_type": "code",
   "execution_count": 27,
   "id": "b9096604",
   "metadata": {},
   "outputs": [],
   "source": [
    "def get_df_from_csv(ticker):\n",
    "    try:\n",
    "        df = pd.read_csv(folder + ticker + '.csv')\n",
    "    except FileNotFoundError:\n",
    "        print(\"File Does Not Exist\")\n",
    "    else:\n",
    "        return df"
   ]
  },
  {
   "cell_type": "markdown",
   "id": "b7e8e3ec",
   "metadata": {},
   "source": [
    "<font size = 6>Save Dataframe To CSV</font>"
   ]
  },
  {
   "cell_type": "code",
   "execution_count": 28,
   "id": "ba88904f",
   "metadata": {},
   "outputs": [],
   "source": [
    "def save_dataframe_to_csv(df, ticker):\n",
    "    df.to_csv(folder2 + ticker + '.csv')"
   ]
  },
  {
   "cell_type": "markdown",
   "id": "e974799f",
   "metadata": {},
   "source": [
    "<font size = 6>Multiple DF Merge By Column</font>"
   ]
  },
  {
   "cell_type": "code",
   "execution_count": 29,
   "id": "1b1aa6a6",
   "metadata": {},
   "outputs": [],
   "source": [
    "def merge_df_by_column_name(col_name, sdate, edate, *tickers):\n",
    "    mult_df = pd.DataFrame()\n",
    "    for t in tickers:\n",
    "        df = get_stock_df_from_csv(t)\n",
    "        df['Date'] = pd.to_datetime(df['Date'])\n",
    "        mask = (df['Date'] >= sdate) & (df['Date'] <= edate)\n",
    "        mult_df[t] = df.loc[mask][col_name]\n",
    "    return mult_df"
   ]
  },
  {
   "cell_type": "markdown",
   "id": "d2e01b43",
   "metadata": {},
   "source": [
    "<font size = 6>Adding Daily Return</font>"
   ]
  },
  {
   "cell_type": "code",
   "execution_count": 126,
   "id": "ad4b8e36",
   "metadata": {},
   "outputs": [
    {
     "ename": "NameError",
     "evalue": "name 'PATH' is not defined",
     "output_type": "error",
     "traceback": [
      "\u001b[0;31m---------------------------------------------------------------------------\u001b[0m",
      "\u001b[0;31mNameError\u001b[0m                                 Traceback (most recent call last)",
      "\u001b[0;32m/tmp/ipykernel_9582/1074079701.py\u001b[0m in \u001b[0;36m<module>\u001b[0;34m\u001b[0m\n\u001b[0;32m----> 1\u001b[0;31m \u001b[0mluv_plus\u001b[0m \u001b[0;34m=\u001b[0m \u001b[0mpd\u001b[0m\u001b[0;34m.\u001b[0m\u001b[0mread_csv\u001b[0m\u001b[0;34m(\u001b[0m\u001b[0mPATH\u001b[0m \u001b[0;34m+\u001b[0m \u001b[0;34m'luv.csv'\u001b[0m\u001b[0;34m)\u001b[0m\u001b[0;34m\u001b[0m\u001b[0;34m\u001b[0m\u001b[0m\n\u001b[0m\u001b[1;32m      2\u001b[0m \u001b[0mluv_plus\u001b[0m\u001b[0;34m[\u001b[0m\u001b[0;34m'Adj Close'\u001b[0m\u001b[0;34m]\u001b[0m\u001b[0;34m[\u001b[0m\u001b[0;36m0\u001b[0m\u001b[0;34m]\u001b[0m\u001b[0;34m\u001b[0m\u001b[0;34m\u001b[0m\u001b[0m\n",
      "\u001b[0;31mNameError\u001b[0m: name 'PATH' is not defined"
     ]
    }
   ],
   "source": [
    "luv_plus = pd.read_csv(PATH + 'luv.csv')\n",
    "luv_plus['Adj Close'][0]"
   ]
  },
  {
   "cell_type": "code",
   "execution_count": 159,
   "id": "b6b5f202",
   "metadata": {},
   "outputs": [
    {
     "data": {
      "text/html": [
       "<div style=\"display:flex;flex-direction:row;justify-content:space-between;\">\n",
       "                <pre style=\"width: 100%; white-space: pre-wrap;\" id=\"65a324d0-a02e-4d61-ba5a-d7cfa23f7984\">\n",
       "# import matplotlib library\n",
       "import matplotlib.pyplot as plt\n",
       "\n",
       "# create a line chart of the 'Close' column in luv_plus\n",
       "plt.plot(luv_plus['Close'])\n",
       "\n",
       "# add labels to the x and y axes\n",
       "plt.xlabel('Date')\n",
       "plt.ylabel('Closing Price')\n",
       "\n",
       "# show the plot\n",
       "plt.show()\n",
       "</pre>\n",
       "                <button style=\"height: fit-content;\" onclick=\"navigator.clipboard.writeText(JSON.parse(atob(`IlxuIyBpbXBvcnQgbWF0cGxvdGxpYiBsaWJyYXJ5XG5pbXBvcnQgbWF0cGxvdGxpYi5weXBsb3QgYXMgcGx0XG5cbiMgY3JlYXRlIGEgbGluZSBjaGFydCBvZiB0aGUgJ0Nsb3NlJyBjb2x1bW4gaW4gbHV2X3BsdXNcbnBsdC5wbG90KGx1dl9wbHVzWydDbG9zZSddKVxuXG4jIGFkZCBsYWJlbHMgdG8gdGhlIHggYW5kIHkgYXhlc1xucGx0LnhsYWJlbCgnRGF0ZScpXG5wbHQueWxhYmVsKCdDbG9zaW5nIFByaWNlJylcblxuIyBzaG93IHRoZSBwbG90XG5wbHQuc2hvdygpXG4i`)))\">Copy</button>\n",
       "                </div>"
      ],
      "text/plain": [
       "<IPython.core.display.HTML object>"
      ]
     },
     "metadata": {},
     "output_type": "display_data"
    }
   ],
   "source": [
    "luv_plus.sketch.howto(\"how can i make a line chart\")"
   ]
  },
  {
   "cell_type": "code",
   "execution_count": 166,
   "id": "56bb17f2",
   "metadata": {},
   "outputs": [
    {
     "data": {
      "image/png": "[encoded data removed]",
      "text/plain": [
       "<Figure size 432x288 with 1 Axes>"
      ]
     },
     "metadata": {
      "needs_background": "light"
     },
     "output_type": "display_data"
    }
   ],
   "source": [
    "\n",
    "\n",
    "# import matplotlib library\n",
    "#import matplotlib.pyplot as plt\n",
    "luv_plus['Adj Close'].plot(kind='line')\n",
    "# create a line chart of the 'Close' column in luv_plus\n",
    "plt.plot(luv_plus['Adj Close'])\n",
    "\n",
    "# add labels to the x and y axes\n",
    "plt.xlabel('Date')\n",
    "plt.ylabel('Closing Price')\n",
    "\n",
    "# show the plot\n",
    "plt.show()\n"
   ]
  },
  {
   "cell_type": "markdown",
   "id": "5520bbeb",
   "metadata": {},
   "source": [
    "<font size = 6>Daily Returns & Clean Up Files</font>"
   ]
  },
  {
   "cell_type": "code",
   "execution_count": 86,
   "id": "9aa991d0",
   "metadata": {},
   "outputs": [
    {
     "name": "stdout",
     "output_type": "stream",
     "text": [
      "Working on: A\n",
      "Working on: AA\n",
      "Working on: AAT\n",
      "Working on: AAP\n",
      "Working on: AAXN\n",
      "Working on: AAME\n",
      "Working on: AAN\n",
      "Working on: ABM\n",
      "Working on: ABG\n",
      "Working on: ABEO\n",
      "Working on: AAOI\n",
      "Working on: AAPL\n",
      "Working on: AAL\n",
      "Working on: ABIO\n",
      "Working on: AAON\n",
      "Working on: ABCB\n",
      "Working on: ABBV\n",
      "Working on: AAWW\n",
      "Working on: ABC\n",
      "Working on: ABMD\n"
     ]
    }
   ],
   "source": [
    "for ticker in tickers2:\n",
    "    print(f\"Working on: {ticker}\")\n",
    "    stock_df = get_df_from_csv(ticker)\n",
    "    add_daily_return_to_df(stock_df, ticker)\n",
    "    stock_df = delete_unnamed_cols(stock_df)\n",
    "    save_dataframe_to_csv(stock_df, ticker)"
   ]
  },
  {
   "cell_type": "code",
   "execution_count": 64,
   "id": "e6abf968",
   "metadata": {},
   "outputs": [
    {
     "data": {
      "text/plain": [
       "['A.csv',\n",
       " 'AA.csv',\n",
       " 'AAT.csv',\n",
       " 'AAP.csv',\n",
       " 'AAXN.csv',\n",
       " 'AAME.csv',\n",
       " 'AAN.csv',\n",
       " 'ABM.csv',\n",
       " 'ABG.csv',\n",
       " 'ABEO.csv',\n",
       " 'AAOI.csv',\n",
       " 'AAPL.csv',\n",
       " 'AAL.csv',\n",
       " 'ABIO.csv',\n",
       " 'AAON.csv',\n",
       " 'ABCB.csv',\n",
       " 'ABBV.csv',\n",
       " 'AAWW.csv',\n",
       " 'ABC.csv',\n",
       " 'ABMD.csv']"
      ]
     },
     "execution_count": 64,
     "metadata": {},
     "output_type": "execute_result"
    }
   ],
   "source": [
    "listdir(folder)"
   ]
  },
  {
   "cell_type": "code",
   "execution_count": 202,
   "id": "e920ba06",
   "metadata": {},
   "outputs": [
    {
     "data": {
      "text/plain": [
       "['A',\n",
       " 'AA',\n",
       " 'AAT',\n",
       " 'AAP',\n",
       " 'AAXN',\n",
       " 'AAME',\n",
       " 'AAN',\n",
       " 'ABM',\n",
       " 'ABG',\n",
       " 'ABEO',\n",
       " 'AAOI',\n",
       " 'AAPL',\n",
       " 'AAL',\n",
       " 'ABIO',\n",
       " 'AAON',\n",
       " 'ABCB',\n",
       " 'ABBV',\n",
       " 'AAWW',\n",
       " 'ABC',\n",
       " 'ABMD']"
      ]
     },
     "execution_count": 202,
     "metadata": {},
     "output_type": "execute_result"
    }
   ],
   "source": [
    "tickers2"
   ]
  },
  {
   "cell_type": "code",
   "execution_count": 91,
   "id": "1548ffdb",
   "metadata": {},
   "outputs": [
    {
     "data": {
      "image/png": "[encoded data removed]",
      "text/plain": [
       "<Figure size 432x288 with 1 Axes>"
      ]
     },
     "metadata": {},
     "output_type": "display_data"
    }
   ],
   "source": [
    "sizes = [10, 30, 60]\n",
    "labels = ['Apple', 'Orange', 'Banana']\n",
    "plt.pie(sizes, labels=labels)\n",
    "plt.title(\"Pie Chart\")\n",
    "plt.show()"
   ]
  },
  {
   "cell_type": "code",
   "execution_count": 143,
   "id": "cddedf27",
   "metadata": {},
   "outputs": [
    {
     "data": {
      "text/html": [
       "\n",
       "This dataset contains daily stock market data for a particular company, including the date, opening price, high price, low price, closing price, adjusted closing price, and volume."
      ],
      "text/plain": [
       "<IPython.core.display.HTML object>"
      ]
     },
     "metadata": {},
     "output_type": "display_data"
    }
   ],
   "source": [
    "sofi.sketch.ask(\"what is this dataset about\")"
   ]
  },
  {
   "cell_type": "code",
   "execution_count": 186,
   "id": "4b8588a0",
   "metadata": {},
   "outputs": [
    {
     "data": {
      "text/plain": [
       "5.720141573907139"
      ]
     },
     "execution_count": 186,
     "metadata": {},
     "output_type": "execute_result"
    }
   ],
   "source": [
    "sofi\n",
    "sofi['Close'].var()"
   ]
  },
  {
   "cell_type": "markdown",
   "id": "bede5082",
   "metadata": {},
   "source": [
    "<font size = 6>Numpy Examples</font>"
   ]
  },
  {
   "cell_type": "code",
   "execution_count": 146,
   "id": "ece7069e",
   "metadata": {},
   "outputs": [],
   "source": [
    "arr = np.arange(18)"
   ]
  },
  {
   "cell_type": "code",
   "execution_count": 147,
   "id": "691b7a15",
   "metadata": {},
   "outputs": [
    {
     "data": {
      "text/plain": [
       "array([ 0,  1,  2,  3,  4,  5,  6,  7,  8,  9, 10, 11, 12, 13, 14, 15, 16,\n",
       "       17])"
      ]
     },
     "execution_count": 147,
     "metadata": {},
     "output_type": "execute_result"
    }
   ],
   "source": [
    "arr"
   ]
  },
  {
   "cell_type": "code",
   "execution_count": 150,
   "id": "e66dfefb",
   "metadata": {},
   "outputs": [],
   "source": [
    "shaped = arr.reshape(3,6)"
   ]
  },
  {
   "cell_type": "code",
   "execution_count": 149,
   "id": "577bb206",
   "metadata": {},
   "outputs": [
    {
     "data": {
      "text/plain": [
       "array([ 0,  1,  2,  3,  4,  5,  6,  7,  8,  9, 10, 11, 12, 13, 14, 15, 16,\n",
       "       17])"
      ]
     },
     "execution_count": 149,
     "metadata": {},
     "output_type": "execute_result"
    }
   ],
   "source": [
    "arr"
   ]
  },
  {
   "cell_type": "code",
   "execution_count": 155,
   "id": "b26aeff0",
   "metadata": {},
   "outputs": [
    {
     "name": "stdout",
     "output_type": "stream",
     "text": [
      "12\n",
      "13\n",
      "14\n",
      "15\n",
      "16\n",
      "17\n",
      "and we are finished!\n"
     ]
    }
   ],
   "source": [
    "for i in arr:\n",
    "    if i > 11:\n",
    "        print(i)\n",
    "else:\n",
    "    print(\"and we are finished!\")"
   ]
  },
  {
   "cell_type": "code",
   "execution_count": 156,
   "id": "19b72b55",
   "metadata": {},
   "outputs": [
    {
     "data": {
      "text/plain": [
       "18"
      ]
     },
     "execution_count": 156,
     "metadata": {},
     "output_type": "execute_result"
    }
   ],
   "source": [
    "len(arr)"
   ]
  },
  {
   "cell_type": "code",
   "execution_count": 163,
   "id": "658cb991",
   "metadata": {},
   "outputs": [
    {
     "data": {
      "text/plain": [
       "Index(['Date', 'Open', 'High', 'Low', 'Close', 'Adj Close', 'Volume',\n",
       "       'daily_return'],\n",
       "      dtype='object')"
      ]
     },
     "execution_count": 163,
     "metadata": {},
     "output_type": "execute_result"
    }
   ],
   "source": [
    "luv_plus.columns"
   ]
  },
  {
   "cell_type": "code",
   "execution_count": 164,
   "id": "420c454f",
   "metadata": {},
   "outputs": [
    {
     "data": {
      "text/plain": [
       "0      2022-01-03\n",
       "1      2022-01-04\n",
       "2      2022-01-05\n",
       "3      2022-01-06\n",
       "4      2022-01-07\n",
       "          ...    \n",
       "361    2023-06-12\n",
       "362    2023-06-13\n",
       "363    2023-06-14\n",
       "364    2023-06-15\n",
       "365    2023-06-16\n",
       "Name: Date, Length: 366, dtype: object"
      ]
     },
     "execution_count": 164,
     "metadata": {},
     "output_type": "execute_result"
    }
   ],
   "source": [
    "luv_plus['Date']"
   ]
  },
  {
   "cell_type": "code",
   "execution_count": 78,
   "id": "3efafa43",
   "metadata": {},
   "outputs": [
    {
     "data": {
      "text/html": [
       "<div>\n",
       "<style scoped>\n",
       "    .dataframe tbody tr th:only-of-type {\n",
       "        vertical-align: middle;\n",
       "    }\n",
       "\n",
       "    .dataframe tbody tr th {\n",
       "        vertical-align: top;\n",
       "    }\n",
       "\n",
       "    .dataframe thead th {\n",
       "        text-align: right;\n",
       "    }\n",
       "</style>\n",
       "<table border=\"1\" class=\"dataframe\">\n",
       "  <thead>\n",
       "    <tr style=\"text-align: right;\">\n",
       "      <th></th>\n",
       "      <th>Date</th>\n",
       "      <th>Adj Close</th>\n",
       "    </tr>\n",
       "  </thead>\n",
       "  <tbody>\n",
       "    <tr>\n",
       "      <th>0</th>\n",
       "      <td>2020-01-02</td>\n",
       "      <td>73.347939</td>\n",
       "    </tr>\n",
       "    <tr>\n",
       "      <th>1</th>\n",
       "      <td>2020-01-03</td>\n",
       "      <td>72.634842</td>\n",
       "    </tr>\n",
       "    <tr>\n",
       "      <th>2</th>\n",
       "      <td>2020-01-06</td>\n",
       "      <td>73.213631</td>\n",
       "    </tr>\n",
       "    <tr>\n",
       "      <th>3</th>\n",
       "      <td>2020-01-07</td>\n",
       "      <td>72.869286</td>\n",
       "    </tr>\n",
       "    <tr>\n",
       "      <th>4</th>\n",
       "      <td>2020-01-08</td>\n",
       "      <td>74.041489</td>\n",
       "    </tr>\n",
       "    <tr>\n",
       "      <th>...</th>\n",
       "      <td>...</td>\n",
       "      <td>...</td>\n",
       "    </tr>\n",
       "    <tr>\n",
       "      <th>873</th>\n",
       "      <td>2023-06-22</td>\n",
       "      <td>187.000000</td>\n",
       "    </tr>\n",
       "    <tr>\n",
       "      <th>874</th>\n",
       "      <td>2023-06-23</td>\n",
       "      <td>186.679993</td>\n",
       "    </tr>\n",
       "    <tr>\n",
       "      <th>875</th>\n",
       "      <td>2023-06-26</td>\n",
       "      <td>185.270004</td>\n",
       "    </tr>\n",
       "    <tr>\n",
       "      <th>876</th>\n",
       "      <td>2023-06-27</td>\n",
       "      <td>188.059998</td>\n",
       "    </tr>\n",
       "    <tr>\n",
       "      <th>877</th>\n",
       "      <td>2023-06-28</td>\n",
       "      <td>189.250000</td>\n",
       "    </tr>\n",
       "  </tbody>\n",
       "</table>\n",
       "<p>878 rows × 2 columns</p>\n",
       "</div>"
      ],
      "text/plain": [
       "           Date   Adj Close\n",
       "0    2020-01-02   73.347939\n",
       "1    2020-01-03   72.634842\n",
       "2    2020-01-06   73.213631\n",
       "3    2020-01-07   72.869286\n",
       "4    2020-01-08   74.041489\n",
       "..          ...         ...\n",
       "873  2023-06-22  187.000000\n",
       "874  2023-06-23  186.679993\n",
       "875  2023-06-26  185.270004\n",
       "876  2023-06-27  188.059998\n",
       "877  2023-06-28  189.250000\n",
       "\n",
       "[878 rows x 2 columns]"
      ]
     },
     "execution_count": 78,
     "metadata": {},
     "output_type": "execute_result"
    }
   ],
   "source": [
    "folder = \"/home/champ/code/Python4Finance/champlist/\"\n",
    "apple = get_stock_df_from_csv(folder, 'AAPL')\n",
    "type(apple.tail())\n",
    "apple"
   ]
  },
  {
   "cell_type": "code",
   "execution_count": 79,
   "id": "7bae4c8d",
   "metadata": {},
   "outputs": [
    {
     "data": {
      "text/plain": [
       "73.34793853759766"
      ]
     },
     "execution_count": 79,
     "metadata": {},
     "output_type": "execute_result"
    }
   ],
   "source": [
    "apple['Date'] = pd.to_datetime(apple['Date'])\n",
    "apple[apple['Date'] == S_DATE]['Adj Close'][0]"
   ]
  },
  {
   "cell_type": "code",
   "execution_count": 81,
   "id": "56e99ff3",
   "metadata": {},
   "outputs": [
    {
     "data": {
      "text/plain": [
       "189.25"
      ]
     },
     "execution_count": 81,
     "metadata": {},
     "output_type": "execute_result"
    }
   ],
   "source": [
    "apple[apple['Date'] == E_DATE]['Adj Close'][877]"
   ]
  },
  {
   "cell_type": "code",
   "execution_count": 110,
   "id": "d50766fd",
   "metadata": {},
   "outputs": [
    {
     "name": "stdout",
     "output_type": "stream",
     "text": [
      "Initial Price: 73.34793853759766\n",
      "Final Price: 189.25\n",
      "Adj Close\n"
     ]
    },
    {
     "data": {
      "text/plain": [
       "1.5801679470922245"
      ]
     },
     "execution_count": 110,
     "metadata": {},
     "output_type": "execute_result"
    }
   ],
   "source": [
    "appl = get_roi_defined_time(apple)\n",
    "appl"
   ]
  },
  {
   "cell_type": "code",
   "execution_count": 95,
   "id": "a3ab30be",
   "metadata": {},
   "outputs": [
    {
     "data": {
      "text/plain": [
       "0    73.347939\n",
       "Name: Adj Close, dtype: float64"
      ]
     },
     "execution_count": 95,
     "metadata": {},
     "output_type": "execute_result"
    }
   ],
   "source": [
    "apple[apple['Date'] == S_DATE]['Adj Close'][0]"
   ]
  },
  {
   "cell_type": "code",
   "execution_count": 96,
   "id": "6326bd75",
   "metadata": {},
   "outputs": [
    {
     "data": {
      "text/plain": [
       "189.25"
      ]
     },
     "execution_count": 96,
     "metadata": {},
     "output_type": "execute_result"
    }
   ],
   "source": [
    "apple[apple['Date'] == E_DATE]['Adj Close'][877]\n",
    "#E_DATE_STR"
   ]
  },
  {
   "cell_type": "code",
   "execution_count": 45,
   "id": "6ceedd89",
   "metadata": {},
   "outputs": [
    {
     "data": {
      "text/plain": [
       "str"
      ]
     },
     "execution_count": 45,
     "metadata": {},
     "output_type": "execute_result"
    }
   ],
   "source": [
    "type(E_DATE)\n",
    "type(S_DATE)"
   ]
  },
  {
   "cell_type": "code",
   "execution_count": 89,
   "id": "8735e3ce",
   "metadata": {},
   "outputs": [],
   "source": [
    "sdate, edate = get_valid_dates(apple, S_DATE, E_DATE)"
   ]
  },
  {
   "cell_type": "code",
   "execution_count": 176,
   "id": "ef278f1c",
   "metadata": {},
   "outputs": [
    {
     "data": {
      "text/plain": [
       "pandas.core.frame.DataFrame"
      ]
     },
     "execution_count": 176,
     "metadata": {},
     "output_type": "execute_result"
    }
   ],
   "source": [
    "type(apple)"
   ]
  },
  {
   "cell_type": "code",
   "execution_count": 177,
   "id": "7bdef9c8",
   "metadata": {},
   "outputs": [
    {
     "name": "stdout",
     "output_type": "stream",
     "text": [
      "<class 'pandas.core.frame.DataFrame'>\n",
      "RangeIndex: 878 entries, 0 to 877\n",
      "Data columns (total 2 columns):\n",
      " #   Column     Non-Null Count  Dtype         \n",
      "---  ------     --------------  -----         \n",
      " 0   Date       878 non-null    datetime64[ns]\n",
      " 1   Adj Close  878 non-null    float64       \n",
      "dtypes: datetime64[ns](1), float64(1)\n",
      "memory usage: 13.8 KB\n"
     ]
    }
   ],
   "source": [
    "apple.info()"
   ]
  },
  {
   "cell_type": "code",
   "execution_count": 97,
   "id": "926ff632",
   "metadata": {},
   "outputs": [
    {
     "data": {
      "image/png": "[encoded data removed]",
      "text/plain": [
       "<Figure size 432x288 with 1 Axes>"
      ]
     },
     "metadata": {
      "needs_background": "light"
     },
     "output_type": "display_data"
    }
   ],
   "source": [
    "# import matplotlib library\n",
    "#import matplotlib.pyplot as plt\n",
    "apple.set_index(['Date'])\n",
    "apple['Adj Close'].plot(kind='line')\n",
    "# create a line chart of the 'Close' column in luv_plus\n",
    "plt.plot(apple['Adj Close'])\n",
    "\n",
    "# add labels to the x and y axes\n",
    "plt.xlabel('Date')\n",
    "plt.ylabel('Closing Price')\n",
    "\n",
    "# show the plot\n",
    "plt.show()"
   ]
  },
  {
   "cell_type": "markdown",
   "id": "90345ad5",
   "metadata": {},
   "source": [
    "<font size = 6>Testing ROI Between</font>"
   ]
  },
  {
   "cell_type": "code",
   "execution_count": 109,
   "id": "20faf985",
   "metadata": {},
   "outputs": [
    {
     "data": {
      "text/html": [
       "<div>\n",
       "<style scoped>\n",
       "    .dataframe tbody tr th:only-of-type {\n",
       "        vertical-align: middle;\n",
       "    }\n",
       "\n",
       "    .dataframe tbody tr th {\n",
       "        vertical-align: top;\n",
       "    }\n",
       "\n",
       "    .dataframe thead th {\n",
       "        text-align: right;\n",
       "    }\n",
       "</style>\n",
       "<table border=\"1\" class=\"dataframe\">\n",
       "  <thead>\n",
       "    <tr style=\"text-align: right;\">\n",
       "      <th></th>\n",
       "      <th>Date</th>\n",
       "      <th>Adj Close</th>\n",
       "    </tr>\n",
       "  </thead>\n",
       "  <tbody>\n",
       "    <tr>\n",
       "      <th>100</th>\n",
       "      <td>2020-05-27</td>\n",
       "      <td>78.080223</td>\n",
       "    </tr>\n",
       "    <tr>\n",
       "      <th>101</th>\n",
       "      <td>2020-05-28</td>\n",
       "      <td>78.114594</td>\n",
       "    </tr>\n",
       "    <tr>\n",
       "      <th>102</th>\n",
       "      <td>2020-05-29</td>\n",
       "      <td>78.038513</td>\n",
       "    </tr>\n",
       "    <tr>\n",
       "      <th>103</th>\n",
       "      <td>2020-06-01</td>\n",
       "      <td>78.998222</td>\n",
       "    </tr>\n",
       "    <tr>\n",
       "      <th>104</th>\n",
       "      <td>2020-06-02</td>\n",
       "      <td>79.363960</td>\n",
       "    </tr>\n",
       "    <tr>\n",
       "      <th>...</th>\n",
       "      <td>...</td>\n",
       "      <td>...</td>\n",
       "    </tr>\n",
       "    <tr>\n",
       "      <th>873</th>\n",
       "      <td>2023-06-22</td>\n",
       "      <td>187.000000</td>\n",
       "    </tr>\n",
       "    <tr>\n",
       "      <th>874</th>\n",
       "      <td>2023-06-23</td>\n",
       "      <td>186.679993</td>\n",
       "    </tr>\n",
       "    <tr>\n",
       "      <th>875</th>\n",
       "      <td>2023-06-26</td>\n",
       "      <td>185.270004</td>\n",
       "    </tr>\n",
       "    <tr>\n",
       "      <th>876</th>\n",
       "      <td>2023-06-27</td>\n",
       "      <td>188.059998</td>\n",
       "    </tr>\n",
       "    <tr>\n",
       "      <th>877</th>\n",
       "      <td>2023-06-28</td>\n",
       "      <td>189.250000</td>\n",
       "    </tr>\n",
       "  </tbody>\n",
       "</table>\n",
       "<p>778 rows × 2 columns</p>\n",
       "</div>"
      ],
      "text/plain": [
       "          Date   Adj Close\n",
       "100 2020-05-27   78.080223\n",
       "101 2020-05-28   78.114594\n",
       "102 2020-05-29   78.038513\n",
       "103 2020-06-01   78.998222\n",
       "104 2020-06-02   79.363960\n",
       "..         ...         ...\n",
       "873 2023-06-22  187.000000\n",
       "874 2023-06-23  186.679993\n",
       "875 2023-06-26  185.270004\n",
       "876 2023-06-27  188.059998\n",
       "877 2023-06-28  189.250000\n",
       "\n",
       "[778 rows x 2 columns]"
      ]
     },
     "execution_count": 109,
     "metadata": {},
     "output_type": "execute_result"
    }
   ],
   "source": [
    "apple.loc[100: 'Date']"
   ]
  },
  {
   "cell_type": "code",
   "execution_count": 88,
   "id": "fb744c6b",
   "metadata": {},
   "outputs": [
    {
     "data": {
      "text/plain": [
       "1.5801679470922245"
      ]
     },
     "execution_count": 88,
     "metadata": {},
     "output_type": "execute_result"
    }
   ],
   "source": [
    "sdate, edate = get_valid_dates(apple, '2020-01-01', '2023-06-28')\n",
    "sdate\n",
    "edate\n",
    "roi_between_dates(apple, sdate, edate)"
   ]
  },
  {
   "cell_type": "code",
   "execution_count": 113,
   "id": "e3009287",
   "metadata": {},
   "outputs": [
    {
     "data": {
      "text/html": [
       "<style type=\"text/css\">\n",
       "#T_d17f2 thead>tr>th {\n",
       "  text-align: left;\n",
       "}\n",
       "#T_d17f2_row0_col0, #T_d17f2_row1_col0 {\n",
       "  text-align: left;\n",
       "  font-size: 12px;\n",
       "  vertical-align: middle;\n",
       "  width: 5%;\n",
       "  max-width: 50px;\n",
       "  min-width: 20px;\n",
       "}\n",
       "#T_d17f2_row0_col1, #T_d17f2_row1_col1 {\n",
       "  text-align: left;\n",
       "  font-size: 12px;\n",
       "  vertical-align: middle;\n",
       "  width: 15%;\n",
       "  max-width: 200px;\n",
       "  min-width: 100px;\n",
       "  word-break: break-word;\n",
       "}\n",
       "#T_d17f2_row0_col2, #T_d17f2_row1_col2 {\n",
       "  text-align: left;\n",
       "  font-size: 12px;\n",
       "  vertical-align: middle;\n",
       "  width: 30%;\n",
       "  min-width: 100px;\n",
       "}\n",
       "#T_d17f2_row0_col3, #T_d17f2_row1_col3 {\n",
       "  text-align: left;\n",
       "  font-size: 12px;\n",
       "  vertical-align: middle;\n",
       "  width: 25%;\n",
       "  min-width: 100px;\n",
       "}\n",
       "#T_d17f2_row0_col4, #T_d17f2_row1_col4 {\n",
       "  text-align: left;\n",
       "  font-size: 12px;\n",
       "  vertical-align: middle;\n",
       "  width: 20%;\n",
       "  min-width: 150px;\n",
       "}\n",
       "#T_d17f2_row0_col5, #T_d17f2_row1_col5 {\n",
       "  text-align: left;\n",
       "  font-size: 12px;\n",
       "  vertical-align: middle;\n",
       "  width: 10%;\n",
       "}\n",
       "</style>\n",
       "<table id=\"T_d17f2\">\n",
       "  <caption><strong>Data Frame Summary</strong><br>_<br>Dimensions: 878 x 2<br>Duplicates: 0</caption>\n",
       "  <thead>\n",
       "    <tr>\n",
       "      <th id=\"T_d17f2_level0_col0\" class=\"col_heading level0 col0\" >No</th>\n",
       "      <th id=\"T_d17f2_level0_col1\" class=\"col_heading level0 col1\" >Variable</th>\n",
       "      <th id=\"T_d17f2_level0_col2\" class=\"col_heading level0 col2\" >Stats / Values</th>\n",
       "      <th id=\"T_d17f2_level0_col3\" class=\"col_heading level0 col3\" >Freqs / (% of Valid)</th>\n",
       "      <th id=\"T_d17f2_level0_col4\" class=\"col_heading level0 col4\" >Graph</th>\n",
       "      <th id=\"T_d17f2_level0_col5\" class=\"col_heading level0 col5\" >Missing</th>\n",
       "    </tr>\n",
       "  </thead>\n",
       "  <tbody>\n",
       "    <tr>\n",
       "      <td id=\"T_d17f2_row0_col0\" class=\"data row0 col0\" >1</td>\n",
       "      <td id=\"T_d17f2_row0_col1\" class=\"data row0 col1\" ><strong>Date</strong><br>[datetime64[ns]]</td>\n",
       "      <td id=\"T_d17f2_row0_col2\" class=\"data row0 col2\" >Min: 2020-01-02<br>Max: 2023-06-28<br>Duration: 1,273 days</td>\n",
       "      <td id=\"T_d17f2_row0_col3\" class=\"data row0 col3\" >878 distinct values</td>\n",
       "      <td id=\"T_d17f2_row0_col4\" class=\"data row0 col4\" ><img src = \"data:image/png;base64, iVBORw0KGgoAAAANSUhEUgAAAG8AAAA2CAYAAADJRMdfAAAAOXRFWHRTb2Z0d2FyZQBNYXRwbG90bGliIHZlcnNpb24zLjUuMSwgaHR0cHM6Ly9tYXRwbG90bGliLm9yZy/YYfK9AAAACXBIWXMAAAsTAAALEwEAmpwYAAABOElEQVR4nO3WMU6EQBhA4dGYQDG2bGFjuMCeYE9g5QnmXnRzAjtv4D1sLKSmJMF2o5j9XVfJS97XQYB/4E3B1bIsSUzXWy9A57tZO9l13WPOeXfq5mma3sdxfLrkgracvYXo+6b09Z1X4+Wcd6WUt1MPG4bhoe/7yIe+zzm/RhbYtu2+lPL837P/4LrQ5op+65RSqrXeHR+vxotqmuY2MrjWeiilvESeWWs9bDH70tdFN9c8z/uUUijeZ7+Kp+/9ZHOdO8MfFjDjgRkPzHhgxgMzHpjxwIwHZjww44EZD8x4YMYDMx6Y8cCMB2Y8MOOBGQ/MeGDGAzMemPHAjAdmPDDjgRkPzHhgxgMzHpjxwIwHZjww44EZD8x4YMYDMx6Y8cCMB2Y8MOOBGQ/MeGDGAzMemPHAjAf2AdbKYbPYJM2IAAAAAElFTkSuQmCC\"></img></td>\n",
       "      <td id=\"T_d17f2_row0_col5\" class=\"data row0 col5\" >0<br>(0.0%)</td>\n",
       "    </tr>\n",
       "    <tr>\n",
       "      <td id=\"T_d17f2_row1_col0\" class=\"data row1 col0\" >2</td>\n",
       "      <td id=\"T_d17f2_row1_col1\" class=\"data row1 col1\" ><strong>Adj Close</strong><br>[float64]</td>\n",
       "      <td id=\"T_d17f2_row1_col2\" class=\"data row1 col2\" >Mean (sd) : 133.3 (31.1)<br>min < med < max:<br>54.9 < 140.6 < 189.2<br>IQR (CV) : 36.5 (4.3)</td>\n",
       "      <td id=\"T_d17f2_row1_col3\" class=\"data row1 col3\" >867 distinct values</td>\n",
       "      <td id=\"T_d17f2_row1_col4\" class=\"data row1 col4\" ><img src = \"data:image/png;base64, iVBORw0KGgoAAAANSUhEUgAAAHoAAAAyCAYAAACTUs/lAAAAOXRFWHRTb2Z0d2FyZQBNYXRwbG90bGliIHZlcnNpb24zLjUuMSwgaHR0cHM6Ly9tYXRwbG90bGliLm9yZy/YYfK9AAAACXBIWXMAAAsTAAALEwEAmpwYAAABVElEQVR4nO3bsW2DQBSH8UsUiebS4sIdC8QLZAhPQOu1mMBTpTA1DRISnsDxPeAO9P7fr6Y48cnvjA9/zPMc4N/n3gtAGV97L+Do6rq+xhhPKdcOw/Do+/6ee01LEPqNGOOpbdu/lGu7rjvnXs9SjG4RhBZBaBGEFkFoEYQWQWgRks/Rlh9Bpmn6CSEkPUcfmWRo448gv7nXUwKjWwShRUiO7lzGcbw0TXNLvb7kIQihN1RV1Xfq3h9C2UMQQu/IMgHWfvoJvSPLBFj76efLmAhCiyC0CEKLILQIQosgtAg3z9GKR48WbkIrHj1aMLpFEFrEJqPby/+TPNsktJf/J3nG6BZBaBGEFkFoEYQWQWgRhBZBaBGEFlH89Krku8yerL1vL0PnOt8t+S6zJ2vv28vQnO/6wh4t4tBvmFj2JcXXgywOHdq4L7F9/IPRLYLQIggt4gnOtIC74zrilAAAAABJRU5ErkJggg==\"></img></td>\n",
       "      <td id=\"T_d17f2_row1_col5\" class=\"data row1 col5\" >0<br>(0.0%)</td>\n",
       "    </tr>\n",
       "  </tbody>\n",
       "</table>\n"
      ],
      "text/plain": [
       "<pandas.io.formats.style.Styler at 0x7f6e320d6830>"
      ]
     },
     "execution_count": 113,
     "metadata": {},
     "output_type": "execute_result"
    }
   ],
   "source": [
    "dfSummary(apple)"
   ]
  },
  {
   "cell_type": "code",
   "execution_count": 115,
   "id": "fa96f96d",
   "metadata": {},
   "outputs": [
    {
     "data": {
      "text/plain": [
       "'2020-01-03'"
      ]
     },
     "execution_count": 115,
     "metadata": {},
     "output_type": "execute_result"
    }
   ],
   "source": [
    "sdate"
   ]
  },
  {
   "cell_type": "code",
   "execution_count": 119,
   "id": "45890d29",
   "metadata": {},
   "outputs": [
    {
     "data": {
      "text/plain": [
       "0.23214774517267317"
      ]
     },
     "execution_count": 119,
     "metadata": {},
     "output_type": "execute_result"
    }
   ],
   "source": [
    "get_cov_between_dates(apple, sdate, edate)"
   ]
  },
  {
   "cell_type": "code",
   "execution_count": 120,
   "id": "44134a50",
   "metadata": {},
   "outputs": [
    {
     "data": {
      "text/plain": [
       "30.96734938636406"
      ]
     },
     "execution_count": 120,
     "metadata": {},
     "output_type": "execute_result"
    }
   ],
   "source": [
    "get_std_between_dates(apple, sdate, edate)"
   ]
  },
  {
   "cell_type": "code",
   "execution_count": 121,
   "id": "b5a101d9",
   "metadata": {},
   "outputs": [
    {
     "data": {
      "text/plain": [
       "133.39500395892418"
      ]
     },
     "execution_count": 121,
     "metadata": {},
     "output_type": "execute_result"
    }
   ],
   "source": [
    "get_avg_between_dates(apple, sdate, edate)"
   ]
  },
  {
   "cell_type": "code",
   "execution_count": null,
   "id": "b6b5ba44",
   "metadata": {},
   "outputs": [],
   "source": []
  }
 ],
 "metadata": {
  "kernelspec": {
   "display_name": "Python 3 (ipykernel)",
   "language": "python",
   "name": "python3"
  },
  "language_info": {
   "codemirror_mode": {
    "name": "ipython",
    "version": 3
   },
   "file_extension": ".py",
   "mimetype": "text/x-python",
   "name": "python",
   "nbconvert_exporter": "python",
   "pygments_lexer": "ipython3",
   "version": "3.10.6"
  }
 },
 "nbformat": 4,
 "nbformat_minor": 5
}
